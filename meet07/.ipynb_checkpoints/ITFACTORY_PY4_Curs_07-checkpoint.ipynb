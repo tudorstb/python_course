{
 "cells": [
  {
   "cell_type": "markdown",
   "id": "6c9c34b6",
   "metadata": {},
   "source": [
    "# Observatii Tema_06"
   ]
  },
  {
   "cell_type": "code",
   "execution_count": 1,
   "id": "04ca0776",
   "metadata": {},
   "outputs": [
    {
     "name": "stdout",
     "output_type": "stream",
     "text": [
      "Sara\n"
     ]
    }
   ],
   "source": [
    "# Aveti grija la atributele constante , fata de cele variabile (din constructorul __init__)\n",
    "\n",
    "class Animal:\n",
    "    name = None  # atribute constant\n",
    "    age = None\n",
    "    \n",
    "    def __init__(self, name, age):\n",
    "        self.name = name  # atribute variabile din constructor\n",
    "        self.age = age \n",
    "        \n",
    "dog = Animal('Sara', 11)\n",
    "print(dog.name)"
   ]
  },
  {
   "cell_type": "code",
   "execution_count": 9,
   "id": "9864e820",
   "metadata": {},
   "outputs": [
    {
     "name": "stdout",
     "output_type": "stream",
     "text": [
      "True\n",
      "E instantea mea de masina inmatric? False\n",
      "Dar acum e? True\n"
     ]
    }
   ],
   "source": [
    "# Sa fiti atenti cand vi se cere sa schimbati valoarea unui atribut al clasei, \n",
    "# sa nu faceti greseala de a returna o valoare si sa o incarcati intr`o variabila\n",
    "\n",
    "class Car:\n",
    "    marca = \"Dacia\"\n",
    "    inmatriculata = False\n",
    "    \n",
    "    def __init__(self, model, viteza_maxima):\n",
    "        self.model = model\n",
    "        self.vitzea_maxima = viteza_maxima\n",
    "        \n",
    "    def inmatriculare_not_like_this(self):\n",
    "        inmatriculata = True\n",
    "        return inmatriculata\n",
    "    \n",
    "    def inmatriculare_like_this_please(self):\n",
    "        self.inmatriculata = True\n",
    "    \n",
    "my_car = Car('1310', 200)\n",
    "inmatriculata = my_car.inmatriculare_not_like_this()\n",
    "print(inmatriculata)\n",
    "\n",
    "print(f'E instantea mea de masina inmatric? {my_car.inmatriculata}')\n",
    "\n",
    "my_car.inmatriculare_like_this_please()\n",
    "print(f'Dar acum e? {my_car.inmatriculata}')\n"
   ]
  },
  {
   "cell_type": "code",
   "execution_count": 13,
   "id": "96950bc1",
   "metadata": {},
   "outputs": [
    {
     "name": "stdout",
     "output_type": "stream",
     "text": [
      "8\n"
     ]
    }
   ],
   "source": [
    "# Atentie odata ce v`ati definit o clasa cu niste atribute pe care le instantiati in __init__ si vi se cere sa \n",
    "# scrieti o functie cu atributele respective\n",
    "class Rectangle:\n",
    "    def __init__(self, w, l):\n",
    "        self.width = w\n",
    "        self.length = l\n",
    "        \n",
    "    def aria_not_like_this(self, w, l):\n",
    "        print(w * l)\n",
    "        \n",
    "    def aria_like_this_please(self):\n",
    "        print(self.width * self.length)\n",
    "my_rectangle = Rectangle(2,4)\n",
    "# my_rectangle.aria_not_like_this(3,6)\n",
    "my_rectangle.aria_like_this_please()"
   ]
  },
  {
   "cell_type": "code",
   "execution_count": 16,
   "id": "7208a118",
   "metadata": {},
   "outputs": [
    {
     "name": "stdout",
     "output_type": "stream",
     "text": [
      "Rex\n",
      "Tobi\n"
     ]
    }
   ],
   "source": [
    "# atribute protected: sunt accesibile doar din interiorul clasei si din interiorul claselor care o mostenesc\n",
    "class Animal:\n",
    "    \n",
    "    def __init__(self, name, age):\n",
    "        self._name = name  # scriem cu _ si inseamna atribut protected\n",
    "        self._age = age \n",
    "        \n",
    "my_dog = Animal('Rex', 2)\n",
    "print(my_dog._name)\n",
    "\n",
    "my_dog._name = 'Tobi'\n",
    "print(my_dog._name)\n"
   ]
  },
  {
   "cell_type": "code",
   "execution_count": 28,
   "id": "b6a8a393",
   "metadata": {},
   "outputs": [
    {
     "name": "stdout",
     "output_type": "stream",
     "text": [
      "Rex\n",
      "Tobi\n"
     ]
    }
   ],
   "source": [
    "# atribute private: nu sunt accesibile decat din interiorul clasei\n",
    "# daca incercam sa le accesam de altundeva, o sa primim eroare\n",
    "class Animal:\n",
    "    \n",
    "    def __init__(self, name, age):\n",
    "        self.__name = name  # scriem cu __ si inseamna atribut private\n",
    "        self.__age = age \n",
    "    \n",
    "    def print_name(self):\n",
    "        print(self.__name)\n",
    "        \n",
    "    def set_name(self, new_name):\n",
    "        self.__name = new_name\n",
    "    \n",
    "my_dog = Animal('Rex', 2)\n",
    "# my_dog.__name = 'Tobi'\n",
    "# print(my_dog.__name)  # eroare fiindca e private\n",
    "\n",
    "my_dog.print_name()\n",
    "\n",
    "my_dog.set_name(\"Tobi\")\n",
    "my_dog.print_name()\n"
   ]
  },
  {
   "cell_type": "code",
   "execution_count": 25,
   "id": "98d83977",
   "metadata": {},
   "outputs": [
    {
     "name": "stdout",
     "output_type": "stream",
     "text": [
      "5\n"
     ]
    },
    {
     "ename": "AttributeError",
     "evalue": "'Animal' object has no attribute '_Animal__age'",
     "output_type": "error",
     "traceback": [
      "\u001b[1;31m---------------------------------------------------------------------------\u001b[0m",
      "\u001b[1;31mAttributeError\u001b[0m                            Traceback (most recent call last)",
      "\u001b[1;32m~\\AppData\\Local\\Temp/ipykernel_16020/204580429.py\u001b[0m in \u001b[0;36m<module>\u001b[1;34m\u001b[0m\n\u001b[0;32m     24\u001b[0m \u001b[1;33m\u001b[0m\u001b[0m\n\u001b[0;32m     25\u001b[0m \u001b[1;32mdel\u001b[0m \u001b[0mmy_dog\u001b[0m\u001b[1;33m.\u001b[0m\u001b[0mage\u001b[0m\u001b[1;33m\u001b[0m\u001b[1;33m\u001b[0m\u001b[0m\n\u001b[1;32m---> 26\u001b[1;33m \u001b[0mprint\u001b[0m\u001b[1;33m(\u001b[0m\u001b[0mmy_dog\u001b[0m\u001b[1;33m.\u001b[0m\u001b[0mage\u001b[0m\u001b[1;33m)\u001b[0m\u001b[1;33m\u001b[0m\u001b[1;33m\u001b[0m\u001b[0m\n\u001b[0m",
      "\u001b[1;32m~\\AppData\\Local\\Temp/ipykernel_16020/204580429.py\u001b[0m in \u001b[0;36mage\u001b[1;34m(self)\u001b[0m\n\u001b[0;32m      6\u001b[0m     \u001b[1;33m@\u001b[0m\u001b[0mproperty\u001b[0m \u001b[1;31m# getter - get field value\u001b[0m\u001b[1;33m\u001b[0m\u001b[1;33m\u001b[0m\u001b[0m\n\u001b[0;32m      7\u001b[0m     \u001b[1;32mdef\u001b[0m \u001b[0mage\u001b[0m\u001b[1;33m(\u001b[0m\u001b[0mself\u001b[0m\u001b[1;33m)\u001b[0m\u001b[1;33m:\u001b[0m\u001b[1;33m\u001b[0m\u001b[1;33m\u001b[0m\u001b[0m\n\u001b[1;32m----> 8\u001b[1;33m         \u001b[1;32mreturn\u001b[0m \u001b[0mself\u001b[0m\u001b[1;33m.\u001b[0m\u001b[0m__age\u001b[0m\u001b[1;33m\u001b[0m\u001b[1;33m\u001b[0m\u001b[0m\n\u001b[0m\u001b[0;32m      9\u001b[0m \u001b[1;33m\u001b[0m\u001b[0m\n\u001b[0;32m     10\u001b[0m     \u001b[1;33m@\u001b[0m\u001b[0mage\u001b[0m\u001b[1;33m.\u001b[0m\u001b[0msetter\u001b[0m \u001b[1;31m# setter - sets a new field value\u001b[0m\u001b[1;33m\u001b[0m\u001b[1;33m\u001b[0m\u001b[0m\n",
      "\u001b[1;31mAttributeError\u001b[0m: 'Animal' object has no attribute '_Animal__age'"
     ]
    }
   ],
   "source": [
    "class Animal:\n",
    "    def __init__(self, name, age):\n",
    "        self.__name = name\n",
    "        self.__age = age\n",
    "\n",
    "    @property # getter - get field value\n",
    "    def age(self):\n",
    "        return self.__age\n",
    "\n",
    "    @age.setter # setter - sets a new field value\n",
    "    def age(self,age):\n",
    "        if age> 0:\n",
    "            self.__age = age\n",
    "        else:\n",
    "            print(\"Age must be greater than 0.\")\n",
    "\n",
    "    @age.deleter # deleter - delete the field\n",
    "    def age(self):\n",
    "        del self.__age\n",
    "\n",
    "my_dog = Animal('Sara', 11)\n",
    "my_dog.age = 5\n",
    "print(my_dog.age)\n",
    "\n",
    "del my_dog.age\n",
    "print(my_dog.age)"
   ]
  },
  {
   "cell_type": "code",
   "execution_count": null,
   "id": "cd5c56e9",
   "metadata": {},
   "outputs": [],
   "source": []
  },
  {
   "cell_type": "code",
   "execution_count": 35,
   "id": "0976a63f",
   "metadata": {},
   "outputs": [
    {
     "name": "stdout",
     "output_type": "stream",
     "text": [
      "Introduceti un numar:123\n",
      "Numarul dvs este: 123\n",
      "Ati terminat blocul de handling al exceptiilor!\n"
     ]
    }
   ],
   "source": [
    "# Vrem sa ne asiguram ca introducem de la tastatura un integer\n",
    "nr = input('Introduceti un numar:')\n",
    "try:\n",
    "    # executie normala, fara erori\n",
    "    nr = int(nr)\n",
    "except: \n",
    "    # se intra daca pe try a aparut o exceptie\n",
    "    print('Inputul dvs nu e un numar')\n",
    "else:\n",
    "    # se exec cand nu apare exceptia in try (merge in continuarea try-ului)\n",
    "    print(f'Numarul dvs este: {nr}')\n",
    "finally:\n",
    "    # se executa intotdeauna\n",
    "    print(\"Ati terminat blocul de handling al exceptiilor!\")"
   ]
  },
  {
   "cell_type": "code",
   "execution_count": 39,
   "id": "80c414b8",
   "metadata": {},
   "outputs": [
    {
     "name": "stdout",
     "output_type": "stream",
     "text": [
      "Introduceti un numar:qwe\n",
      "Ati terminat blocul de handling al exceptiilor!\n"
     ]
    },
    {
     "ename": "Exception",
     "evalue": "Inputul dvs nu e un numar",
     "output_type": "error",
     "traceback": [
      "\u001b[1;31m---------------------------------------------------------------------------\u001b[0m",
      "\u001b[1;31mValueError\u001b[0m                                Traceback (most recent call last)",
      "\u001b[1;32m~\\AppData\\Local\\Temp/ipykernel_16020/1543562263.py\u001b[0m in \u001b[0;36mget_input\u001b[1;34m()\u001b[0m\n\u001b[0;32m      4\u001b[0m         \u001b[1;31m# executie normala, fara erori\u001b[0m\u001b[1;33m\u001b[0m\u001b[1;33m\u001b[0m\u001b[1;33m\u001b[0m\u001b[0m\n\u001b[1;32m----> 5\u001b[1;33m         \u001b[0mnr\u001b[0m \u001b[1;33m=\u001b[0m \u001b[0mint\u001b[0m\u001b[1;33m(\u001b[0m\u001b[0mnr\u001b[0m\u001b[1;33m)\u001b[0m\u001b[1;33m\u001b[0m\u001b[1;33m\u001b[0m\u001b[0m\n\u001b[0m\u001b[0;32m      6\u001b[0m     \u001b[1;32mexcept\u001b[0m \u001b[1;33m:\u001b[0m\u001b[1;33m\u001b[0m\u001b[1;33m\u001b[0m\u001b[0m\n",
      "\u001b[1;31mValueError\u001b[0m: invalid literal for int() with base 10: 'qwe'",
      "\nDuring handling of the above exception, another exception occurred:\n",
      "\u001b[1;31mException\u001b[0m                                 Traceback (most recent call last)",
      "\u001b[1;32m~\\AppData\\Local\\Temp/ipykernel_16020/1543562263.py\u001b[0m in \u001b[0;36m<module>\u001b[1;34m\u001b[0m\n\u001b[0;32m     18\u001b[0m \u001b[1;33m\u001b[0m\u001b[0m\n\u001b[0;32m     19\u001b[0m \u001b[1;33m\u001b[0m\u001b[0m\n\u001b[1;32m---> 20\u001b[1;33m \u001b[0mnr\u001b[0m \u001b[1;33m=\u001b[0m \u001b[0mget_input\u001b[0m\u001b[1;33m(\u001b[0m\u001b[1;33m)\u001b[0m\u001b[1;33m\u001b[0m\u001b[1;33m\u001b[0m\u001b[0m\n\u001b[0m\u001b[0;32m     21\u001b[0m \u001b[0mnr\u001b[0m \u001b[1;33m=\u001b[0m \u001b[0mnr\u001b[0m \u001b[1;33m*\u001b[0m \u001b[1;36m100\u001b[0m\u001b[1;33m\u001b[0m\u001b[1;33m\u001b[0m\u001b[0m\n\u001b[0;32m     22\u001b[0m \u001b[0mprint\u001b[0m\u001b[1;33m(\u001b[0m\u001b[0mnr\u001b[0m\u001b[1;33m)\u001b[0m\u001b[1;33m\u001b[0m\u001b[1;33m\u001b[0m\u001b[0m\n",
      "\u001b[1;32m~\\AppData\\Local\\Temp/ipykernel_16020/1543562263.py\u001b[0m in \u001b[0;36mget_input\u001b[1;34m()\u001b[0m\n\u001b[0;32m      6\u001b[0m     \u001b[1;32mexcept\u001b[0m \u001b[1;33m:\u001b[0m\u001b[1;33m\u001b[0m\u001b[1;33m\u001b[0m\u001b[0m\n\u001b[0;32m      7\u001b[0m         \u001b[1;31m# se intra daca pe try a aparut o exceptie\u001b[0m\u001b[1;33m\u001b[0m\u001b[1;33m\u001b[0m\u001b[1;33m\u001b[0m\u001b[0m\n\u001b[1;32m----> 8\u001b[1;33m         \u001b[1;32mraise\u001b[0m \u001b[0mException\u001b[0m\u001b[1;33m(\u001b[0m\u001b[1;34m'Inputul dvs nu e un numar'\u001b[0m\u001b[1;33m)\u001b[0m\u001b[1;33m\u001b[0m\u001b[1;33m\u001b[0m\u001b[0m\n\u001b[0m\u001b[0;32m      9\u001b[0m \u001b[1;31m#         print('sdada')\u001b[0m\u001b[1;33m\u001b[0m\u001b[1;33m\u001b[0m\u001b[1;33m\u001b[0m\u001b[0m\n\u001b[0;32m     10\u001b[0m     \u001b[1;32melse\u001b[0m\u001b[1;33m:\u001b[0m\u001b[1;33m\u001b[0m\u001b[1;33m\u001b[0m\u001b[0m\n",
      "\u001b[1;31mException\u001b[0m: Inputul dvs nu e un numar"
     ]
    }
   ],
   "source": [
    "def get_input():\n",
    "    nr = input('Introduceti un numar:')\n",
    "    try:\n",
    "        # executie normala, fara erori\n",
    "        nr = int(nr)\n",
    "    except : \n",
    "        # se intra daca pe try a aparut o exceptie\n",
    "        raise Exception('Inputul dvs nu e un numar')\n",
    "#         print('sdada')\n",
    "    else:\n",
    "        # se exec cand nu apare exceptia in try (merge in continuarea try-ului)\n",
    "        print(f'Numarul dvs este: {nr}')\n",
    "        return nr\n",
    "        \n",
    "    finally:\n",
    "        # se executa intotdeauna\n",
    "        print(\"Ati terminat blocul de handling al exceptiilor!\")\n",
    "\n",
    "\n",
    "nr = get_input()\n",
    "nr = nr * 100\n",
    "print(nr)"
   ]
  },
  {
   "cell_type": "code",
   "execution_count": 44,
   "id": "41b64e25",
   "metadata": {},
   "outputs": [
    {
     "name": "stdout",
     "output_type": "stream",
     "text": [
      "Introduceti un numar:qwe\n",
      "Aveti o exceptie de tip ValueError: invalid literal for int() with base 10: 'qwe'\n",
      "Ati terminat blocul de handling al exceptiilor!\n"
     ]
    }
   ],
   "source": [
    "# Vrem sa ne asiguram ca introducem de la tastatura un integer\n",
    "nr = input('Introduceti un numar:')\n",
    "try:\n",
    "    # executie normala, fara erori\n",
    "    nr = int(nr)\n",
    "except ValueError as e: \n",
    "    # se intra daca pe try a aparut o exceptie\n",
    "    print(f'Aveti o exceptie de tip ValueError: {e}')\n",
    "\n",
    "else:\n",
    "    # se exec cand nu apare exceptia in try (merge in continuarea try-ului)\n",
    "    print(f'Numarul dvs este: {nr}')\n",
    "finally:\n",
    "    # se executa intotdeauna\n",
    "    print(\"Ati terminat blocul de handling al exceptiilor!\")"
   ]
  },
  {
   "cell_type": "code",
   "execution_count": 41,
   "id": "248e86b3",
   "metadata": {},
   "outputs": [
    {
     "ename": "NameError",
     "evalue": "name 'my_var_aaaa' is not defined",
     "output_type": "error",
     "traceback": [
      "\u001b[1;31m---------------------------------------------------------------------------\u001b[0m",
      "\u001b[1;31mNameError\u001b[0m                                 Traceback (most recent call last)",
      "\u001b[1;32m~\\AppData\\Local\\Temp/ipykernel_16020/3937325165.py\u001b[0m in \u001b[0;36m<module>\u001b[1;34m\u001b[0m\n\u001b[1;32m----> 1\u001b[1;33m \u001b[1;32mif\u001b[0m \u001b[0mmy_var_aaaa\u001b[0m\u001b[1;33m:\u001b[0m\u001b[1;33m\u001b[0m\u001b[1;33m\u001b[0m\u001b[0m\n\u001b[0m\u001b[0;32m      2\u001b[0m     \u001b[0mprint\u001b[0m\u001b[1;33m(\u001b[0m\u001b[1;34m'da exista variabila'\u001b[0m\u001b[1;33m)\u001b[0m\u001b[1;33m\u001b[0m\u001b[1;33m\u001b[0m\u001b[0m\n",
      "\u001b[1;31mNameError\u001b[0m: name 'my_var_aaaa' is not defined"
     ]
    }
   ],
   "source": [
    "if my_var_aaaa:\n",
    "    print('da exista variabila')"
   ]
  },
  {
   "cell_type": "code",
   "execution_count": 52,
   "id": "e783002e",
   "metadata": {},
   "outputs": [
    {
     "name": "stdout",
     "output_type": "stream",
     "text": [
      "Introduceti un numar:qwe\n",
      "Aveti o exceptie: division by zero\n",
      "Ati terminat blocul de handling al exceptiilor!\n"
     ]
    }
   ],
   "source": [
    "# Vrem sa ne asiguram ca introducem de la tastatura un integer\n",
    "nr = input('Introduceti un numar:')\n",
    "try:\n",
    "    # executie normala, fara erori\n",
    "    print(2/0)\n",
    "    if my_var_aaaa:\n",
    "        print('Da, variabila exista')\n",
    "    nr = int(nr)\n",
    "except ValueError as e: \n",
    "    # se intra daca pe try a aparut o exceptie\n",
    "    print(f'Aveti o exceptie de tip ValueError: {e}')\n",
    "except NameError as e:\n",
    "    print(f'Aveti o exceptie NameError: {e}')\n",
    "except Exception as e:\n",
    "    print(f'Aveti o exceptie: {e}')\n",
    "\n",
    "else:\n",
    "    # se exec cand nu apare exceptia in try (merge in continuarea try-ului)\n",
    "    print(f'Numarul dvs este: {nr}')\n",
    "finally:\n",
    "    # se executa intotdeauna\n",
    "    print(\"Ati terminat blocul de handling al exceptiilor!\")"
   ]
  },
  {
   "cell_type": "code",
   "execution_count": 51,
   "id": "80aeb169",
   "metadata": {},
   "outputs": [
    {
     "ename": "ZeroDivisionError",
     "evalue": "division by zero",
     "output_type": "error",
     "traceback": [
      "\u001b[1;31m---------------------------------------------------------------------------\u001b[0m",
      "\u001b[1;31mZeroDivisionError\u001b[0m                         Traceback (most recent call last)",
      "\u001b[1;32m~\\AppData\\Local\\Temp/ipykernel_16020/3627099327.py\u001b[0m in \u001b[0;36m<module>\u001b[1;34m\u001b[0m\n\u001b[1;32m----> 1\u001b[1;33m \u001b[1;36m2\u001b[0m\u001b[1;33m/\u001b[0m\u001b[1;36m0\u001b[0m\u001b[1;33m\u001b[0m\u001b[1;33m\u001b[0m\u001b[0m\n\u001b[0m",
      "\u001b[1;31mZeroDivisionError\u001b[0m: division by zero"
     ]
    }
   ],
   "source": [
    "2/0"
   ]
  },
  {
   "cell_type": "code",
   "execution_count": 58,
   "id": "0c9caf85",
   "metadata": {},
   "outputs": [
    {
     "name": "stdout",
     "output_type": "stream",
     "text": [
      "Bird created\n",
      "Penguin created\n",
      "I am a penguin\n",
      "I am swimming\n",
      "I am flying\n"
     ]
    },
    {
     "data": {
      "text/plain": [
       "'Pinguin'"
      ]
     },
     "execution_count": 58,
     "metadata": {},
     "output_type": "execute_result"
    }
   ],
   "source": [
    "# Inheritance: clasa parinte si clasa copila care mosteneste de la parinte toate atributele si metodele (functiile)\n",
    "class Bird:\n",
    "    name = \"Pasare\"\n",
    "    def __init__(self):\n",
    "        print('Bird created')\n",
    "        \n",
    "    def who_am_i(self):\n",
    "        print('I am a bird')\n",
    "        \n",
    "    def fly(self):\n",
    "        print('I am flying')\n",
    "\n",
    "class Penguin(Bird):\n",
    "    def __init__(self):\n",
    "        super().__init__()\n",
    "        print(\"Penguin created\")\n",
    "        self.name = 'Pinguin'\n",
    "    \n",
    "    def who_am_i(self):  # se suprascrie who_am_i de la clasa parinte!!\n",
    "        print('I am a penguin')\n",
    "        \n",
    "    def swim(self):\n",
    "        print('I am swimming')\n",
    "        \n",
    "pengu = Penguin()\n",
    "pengu.who_am_i()\n",
    "pengu.swim()\n",
    "pengu.fly()\n",
    "pengu.name"
   ]
  },
  {
   "cell_type": "code",
   "execution_count": 71,
   "id": "480cdd26",
   "metadata": {},
   "outputs": [
    {
     "name": "stdout",
     "output_type": "stream",
     "text": [
      "Penguin can't fly\n",
      "Parrot can fly\n"
     ]
    }
   ],
   "source": [
    "#Polymorphism: abilitate OOP de a permite crearea de interfete comune pt mai multe clase\n",
    "class Parrot:\n",
    "    def fly(self):\n",
    "        print(\"Parrot can fly\")\n",
    "    \n",
    "    def swim(self):\n",
    "        print(\"Parrot can't swim\")\n",
    "\n",
    "class Penguin:\n",
    "\n",
    "    def fly(self):\n",
    "        print(\"Penguin can't fly\")\n",
    "    \n",
    "    def swim(self):\n",
    "        print(\"Penguin can swim\")\n",
    "        \n",
    "# interfata comuna:\n",
    "def flying_test(bird):\n",
    "    bird.fly()\n",
    "    \n",
    "my_parrot = Parrot()\n",
    "my_penguin = Penguin()\n",
    "\n",
    "flying_test(my_penguin)\n",
    "flying_test(my_parrot)"
   ]
  },
  {
   "cell_type": "code",
   "execution_count": 66,
   "id": "098d8c5d",
   "metadata": {},
   "outputs": [
    {
     "name": "stdout",
     "output_type": "stream",
     "text": [
      "The mileage is 30kmph\n",
      "Your object is a car!\n",
      "The mileage is 24kmph \n"
     ]
    },
    {
     "ename": "TypeError",
     "evalue": "Can't instantiate abstract class BMW with abstract methods mileage",
     "output_type": "error",
     "traceback": [
      "\u001b[1;31m---------------------------------------------------------------------------\u001b[0m",
      "\u001b[1;31mTypeError\u001b[0m                                 Traceback (most recent call last)",
      "\u001b[1;32m~\\AppData\\Local\\Temp/ipykernel_16020/2685629239.py\u001b[0m in \u001b[0;36m<module>\u001b[1;34m\u001b[0m\n\u001b[0;32m     34\u001b[0m \u001b[0mduster\u001b[0m\u001b[1;33m.\u001b[0m\u001b[0mmileage\u001b[0m\u001b[1;33m(\u001b[0m\u001b[1;33m)\u001b[0m\u001b[1;33m\u001b[0m\u001b[1;33m\u001b[0m\u001b[0m\n\u001b[0;32m     35\u001b[0m \u001b[1;33m\u001b[0m\u001b[0m\n\u001b[1;32m---> 36\u001b[1;33m \u001b[0mbmw\u001b[0m \u001b[1;33m=\u001b[0m \u001b[0mBMW\u001b[0m\u001b[1;33m(\u001b[0m\u001b[1;33m)\u001b[0m\u001b[1;33m\u001b[0m\u001b[1;33m\u001b[0m\u001b[0m\n\u001b[0m",
      "\u001b[1;31mTypeError\u001b[0m: Can't instantiate abstract class BMW with abstract methods mileage"
     ]
    }
   ],
   "source": [
    "# Abstraction\n",
    "from abc import ABC, abstractmethod   # we imported the abc module to create an abstract class/method\n",
    "\n",
    "class Car(ABC):\n",
    "    # normal method\n",
    "    def description(self):\n",
    "        print(\"Your object is a car!\")\n",
    "        \n",
    "    @abstractmethod      # this is abstraction, we dont provide the actual implementation of the function, \n",
    "    def mileage(self):   # every child object will have to implement it\n",
    "        pass\n",
    "#         print(\"The mileage is unknown in here!!\")   # usually this is not implemented, we just have a pass\n",
    "\n",
    "class Tesla(Car):         # Tesla inherits from Car the 2 methods, one of them is an abstract method \n",
    "    def mileage(self):   \n",
    "        print(\"The mileage is 30kmph\")\n",
    "        \n",
    "class Duster(Car):   \n",
    "    def mileage(self):   \n",
    "        print(\"The mileage is 24kmph \")\n",
    "        \n",
    "class Volkswagen(Car):   \n",
    "    def mileage(self):   \n",
    "        print(\"The mileage is 27kmph \")\n",
    "        \n",
    "class BMW(Car):\n",
    "    pass\n",
    "\n",
    "\n",
    "tesla = Tesla()\n",
    "tesla.mileage()\n",
    "tesla.description()\n",
    "\n",
    "duster = Duster()\n",
    "duster.mileage()\n",
    "\n",
    "bmw = BMW()  # eroare, BMW nu implementeaza metoda abstracta mileage\n"
   ]
  },
  {
   "cell_type": "code",
   "execution_count": 73,
   "id": "b65dcd6a",
   "metadata": {},
   "outputs": [
    {
     "name": "stdout",
     "output_type": "stream",
     "text": [
      "Selling Price: 900\n",
      "Selling Price: 900\n",
      "Selling Price: 1000\n"
     ]
    },
    {
     "ename": "AttributeError",
     "evalue": "'Computer' object has no attribute 'hidden'",
     "output_type": "error",
     "traceback": [
      "\u001b[1;31m---------------------------------------------------------------------------\u001b[0m",
      "\u001b[1;31mAttributeError\u001b[0m                            Traceback (most recent call last)",
      "\u001b[1;32m~\\AppData\\Local\\Temp/ipykernel_16020/364340152.py\u001b[0m in \u001b[0;36m<module>\u001b[1;34m\u001b[0m\n\u001b[0;32m     22\u001b[0m \u001b[0mmy_pc\u001b[0m\u001b[1;33m.\u001b[0m\u001b[0msell\u001b[0m\u001b[1;33m(\u001b[0m\u001b[1;33m)\u001b[0m\u001b[1;33m\u001b[0m\u001b[1;33m\u001b[0m\u001b[0m\n\u001b[0;32m     23\u001b[0m \u001b[1;33m\u001b[0m\u001b[0m\n\u001b[1;32m---> 24\u001b[1;33m \u001b[0mmy_pc\u001b[0m\u001b[1;33m.\u001b[0m\u001b[0mhidden\u001b[0m\u001b[1;33m(\u001b[0m\u001b[1;33m)\u001b[0m\u001b[1;33m\u001b[0m\u001b[1;33m\u001b[0m\u001b[0m\n\u001b[0m",
      "\u001b[1;31mAttributeError\u001b[0m: 'Computer' object has no attribute 'hidden'"
     ]
    }
   ],
   "source": [
    "# Encapsulation\n",
    "class Computer:\n",
    "\n",
    "    def __init__(self):\n",
    "        self.__maxprice = 900\n",
    "\n",
    "    def sell(self):\n",
    "        print(\"Selling Price: {}\".format(self.__maxprice))\n",
    "\n",
    "    def set_max_price(self, price):\n",
    "        self.__maxprice = price\n",
    "    \n",
    "    def __hidden(self):\n",
    "        print(\"I am hidden\")\n",
    "    \n",
    "my_pc = Computer()\n",
    "my_pc.sell()\n",
    "\n",
    "my_pc.__maxprice = 1000\n",
    "my_pc.sell()\n",
    "\n",
    "my_pc.set_max_price(1000)\n",
    "my_pc.sell()\n",
    "\n"
   ]
  },
  {
   "cell_type": "code",
   "execution_count": 80,
   "id": "6657d37b",
   "metadata": {},
   "outputs": [],
   "source": [
    "# Creati o clasa Student cu 2 atribute, un nume si o nota. \n",
    "# Instantiati cele 2 fielduri prin intermediul constructorului.\n",
    "# a) Scrieti 2 functii pentru nota: get_grade care sa returneze nota studentului si set_grade care sa ii modifice nota.\n",
    "# Asigurativa ca e si logic, nu doar ca functioneaza:)!\n",
    "# b) Scrieti o functie care sa descrie elevul: \"The student`s name is .... and has the grade ...\"\n",
    "# c) Creati o lista de studenti primita ca input de la tastatura; dupa ce ati construit-o, afisati descrierea fiecarui student\n",
    "# d) Filtrati lista de studenti (sau construiti una noua) astfel incat sa ramana doar acei studenti care au o nota de trecere:\n",
    "# de preferat determinati daca studentul are nota de trecere sau nu folosindu`va de o alta functie a clasei Student \n",
    "\n",
    "class Student:\n",
    "    def __init__(self,nume,nota):\n",
    "        self.nume=nume\n",
    "        self.nota=nota\n",
    "    def get_grade(self):\n",
    "        return self.nota\n",
    "    def set_grade(self,nota_noua):\n",
    "        verify = True\n",
    "        while verify:\n",
    "            try:\n",
    "                nota_noua = int(nota_noua)\n",
    "                assert nota_noua>=0 and nota_noua<=10\n",
    "            except:\n",
    "                print(\"invalid option choose\")\n",
    "                nota_noua = input('Selectati noua nota nota:')\n",
    "            else:\n",
    "                verify=False\n",
    "                self.nota = nota_noua\n",
    "    def student_profile(self):\n",
    "        print(f'Students name is {self.nume} and has graade {self.nota}')\n",
    "\n",
    "list_of_stud=[]\n",
    "while True:\n",
    "\n",
    "    student_name=input(\"Student name (insert Stop if you wish to finish adding students to our list)=\")\n",
    "    if student_name==\"Stop\":\n",
    "        break\n",
    "    student_nota=int(input('Student grade='))\n",
    "    student1=Student(student_name,student_nota)\n",
    "    list_of_stud.append(student1)\n",
    "    # print(type(student1))\n",
    "# student2=Student('Bogdan',7)\n",
    "# print(type(student2))\n",
    "# student3=Student('Liviu',9)\n",
    "# list_of_stud.append(student1)\n",
    "# list_of_stud.append(student2)\n",
    "# list_of_stud.append(student3)\n",
    "\n",
    "for elem in list_of_stud:\n",
    "    elem.student_profile()\n",
    "# d) Filtrati lista de studenti (sau construiti una noua) astfel incat sa ramana doar acei studenti care au o nota de trecere:\n",
    "# de preferat determinati daca studentul are nota de trecere sau nu folosindu`va de o alta functie a clasei Student\n",
    "\n",
    "pass_students=[]\n",
    "print('EX D')\n",
    "for elem in list_of_stud:\n",
    "    if elem.get_grade()>=5:\n",
    "        pass_students.append(elem)\n",
    "for elem in pass_students:\n",
    "    elem.student_profile()\n",
    "\n",
    "#V2\n",
    "print('V2')\n",
    "def is_passing_grade(stud):\n",
    "    return stud.get_grade()>=5\n",
    "list_of_stud_v2=list(filter(is_passing_grade,list_of_stud))  # functia filter(func, iterabila) permite filtrearea elementelor din \n",
    "# iterabila data ca argument pe baza functiei func, unde iterabila poate fi o lista, string, tupla, dict...\n",
    "# de observat ca in interiorul filter nu chemam functia is_passing_grade cu (), ce se intampla acolo?!?:\n",
    "# practic pentru fiecare valoare din list_of_stud se apeleaza is_passing_grade\n",
    "for elem in list_of_stud_v2:\n",
    "    elem.student_profile()\n",
    "    \n",
    "# V3\n",
    "print('V3')\n",
    "list_of_stud_v3=list(filter(lambda x:x.get_grade()>=5,list_of_stud))  # lambda e o functie anonima, e echivalentul functiei is_passing_grade\n",
    "# o sa revenim la filter si functii lambda, nu va faceti probleme :)\n",
    "\n",
    "\n",
    "    "
   ]
  },
  {
   "cell_type": "code",
   "execution_count": 83,
   "id": "ced7ca12",
   "metadata": {},
   "outputs": [
    {
     "name": "stdout",
     "output_type": "stream",
     "text": [
      "[3, 6, 9, 21, 24]\n",
      "[3, 6, 9, 21, 24]\n"
     ]
    }
   ],
   "source": [
    "# alt exemplu de a filtra o lista de int`uri astfel incat sa ramana doar elementele divizibile cu 3\n",
    "def is_divi_by_3(number):\n",
    "    return number % 3 == 0\n",
    "\n",
    "a_list = [1,2,3,4,5,6,7,8,9,20,21,22,23,24]\n",
    "res_list = list(filter(is_divi_by_3, a_list))\n",
    "print(res_list)\n",
    "\n",
    "# v2 - folosind lambda\n",
    "print(list(filter(lambda x: x % 3 == 0, a_list)))\n"
   ]
  },
  {
   "cell_type": "code",
   "execution_count": null,
   "id": "4abcc06f",
   "metadata": {},
   "outputs": [],
   "source": []
  }
 ],
 "metadata": {
  "kernelspec": {
   "display_name": "Python 3 (ipykernel)",
   "language": "python",
   "name": "python3"
  },
  "language_info": {
   "codemirror_mode": {
    "name": "ipython",
    "version": 3
   },
   "file_extension": ".py",
   "mimetype": "text/x-python",
   "name": "python",
   "nbconvert_exporter": "python",
   "pygments_lexer": "ipython3",
   "version": "3.10.3"
  }
 },
 "nbformat": 4,
 "nbformat_minor": 5
}
