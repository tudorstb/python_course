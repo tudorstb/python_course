{
 "cells": [
  {
   "cell_type": "code",
   "execution_count": null,
   "id": "8250b6c6",
   "metadata": {},
   "outputs": [],
   "source": [
    "# shift+enter ruleaza blockul de cod in jupyter-notebook"
   ]
  },
  {
   "cell_type": "code",
   "execution_count": 1,
   "id": "c57b6e38",
   "metadata": {},
   "outputs": [
    {
     "name": "stdout",
     "output_type": "stream",
     "text": [
      "Hello Pythonistas!\n"
     ]
    }
   ],
   "source": [
    "print('Hello Pythonistas!')"
   ]
  },
  {
   "cell_type": "code",
   "execution_count": 6,
   "id": "6f19040a",
   "metadata": {},
   "outputs": [
    {
     "name": "stdout",
     "output_type": "stream",
     "text": [
      "hello\n",
      "10\n"
     ]
    }
   ],
   "source": [
    "# acesta este un comentariu\n",
    "print('hello')  # si acesta este tot un comentariu\n",
    "a = 10\n",
    "print(a)"
   ]
  },
  {
   "cell_type": "code",
   "execution_count": null,
   "id": "abb5c96f",
   "metadata": {},
   "outputs": [],
   "source": []
  },
  {
   "cell_type": "code",
   "execution_count": 7,
   "id": "d326318e",
   "metadata": {},
   "outputs": [],
   "source": [
    "# Python este un limbaj interpretat, nu compilat\n",
    "# interpretat = codul e citit linie cu linie\n",
    "# compilat = codul este transformat in bytecode, care apoi este rulat in intregime"
   ]
  },
  {
   "cell_type": "code",
   "execution_count": 8,
   "id": "0723e725",
   "metadata": {},
   "outputs": [],
   "source": [
    "#255  (11111111)    = 2^7*1 + 2^6*1 + ....... + 2^0*1 \n",
    "###### 76543210"
   ]
  },
  {
   "cell_type": "code",
   "execution_count": 18,
   "id": "a612e57c",
   "metadata": {},
   "outputs": [
    {
     "name": "stdout",
     "output_type": "stream",
     "text": [
      "tot un string\n",
      "pe 2 linii\n",
      "\n"
     ]
    }
   ],
   "source": [
    "''' Acesta este un comentariu\n",
    " care se intinde pe mai multe linii'''\n",
    "\n",
    "\n",
    "# cand punem 3 ghilimele ni se deschide commentariu\n",
    "\n",
    "\"\"\"\n",
    "Si ghilimelele duble functioneaza!!!\n",
    "for sure!\n",
    "\"\"\"\n",
    "\n",
    "\n",
    "s = '''un str\n",
    "ing'''\n",
    "\n",
    "\n",
    "s1 = \"\"\"tot un string\n",
    "pe 2 linii\n",
    "\"\"\"\n",
    "\n",
    "print(s1)"
   ]
  },
  {
   "cell_type": "code",
   "execution_count": 19,
   "id": "5425617d",
   "metadata": {},
   "outputs": [],
   "source": [
    "# Variabila:\n",
    "# are o valoare, un nume, o locatie in memorie unde se pune"
   ]
  },
  {
   "cell_type": "code",
   "execution_count": 20,
   "id": "6b912b61",
   "metadata": {},
   "outputs": [],
   "source": [
    "my_var = 10"
   ]
  },
  {
   "cell_type": "code",
   "execution_count": 23,
   "id": "709de868",
   "metadata": {},
   "outputs": [],
   "source": [
    "# conventii de naming generale:\n",
    "# snake_case -> cel mai folosit in python pt numele de variabile si functii\n",
    "my_var = 10\n",
    "# camelCase\n",
    "myVar = 11\n",
    "# PascalCase -> in general folosit la numele claselor\n",
    "class MyFirstClass(object):\n",
    "    pass\n",
    "MyVar = 12\n",
    "# kebab-case  -> nu merge in python\n",
    "# my-var = 13"
   ]
  },
  {
   "cell_type": "code",
   "execution_count": 28,
   "id": "22bb0cc5",
   "metadata": {},
   "outputs": [],
   "source": [
    "# conventii python:\n",
    "# 2var = 16\n",
    "# numele de var nu poate sa inceapa cu: numar, caractere speciale\n",
    "# pot incepe in general cu litera sau _\n",
    "_my_var = 11 \n",
    "my_var2 = 10"
   ]
  },
  {
   "cell_type": "code",
   "execution_count": 29,
   "id": "76e34c33",
   "metadata": {},
   "outputs": [
    {
     "name": "stdout",
     "output_type": "stream",
     "text": [
      "1\n"
     ]
    }
   ],
   "source": [
    "variabila_a = 1\n",
    "Variabila_a = 2\n",
    "print(variabila_a)  # Python este case sensitive"
   ]
  },
  {
   "cell_type": "code",
   "execution_count": 30,
   "id": "4d48db32",
   "metadata": {},
   "outputs": [
    {
     "name": "stdout",
     "output_type": "stream",
     "text": [
      "2\n"
     ]
    }
   ],
   "source": [
    "print(Variabila_a)"
   ]
  },
  {
   "cell_type": "code",
   "execution_count": 31,
   "id": "509ed58e",
   "metadata": {},
   "outputs": [
    {
     "name": "stdout",
     "output_type": "stream",
     "text": [
      "un string\n"
     ]
    }
   ],
   "source": [
    "# Python este tipizat dinamic (dynamically typed)\n",
    "var_a = 10\n",
    "var_a = 'un string'\n",
    "print(var_a)"
   ]
  },
  {
   "cell_type": "code",
   "execution_count": 32,
   "id": "1b86bb0a",
   "metadata": {},
   "outputs": [],
   "source": [
    "# Filosofia Python este de a optimiza timpul programatorului, nu a calculatorului\n"
   ]
  },
  {
   "cell_type": "code",
   "execution_count": 33,
   "id": "0f70f19c",
   "metadata": {},
   "outputs": [
    {
     "name": "stdout",
     "output_type": "stream",
     "text": [
      "2\n"
     ]
    }
   ],
   "source": [
    "var1, var2, var3 = 1, 2, 3\n",
    "print(var2)"
   ]
  },
  {
   "cell_type": "code",
   "execution_count": 35,
   "id": "82798147",
   "metadata": {},
   "outputs": [
    {
     "name": "stdout",
     "output_type": "stream",
     "text": [
      "Vlad\n"
     ]
    }
   ],
   "source": [
    "# Tipuri de date\n",
    "nr = 10   # int, integer (valori intregi de la -infinit la +infinit)\n",
    "nr2 = -1   # tot int\n",
    "nr3 = 1.5  # float (valori fractionare tot de la - la + infi)\n",
    "nr4 = 1+2j  # complex (parte reala + parte ireala * j)\n",
    "nume = 'Vlad'  # str, text\n",
    "adevar = True # bool (valori de adevar)\n",
    "fals = False # bool\n",
    "nume2 = \"Andrei\"\n"
   ]
  },
  {
   "cell_type": "code",
   "execution_count": 36,
   "id": "9d2f1370",
   "metadata": {},
   "outputs": [
    {
     "name": "stdout",
     "output_type": "stream",
     "text": [
      "<class 'str'>\n"
     ]
    }
   ],
   "source": [
    "print(type(nume))"
   ]
  },
  {
   "cell_type": "code",
   "execution_count": 37,
   "id": "7b4e2bce",
   "metadata": {},
   "outputs": [
    {
     "name": "stdout",
     "output_type": "stream",
     "text": [
      "weqwe\n"
     ]
    }
   ],
   "source": [
    "print(\"weqwe\")"
   ]
  },
  {
   "cell_type": "code",
   "execution_count": 39,
   "id": "d886d543",
   "metadata": {},
   "outputs": [
    {
     "name": "stdout",
     "output_type": "stream",
     "text": [
      "10\n"
     ]
    }
   ],
   "source": [
    "argument = 1\n",
    "print(argument)  # functia print accepta un argument"
   ]
  },
  {
   "cell_type": "code",
   "execution_count": 40,
   "id": "33bbf349",
   "metadata": {},
   "outputs": [
    {
     "name": "stdout",
     "output_type": "stream",
     "text": [
      "1 2\n"
     ]
    }
   ],
   "source": [
    "var1, var2, var3 = 1, 2, 3\n",
    "print(var1, var2)\n"
   ]
  },
  {
   "cell_type": "code",
   "execution_count": 44,
   "id": "201177ff",
   "metadata": {},
   "outputs": [
    {
     "name": "stdout",
     "output_type": "stream",
     "text": [
      "<class 'str'>\n",
      "<class 'int'>\n"
     ]
    }
   ],
   "source": [
    "var1, var2 = '1', '2'\n",
    "print(type(var1))\n",
    "print(type(var3))\n"
   ]
  },
  {
   "cell_type": "code",
   "execution_count": 45,
   "id": "e3313404",
   "metadata": {},
   "outputs": [
    {
     "name": "stdout",
     "output_type": "stream",
     "text": [
      "<class 'int'>\n"
     ]
    }
   ],
   "source": [
    "# type casting\n",
    "var1 = '1' # e str\n",
    "# vrem ca var1 sa fie int\n",
    "var1 = int(var1)\n",
    "print(type(var1))"
   ]
  },
  {
   "cell_type": "code",
   "execution_count": 46,
   "id": "d9c1e1ff",
   "metadata": {},
   "outputs": [
    {
     "name": "stdout",
     "output_type": "stream",
     "text": [
      "1.0\n"
     ]
    }
   ],
   "source": [
    "var1 = '1'\n",
    "var1_float = float(var1)\n",
    "print(var1_float)"
   ]
  },
  {
   "cell_type": "code",
   "execution_count": 47,
   "id": "5f8869c2",
   "metadata": {},
   "outputs": [
    {
     "ename": "ValueError",
     "evalue": "invalid literal for int() with base 10: '123a'",
     "output_type": "error",
     "traceback": [
      "\u001b[1;31m---------------------------------------------------------------------------\u001b[0m",
      "\u001b[1;31mValueError\u001b[0m                                Traceback (most recent call last)",
      "\u001b[1;32m~\\AppData\\Local\\Temp/ipykernel_10608/1945764452.py\u001b[0m in \u001b[0;36m<module>\u001b[1;34m\u001b[0m\n\u001b[0;32m      1\u001b[0m \u001b[0mmy_var\u001b[0m \u001b[1;33m=\u001b[0m \u001b[1;34m'123a'\u001b[0m\u001b[1;33m\u001b[0m\u001b[1;33m\u001b[0m\u001b[0m\n\u001b[0;32m      2\u001b[0m \u001b[1;31m# vreau sa il transform in int\u001b[0m\u001b[1;33m\u001b[0m\u001b[1;33m\u001b[0m\u001b[1;33m\u001b[0m\u001b[0m\n\u001b[1;32m----> 3\u001b[1;33m \u001b[0mmy_var\u001b[0m \u001b[1;33m=\u001b[0m \u001b[0mint\u001b[0m\u001b[1;33m(\u001b[0m\u001b[0mmy_var\u001b[0m\u001b[1;33m)\u001b[0m\u001b[1;33m\u001b[0m\u001b[1;33m\u001b[0m\u001b[0m\n\u001b[0m\u001b[0;32m      4\u001b[0m \u001b[0mprint\u001b[0m\u001b[1;33m(\u001b[0m\u001b[0mmy_var\u001b[0m\u001b[1;33m)\u001b[0m\u001b[1;33m\u001b[0m\u001b[1;33m\u001b[0m\u001b[0m\n",
      "\u001b[1;31mValueError\u001b[0m: invalid literal for int() with base 10: '123a'"
     ]
    }
   ],
   "source": [
    "my_var = '123a'\n",
    "# vreau sa il transform in int\n",
    "my_var = int(my_var)  # nu poate fi transformat in int daca nu este un numar valid\n",
    "print(my_var)  "
   ]
  },
  {
   "cell_type": "code",
   "execution_count": 50,
   "id": "18a5cc17",
   "metadata": {},
   "outputs": [
    {
     "name": "stdout",
     "output_type": "stream",
     "text": [
      "150\n",
      "<class 'str'>\n"
     ]
    }
   ],
   "source": [
    "nr = 150\n",
    "nr_str = str(nr)\n",
    "print(nr_str)\n",
    "print(type(nr_str))\n"
   ]
  },
  {
   "cell_type": "code",
   "execution_count": 53,
   "id": "0e2830a8",
   "metadata": {},
   "outputs": [
    {
     "name": "stdout",
     "output_type": "stream",
     "text": [
      "Numele meu complet este: Popescu Ion\n"
     ]
    }
   ],
   "source": [
    "nume_familie = \"Popescu\"\n",
    "prenume = \"Ion\"\n",
    "print('Numele meu complet este: ' + nume_familie + ' ' + prenume)  # aici am facut concatenare de stringuri"
   ]
  },
  {
   "cell_type": "code",
   "execution_count": 57,
   "id": "cc616a62",
   "metadata": {},
   "outputs": [
    {
     "name": "stdout",
     "output_type": "stream",
     "text": [
      "Numele meu 3 complet este: Popescu Ion\n"
     ]
    }
   ],
   "source": [
    "print(f'Numele meu complet este: {nume_familie} {prenume}')   # f-string (formatare de stringuri)"
   ]
  },
  {
   "cell_type": "code",
   "execution_count": 58,
   "id": "5be959d4",
   "metadata": {},
   "outputs": [
    {
     "name": "stdout",
     "output_type": "stream",
     "text": [
      "Suma dintre 1 si 2 este 3\n"
     ]
    }
   ],
   "source": [
    "print(f'Suma dintre 1 si 2 este {1+2}') "
   ]
  },
  {
   "cell_type": "code",
   "execution_count": 60,
   "id": "84dc11d3",
   "metadata": {},
   "outputs": [
    {
     "ename": "TypeError",
     "evalue": "can only concatenate str (not \"int\") to str",
     "output_type": "error",
     "traceback": [
      "\u001b[1;31m---------------------------------------------------------------------------\u001b[0m",
      "\u001b[1;31mTypeError\u001b[0m                                 Traceback (most recent call last)",
      "\u001b[1;32m~\\AppData\\Local\\Temp/ipykernel_10608/790016165.py\u001b[0m in \u001b[0;36m<module>\u001b[1;34m\u001b[0m\n\u001b[0;32m      1\u001b[0m \u001b[0mvarsta\u001b[0m \u001b[1;33m=\u001b[0m \u001b[1;36m20\u001b[0m\u001b[1;33m\u001b[0m\u001b[1;33m\u001b[0m\u001b[0m\n\u001b[1;32m----> 2\u001b[1;33m \u001b[0mprint\u001b[0m\u001b[1;33m(\u001b[0m\u001b[1;34m\"Ma numesc \"\u001b[0m \u001b[1;33m+\u001b[0m \u001b[0mprenume\u001b[0m \u001b[1;33m+\u001b[0m \u001b[1;34m' si am '\u001b[0m \u001b[1;33m+\u001b[0m \u001b[0mvarsta\u001b[0m \u001b[1;33m+\u001b[0m \u001b[1;34m' ani!'\u001b[0m\u001b[1;33m)\u001b[0m\u001b[1;33m\u001b[0m\u001b[1;33m\u001b[0m\u001b[0m\n\u001b[0m",
      "\u001b[1;31mTypeError\u001b[0m: can only concatenate str (not \"int\") to str"
     ]
    }
   ],
   "source": [
    "varsta = 20\n",
    "print(\"Ma numesc \" + prenume + ' si am ' + varsta + ' ani!')  # nu merge"
   ]
  },
  {
   "cell_type": "code",
   "execution_count": 61,
   "id": "1c9f0a1b",
   "metadata": {},
   "outputs": [
    {
     "name": "stdout",
     "output_type": "stream",
     "text": [
      "Ma numesc Ion si am 20 ani!\n"
     ]
    }
   ],
   "source": [
    "print(\"Ma numesc \" + prenume + ' si am ' + str(varsta) + ' ani!')  # type casting"
   ]
  },
  {
   "cell_type": "code",
   "execution_count": 62,
   "id": "f56ecdea",
   "metadata": {},
   "outputs": [
    {
     "name": "stdout",
     "output_type": "stream",
     "text": [
      "Ma numesc Ion si am 20 ani\n"
     ]
    }
   ],
   "source": [
    "print(f\"Ma numesc {prenume} si am {varsta} ani\")  # varianta cu f-string"
   ]
  },
  {
   "cell_type": "code",
   "execution_count": 64,
   "id": "c809a285",
   "metadata": {},
   "outputs": [
    {
     "name": "stdout",
     "output_type": "stream",
     "text": [
      "<class 'int'>\n"
     ]
    }
   ],
   "source": [
    "print(type(varsta))"
   ]
  },
  {
   "cell_type": "code",
   "execution_count": 65,
   "id": "cb89900f",
   "metadata": {},
   "outputs": [
    {
     "name": "stdout",
     "output_type": "stream",
     "text": [
      "Valoarea lui pi este: 3.1467123\n"
     ]
    }
   ],
   "source": [
    "pi = 3.1467123\n",
    "print(f\"Valoarea lui pi este: {pi}\")  "
   ]
  },
  {
   "cell_type": "code",
   "execution_count": 66,
   "id": "406bb9f5",
   "metadata": {},
   "outputs": [],
   "source": [
    "## TODO: Cum fac sa afisez pi doar cu 2 zecimale???\n",
    "# practic vreau sa afisez 3.14\n"
   ]
  },
  {
   "cell_type": "code",
   "execution_count": 70,
   "id": "e5a567fa",
   "metadata": {},
   "outputs": [
    {
     "name": "stdout",
     "output_type": "stream",
     "text": [
      "dupa assert\n"
     ]
    }
   ],
   "source": [
    "a = 1\n",
    "# assert conditie de adevar\n",
    "assert a == 1\n",
    "\n",
    "# cand scriem cu un = inseamna atribuire\n",
    "# cand scriem == inseamna verificare a egalitatii dintre 2 valori \n",
    "\n",
    "print('dupa assert')"
   ]
  },
  {
   "cell_type": "code",
   "execution_count": 72,
   "id": "e8adc646",
   "metadata": {},
   "outputs": [
    {
     "ename": "AssertionError",
     "evalue": "",
     "output_type": "error",
     "traceback": [
      "\u001b[1;31m---------------------------------------------------------------------------\u001b[0m",
      "\u001b[1;31mAssertionError\u001b[0m                            Traceback (most recent call last)",
      "\u001b[1;32m~\\AppData\\Local\\Temp/ipykernel_10608/2006441366.py\u001b[0m in \u001b[0;36m<module>\u001b[1;34m\u001b[0m\n\u001b[0;32m      1\u001b[0m \u001b[0ma\u001b[0m \u001b[1;33m=\u001b[0m \u001b[1;36m1\u001b[0m\u001b[1;33m\u001b[0m\u001b[1;33m\u001b[0m\u001b[0m\n\u001b[0;32m      2\u001b[0m \u001b[1;31m# assert conditie de adevar\u001b[0m\u001b[1;33m\u001b[0m\u001b[1;33m\u001b[0m\u001b[1;33m\u001b[0m\u001b[0m\n\u001b[1;32m----> 3\u001b[1;33m \u001b[1;32massert\u001b[0m \u001b[0ma\u001b[0m \u001b[1;33m==\u001b[0m \u001b[1;36m2\u001b[0m\u001b[1;33m\u001b[0m\u001b[1;33m\u001b[0m\u001b[0m\n\u001b[0m\u001b[0;32m      4\u001b[0m \u001b[1;33m\u001b[0m\u001b[0m\n\u001b[0;32m      5\u001b[0m \u001b[0mprint\u001b[0m\u001b[1;33m(\u001b[0m\u001b[1;34m'dupa assert'\u001b[0m\u001b[1;33m)\u001b[0m\u001b[1;33m\u001b[0m\u001b[1;33m\u001b[0m\u001b[0m\n",
      "\u001b[1;31mAssertionError\u001b[0m: "
     ]
    }
   ],
   "source": [
    "a = 1\n",
    "# assert conditie de adevar\n",
    "assert a == 2  # stii la ce rezultat te astepti, iar cu assert il verifici ca intr`adev e cel scontat\n",
    "\n",
    "print('dupa assert')"
   ]
  },
  {
   "cell_type": "code",
   "execution_count": 74,
   "id": "9f38b41d",
   "metadata": {},
   "outputs": [
    {
     "name": "stdout",
     "output_type": "stream",
     "text": [
      "12\n"
     ]
    }
   ],
   "source": [
    "# input() -> functie care permite input de la tastatura\n",
    "nr = input()  "
   ]
  },
  {
   "cell_type": "code",
   "execution_count": 75,
   "id": "141d9011",
   "metadata": {},
   "outputs": [
    {
     "name": "stdout",
     "output_type": "stream",
     "text": [
      "12\n"
     ]
    }
   ],
   "source": [
    "print(nr)"
   ]
  },
  {
   "cell_type": "code",
   "execution_count": 76,
   "id": "ed0ec8c8",
   "metadata": {},
   "outputs": [
    {
     "name": "stdout",
     "output_type": "stream",
     "text": [
      "<class 'str'>\n"
     ]
    }
   ],
   "source": [
    "print(type(nr))"
   ]
  },
  {
   "cell_type": "code",
   "execution_count": 77,
   "id": "943fa87d",
   "metadata": {},
   "outputs": [],
   "source": [
    "# functia input() returneaza un string!"
   ]
  },
  {
   "cell_type": "code",
   "execution_count": 84,
   "id": "d35c154e",
   "metadata": {},
   "outputs": [
    {
     "name": "stdout",
     "output_type": "stream",
     "text": [
      "Introduceti un numar: 312sdaw1\n"
     ]
    }
   ],
   "source": [
    "nr = input(\"Introduceti un numar: \")"
   ]
  },
  {
   "cell_type": "code",
   "execution_count": null,
   "id": "21e633cf",
   "metadata": {},
   "outputs": [],
   "source": [
    "# TODO: Se da variabila pass='12345mypass'. \n",
    "# Creati o bucla care sa accepte parole pana cand ati introdus`o pe cea corecta (salvata dinainte intr`o variabila pass)\n",
    "# Tip: Va puteti folosi de assert si de mecanismul de exception handling ca sa va asigurati ca parola e cea corecta"
   ]
  },
  {
   "cell_type": "code",
   "execution_count": 89,
   "id": "b853e2a6",
   "metadata": {},
   "outputs": [
    {
     "name": "stdout",
     "output_type": "stream",
     "text": [
      "Doar un text informativ: eqweq\n",
      "eqweq\n"
     ]
    }
   ],
   "source": [
    "my_name = input(\"Doar un text informativ: \")\n",
    "print(my_name)"
   ]
  },
  {
   "cell_type": "code",
   "execution_count": 96,
   "id": "ce1933d8",
   "metadata": {},
   "outputs": [
    {
     "name": "stdout",
     "output_type": "stream",
     "text": [
      "Introduceti un numar: qew\n"
     ]
    },
    {
     "ename": "ValueError",
     "evalue": "invalid literal for int() with base 10: 'qew'",
     "output_type": "error",
     "traceback": [
      "\u001b[1;31m---------------------------------------------------------------------------\u001b[0m",
      "\u001b[1;31mValueError\u001b[0m                                Traceback (most recent call last)",
      "\u001b[1;32m~\\AppData\\Local\\Temp/ipykernel_10608/4251889044.py\u001b[0m in \u001b[0;36m<module>\u001b[1;34m\u001b[0m\n\u001b[0;32m      1\u001b[0m \u001b[0mnr\u001b[0m \u001b[1;33m=\u001b[0m \u001b[0minput\u001b[0m\u001b[1;33m(\u001b[0m\u001b[1;34m'Introduceti un numar: '\u001b[0m\u001b[1;33m)\u001b[0m \u001b[1;31m# adaug 123\u001b[0m\u001b[1;33m\u001b[0m\u001b[1;33m\u001b[0m\u001b[0m\n\u001b[1;32m----> 2\u001b[1;33m \u001b[0mnr\u001b[0m \u001b[1;33m=\u001b[0m \u001b[0mint\u001b[0m\u001b[1;33m(\u001b[0m\u001b[0mnr\u001b[0m\u001b[1;33m)\u001b[0m\u001b[1;33m\u001b[0m\u001b[1;33m\u001b[0m\u001b[0m\n\u001b[0m\u001b[0;32m      3\u001b[0m \u001b[0mprint\u001b[0m\u001b[1;33m(\u001b[0m\u001b[0mnr\u001b[0m\u001b[1;33m)\u001b[0m\u001b[1;33m\u001b[0m\u001b[1;33m\u001b[0m\u001b[0m\n\u001b[0;32m      4\u001b[0m \u001b[0mprint\u001b[0m\u001b[1;33m(\u001b[0m\u001b[0mtype\u001b[0m\u001b[1;33m(\u001b[0m\u001b[0mnr\u001b[0m\u001b[1;33m)\u001b[0m\u001b[1;33m)\u001b[0m\u001b[1;33m\u001b[0m\u001b[1;33m\u001b[0m\u001b[0m\n",
      "\u001b[1;31mValueError\u001b[0m: invalid literal for int() with base 10: 'qew'"
     ]
    }
   ],
   "source": [
    "nr = input('Introduceti un numar: ') # adaug 123\n",
    "nr = int(nr)\n",
    "print(nr)\n",
    "print(type(nr))"
   ]
  },
  {
   "cell_type": "code",
   "execution_count": 95,
   "id": "5547c533",
   "metadata": {},
   "outputs": [
    {
     "name": "stdout",
     "output_type": "stream",
     "text": [
      "Introduceti un numar: wqeq\n",
      "Nu ati introdus un numar!\n"
     ]
    }
   ],
   "source": [
    "nr = input('Introduceti un numar: ')\n",
    "try:\n",
    "    nr = int(nr)\n",
    "    print(nr)\n",
    "    print(type(nr))\n",
    "except:\n",
    "    print(\"Nu ati introdus un numar!\")\n"
   ]
  },
  {
   "cell_type": "code",
   "execution_count": 97,
   "id": "c8481698",
   "metadata": {},
   "outputs": [],
   "source": [
    "# try-except-else-finally block  -> pentru a face handling la erori"
   ]
  },
  {
   "cell_type": "code",
   "execution_count": 101,
   "id": "1285911a",
   "metadata": {},
   "outputs": [
    {
     "name": "stdout",
     "output_type": "stream",
     "text": [
      "A\n",
      "25\n",
      "e\n"
     ]
    }
   ],
   "source": [
    "propozitie = \"Aceasta este o propozitie\"\n",
    "##############01234567.................\n",
    "print(propozitie[0])   # sintaxa string[index] unde index e un numar de la 0 la lungimea string`ului-1\n",
    "print(len(propozitie))\n",
    "print(propozitie[24])  # indexarea incepe de la 0\n"
   ]
  },
  {
   "cell_type": "code",
   "execution_count": 102,
   "id": "b3454ad9",
   "metadata": {},
   "outputs": [
    {
     "name": "stdout",
     "output_type": "stream",
     "text": [
      "e\n"
     ]
    }
   ],
   "source": [
    "propozitie = \"Aceasta este o propozitie\"\n",
    "# vreau sa returnez ultimu caracter din propozitie\n",
    "print(propozitie[-1])"
   ]
  },
  {
   "cell_type": "code",
   "execution_count": 105,
   "id": "95b6267c",
   "metadata": {},
   "outputs": [
    {
     "name": "stdout",
     "output_type": "stream",
     "text": [
      "a\n"
     ]
    }
   ],
   "source": [
    "alta_prop = 'O prop scurta'\n",
    "print(alta_prop[-1])   "
   ]
  },
  {
   "cell_type": "code",
   "execution_count": 107,
   "id": "5d2d9f2a",
   "metadata": {},
   "outputs": [
    {
     "name": "stdout",
     "output_type": "stream",
     "text": [
      "O prop\n"
     ]
    }
   ],
   "source": [
    "alta_prop = 'O prop scurta'\n",
    "# slicing   string[start:stop:step]  start = index de inceput; stop = index de oprire(exclude indexul); step = pas cu care sa sara peste elemente\n",
    "print(alta_prop[0:6])  # pt a returna 'O prop'"
   ]
  },
  {
   "cell_type": "code",
   "execution_count": 114,
   "id": "6f787d91",
   "metadata": {},
   "outputs": [
    {
     "name": "stdout",
     "output_type": "stream",
     "text": [
      "13\n",
      "Opo cra\n"
     ]
    }
   ],
   "source": [
    "# vrem sa afisam 'Opo cra'\n",
    "print(len(alta_prop))\n",
    "print(alta_prop[0:13:2])  # egal cu\n",
    "print(alta_prop[::2])     # asta"
   ]
  },
  {
   "cell_type": "code",
   "execution_count": 117,
   "id": "1150016f",
   "metadata": {},
   "outputs": [
    {
     "name": "stdout",
     "output_type": "stream",
     "text": [
      "scurta\n"
     ]
    }
   ],
   "source": [
    "# vrem sa afisam ultimele 6 caractere din alta_prop\n",
    "print(alta_prop[-6:])"
   ]
  },
  {
   "cell_type": "code",
   "execution_count": 125,
   "id": "3a830b8b",
   "metadata": {},
   "outputs": [
    {
     "name": "stdout",
     "output_type": "stream",
     "text": [
      "20\n",
      "<class 'str'>\n",
      "<class 'int'>\n",
      "20\n",
      "20000000\n"
     ]
    }
   ],
   "source": [
    "populatie = '20mil'\n",
    "# vreau sa castez populatie la integer si sa adaug 0-urile aferente => populatie = 20000000\n",
    "rezultat_populatie = populatie[:2]\n",
    "print(rezultat_populatie)\n",
    "print(type(rezultat_populatie))\n",
    "rezultat_populatie = int(rezultat_populatie)\n",
    "print(type(rezultat_populatie))\n",
    "print(rezultat_populatie)  # deocamdata e doar 20, ne lipsesc 6 zerouri\n",
    "rezultat_populatie = rezultat_populatie * 1000000  # echivalent cu:  rezultat_populatie *= 1000000 \n",
    "# rezultat_populatie *= 1000000  # operatorul *= ;     a = a* x  e tot una cu a *= x\n",
    "\n",
    "print(rezultat_populatie)"
   ]
  },
  {
   "cell_type": "code",
   "execution_count": 128,
   "id": "cb1fcd2a",
   "metadata": {},
   "outputs": [
    {
     "name": "stdout",
     "output_type": "stream",
     "text": [
      "7000000000\n"
     ]
    }
   ],
   "source": [
    "# cazul 2: populatie = '7bil'\n",
    "populatie = '7bil'\n",
    "# print(populatie[:2])\n",
    "populatie = int(populatie.strip('bil')) * 1_000_000_000\n",
    "print(populatie)"
   ]
  },
  {
   "cell_type": "code",
   "execution_count": null,
   "id": "2abb5ef5",
   "metadata": {},
   "outputs": [],
   "source": [
    "# TODO: indiferent ce valoare primim sa returnam integerul corect\n",
    "# testati cu populatie = '20mil' sau populatie = '7bil' sau populatie = '200000'"
   ]
  },
  {
   "cell_type": "code",
   "execution_count": 124,
   "id": "aa760730",
   "metadata": {},
   "outputs": [
    {
     "name": "stdout",
     "output_type": "stream",
     "text": [
      "2\n"
     ]
    }
   ],
   "source": [
    "a = 1\n",
    "a += 1 # se cheama in programare incrementare\n",
    "print(a)"
   ]
  },
  {
   "cell_type": "code",
   "execution_count": 144,
   "id": "38b367c5",
   "metadata": {},
   "outputs": [
    {
     "name": "stdout",
     "output_type": "stream",
     "text": [
      "!UN STRING!\n"
     ]
    }
   ],
   "source": [
    "s = '!un string!'\n",
    "print(s.upper())"
   ]
  },
  {
   "cell_type": "code",
   "execution_count": 145,
   "id": "42b4e922",
   "metadata": {},
   "outputs": [
    {
     "name": "stdout",
     "output_type": "stream",
     "text": [
      "un string!\n"
     ]
    }
   ],
   "source": [
    "print(s.lstrip('!'))"
   ]
  },
  {
   "cell_type": "code",
   "execution_count": 150,
   "id": "5ea73df9",
   "metadata": {},
   "outputs": [
    {
     "name": "stdout",
     "output_type": "stream",
     "text": [
      "!un string\n"
     ]
    }
   ],
   "source": [
    "s1 = '!un string!'\n",
    "print(s1.rstrip(\"!\"))"
   ]
  },
  {
   "cell_type": "code",
   "execution_count": 151,
   "id": "cb32a20a",
   "metadata": {},
   "outputs": [
    {
     "name": "stdout",
     "output_type": "stream",
     "text": [
      "un string!\n"
     ]
    }
   ],
   "source": [
    "s1 = '!un string!'\n",
    "print(s1.lstrip(\"!\")) "
   ]
  },
  {
   "cell_type": "code",
   "execution_count": 152,
   "id": "9d583d26",
   "metadata": {},
   "outputs": [
    {
     "data": {
      "text/plain": [
       "1"
      ]
     },
     "execution_count": 152,
     "metadata": {},
     "output_type": "execute_result"
    }
   ],
   "source": [
    "s1.count('u')"
   ]
  },
  {
   "cell_type": "code",
   "execution_count": 155,
   "id": "7919509b",
   "metadata": {},
   "outputs": [
    {
     "name": "stdout",
     "output_type": "stream",
     "text": [
      "o propozitie care are o greseala\n"
     ]
    }
   ],
   "source": [
    "s1 = '0 pr0p0zitie care are 0 greseala'\n",
    "# vreau sa pun o in locul zerourilor\n",
    "print(s1.replace('0', 'o'))  # sa fiti atenti la s1"
   ]
  },
  {
   "cell_type": "code",
   "execution_count": 156,
   "id": "0b219dcd",
   "metadata": {},
   "outputs": [],
   "source": [
    "s1.replace?    # in jupyter-notebook puteti obtine semnatura functiei cu: functie?"
   ]
  },
  {
   "cell_type": "code",
   "execution_count": 157,
   "id": "87164ac5",
   "metadata": {},
   "outputs": [
    {
     "name": "stdout",
     "output_type": "stream",
     "text": [
      "0 pr0p0zitie care are 0 greseala\n"
     ]
    }
   ],
   "source": [
    "print(s1)   # atentie s1.replace nu modifica stringul, de ce? stringul nu e modificabil!!!! (immutable)"
   ]
  },
  {
   "cell_type": "code",
   "execution_count": 161,
   "id": "9cce0c5e",
   "metadata": {},
   "outputs": [
    {
     "name": "stdout",
     "output_type": "stream",
     "text": [
      "o propozitie care are o greseala\n"
     ]
    }
   ],
   "source": [
    "s2 = s1.replace('0', 'o')  # foarte important sa atribuiti la o variabila cu my_var = string.replace(....)\n",
    "print(s2)"
   ]
  },
  {
   "cell_type": "code",
   "execution_count": null,
   "id": "c7728cce",
   "metadata": {},
   "outputs": [],
   "source": []
  }
 ],
 "metadata": {
  "kernelspec": {
   "display_name": "Python 3 (ipykernel)",
   "language": "python",
   "name": "python3"
  },
  "language_info": {
   "codemirror_mode": {
    "name": "ipython",
    "version": 3
   },
   "file_extension": ".py",
   "mimetype": "text/x-python",
   "name": "python",
   "nbconvert_exporter": "python",
   "pygments_lexer": "ipython3",
   "version": "3.10.2"
  }
 },
 "nbformat": 4,
 "nbformat_minor": 5
}
