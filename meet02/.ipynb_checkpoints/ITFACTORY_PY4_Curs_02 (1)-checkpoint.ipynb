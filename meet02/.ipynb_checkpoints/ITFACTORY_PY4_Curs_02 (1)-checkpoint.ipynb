{
 "cells": [
  {
   "cell_type": "markdown",
   "id": "34841f73",
   "metadata": {},
   "source": [
    "# Tema 01 - observatii si rezolvari"
   ]
  },
  {
   "cell_type": "code",
   "execution_count": 5,
   "id": "0bd79fc6",
   "metadata": {},
   "outputs": [],
   "source": [
    "# model de afisare a raspunsului:\n",
    "\n",
    "# Ex1: In cadrul unui comentariu, explicati cu cuvintele voastre ce este o variabila \n",
    "print(\"Ex1: \\nO variabila este o locatie din memorie, care are un nume si stocheaza o valoare\")\n",
    "\n",
    "# Ex2: Declarati si initializati cate o variabila din fiecare din urmatoarele tipuri: string, int, float, bool\n",
    "# Valorile le alegeti voi dupa preferinte\n",
    "print(\"\\nEx2: \")   # aici puteti pune si cerinta daca vreti... de exemplu:\n",
    "print(\"Ex2: Declarati si initializati cate o variabila din fiecare din urmatoarele tipuri: string, int, float, bool. Valorile le alegeti voi dupa preferinte\")\n",
    "\n",
    "var_str = 'qwe'\n",
    "var_int = 10\n",
    "var_float = 3.14\n",
    "var_bool = True\n",
    "\n",
    "\n",
    "# Ex3: Utilizat functia type pentru a verifica daca au tipul de date asteptat\n",
    "print(\"\\nEx3: \")\n",
    "print(f\"Variabila cu valoarea = {var_str} are tipul = {type(var_str)}\")\n",
    "print(f\"Variabila cu valoarea = {var_int} are tipul = {type(var_int)}\")\n",
    "print(f\"Variabila cu valoarea = {var_float} are tipul = {type(var_float)}\")\n",
    "print(f\"Variabila cu valoarea = {var_bool} are tipul = {type(var_bool)}\")\n",
    "\n",
    "\n",
    "# Ex4: Rotunjiti float-ul folosind functia round() si salvati aceasta modificare in aceeasi variabila (suprascriere).\n",
    "# Verificati tipul acesteia\n",
    "print(\"\\nEx4: \")\n",
    "var_float = round(var_float)\n",
    "print(f\"Variabila float rotunjita = {var_float}\")\n",
    "print(f\"Tipul ei este: {type(var_float)}\")\n",
    "\n",
    "\n",
    "#....\n",
    "# ! Nu e nevoie sa urmariti exact structura aceasta, puteti si sa puneti commentarii, de exemplu, dar cred eu ca e un mod mai usor de a urmari codul daca avem o gramada de printuri"
   ]
  },
  {
   "cell_type": "code",
   "execution_count": null,
   "id": "eb172e1c",
   "metadata": {},
   "outputs": [],
   "source": []
  },
  {
   "cell_type": "code",
   "execution_count": 8,
   "id": "45881e7f",
   "metadata": {},
   "outputs": [
    {
     "name": "stdout",
     "output_type": "stream",
     "text": [
      "<class 'int'>\n"
     ]
    },
    {
     "data": {
      "text/plain": [
       "True"
      ]
     },
     "execution_count": 8,
     "metadata": {},
     "output_type": "execute_result"
    }
   ],
   "source": [
    "my_var = 10\n",
    "print(type(my_var))\n",
    "\n",
    "isinstance(my_var, int)  # cand vrem sa folosim in if, ca sa ne asiguram ca o var are un anumit tip de date"
   ]
  },
  {
   "cell_type": "code",
   "execution_count": 10,
   "id": "d45f1cfe",
   "metadata": {},
   "outputs": [
    {
     "name": "stdout",
     "output_type": "stream",
     "text": [
      "7\n",
      "7\n"
     ]
    }
   ],
   "source": [
    "my_string1 = 'qwe'\n",
    "my_string2 = 'abcd'\n",
    "print(len(my_string1 + my_string2))\n",
    "print(len(my_string1) + len(my_string2))\n"
   ]
  },
  {
   "cell_type": "code",
   "execution_count": 11,
   "id": "e77a3fb6",
   "metadata": {},
   "outputs": [],
   "source": [
    "sentence = 'Coral is either the stupidest animal or the smartest rock'"
   ]
  },
  {
   "cell_type": "code",
   "execution_count": 12,
   "id": "11efee5d",
   "metadata": {},
   "outputs": [
    {
     "ename": "SyntaxError",
     "evalue": "invalid syntax (<ipython-input-12-14332b27d901>, line 1)",
     "output_type": "error",
     "traceback": [
      "\u001b[1;36m  File \u001b[1;32m\"<ipython-input-12-14332b27d901>\"\u001b[1;36m, line \u001b[1;32m1\u001b[0m\n\u001b[1;33m    print(f'de cate ori apare the in propozitia data: {sentence.count('the')}')\u001b[0m\n\u001b[1;37m                                                                       ^\u001b[0m\n\u001b[1;31mSyntaxError\u001b[0m\u001b[1;31m:\u001b[0m invalid syntax\n"
     ]
    }
   ],
   "source": [
    "print(f'de cate ori apare the in propozitia data: {sentence.count('the')}')"
   ]
  },
  {
   "cell_type": "code",
   "execution_count": 13,
   "id": "cc6f92a7",
   "metadata": {},
   "outputs": [
    {
     "name": "stdout",
     "output_type": "stream",
     "text": [
      "de cate ori apare the in propozitia data: 3\n"
     ]
    }
   ],
   "source": [
    "print(f'de cate ori apare the in propozitia data: {sentence.count(\"the\")}')"
   ]
  },
  {
   "cell_type": "code",
   "execution_count": 14,
   "id": "9a8c7308",
   "metadata": {},
   "outputs": [
    {
     "name": "stdout",
     "output_type": "stream",
     "text": [
      "de cate ori apare the in propozitia data: 3\n"
     ]
    }
   ],
   "source": [
    "print(f\"de cate ori apare the in propozitia data: {sentence.count('the')}\")"
   ]
  },
  {
   "cell_type": "code",
   "execution_count": 16,
   "id": "99743df5",
   "metadata": {},
   "outputs": [
    {
     "name": "stdout",
     "output_type": "stream",
     "text": [
      "de cate ori apare \"the\" in propozitia data: 3\n",
      "In acest text avem un citat unde apar ghilimele: \"Acesta este un citat\" . Acesta este modul uzual prin care delimitam ghilimelele in text.\n"
     ]
    }
   ],
   "source": [
    "print(f'de cate ori apare \"the\" in propozitia data: {sentence.count(\"the\")}')\n",
    "# sau \n",
    "\n",
    "print(f'In acest text avem un citat unde apar ghilimele: \"Acesta este un citat\" . Acesta este modul uzual prin care delimitam ghilimelele in text.' )"
   ]
  },
  {
   "cell_type": "code",
   "execution_count": 17,
   "id": "2b24222a",
   "metadata": {},
   "outputs": [
    {
     "name": "stdout",
     "output_type": "stream",
     "text": [
      "In acest text avem un citat unde apar ghilimele: \"Citat celebru motivational\" . Acesta este inca un mod in care delimitam ghilimelele in text.\n"
     ]
    }
   ],
   "source": [
    "print(f\"In acest text avem un citat unde apar ghilimele: \\\"Citat celebru motivational\\\" . Acesta este inca un mod in care delimitam ghilimelele in text.\" )"
   ]
  },
  {
   "cell_type": "code",
   "execution_count": 18,
   "id": "06fec7d0",
   "metadata": {},
   "outputs": [],
   "source": [
    "# \\ in python este escape charcter"
   ]
  },
  {
   "cell_type": "code",
   "execution_count": 20,
   "id": "71cc62ff",
   "metadata": {},
   "outputs": [
    {
     "name": "stdout",
     "output_type": "stream",
     "text": [
      "Aparitii 'the' in propozitie = 3. In acest text avem si un citat unde apar ghilimele: \"Citat celebru motivational\" . Acesta este un caz in care folosim ambele tipuri de ghilimele, cat si \\. Characterul backslash (\\) se numeste escape si te ajuta si afisezi fie caractere speciale cum ar fi tab (\\t) \t, new-line (\\n) \n",
      " (!observati ca suntem pe rand nou!), quotes`urile ' \" sau altele.\n"
     ]
    }
   ],
   "source": [
    "print(f\"Aparitii 'the' in propozitie = {sentence.count('the')}. In acest text avem si un citat unde apar ghilimele: \\\"Citat celebru motivational\\\" . Acesta este un caz in care folosim ambele tipuri de ghilimele, cat si \\\\. Characterul backslash (\\\\) se numeste escape si te ajuta si afisezi fie caractere speciale cum ar fi tab (\\\\t) \\t, new-line (\\\\n) \\n (!observati ca suntem pe rand nou!), quotes`urile \\' \\\" sau altele.\" )"
   ]
  },
  {
   "cell_type": "code",
   "execution_count": 37,
   "id": "7c8d8ee5",
   "metadata": {},
   "outputs": [
    {
     "name": "stdout",
     "output_type": "stream",
     "text": [
      "Varianta initiala pe propozitia initiala  3\n",
      "Varianta initiala pe prop2  4\n",
      "V1 pt ex10_2:  3\n",
      "v2 pt ex10_2:  3\n",
      "3\n"
     ]
    }
   ],
   "source": [
    "# ex10_2: daca am fi avut propozitia: \"The coral is either the stupidest animal or the smartest rock, love it or loathe it\"\n",
    "# si am fi vrut sa calculam de cate ori apare cuvantul, nu insiruirea de caractere?\n",
    "# => 3 \"<The> coral is either <the> stupidest animal or <the> smartest rock, love it or loathe it\"\n",
    "propozitie2 = \"The coral is either the stupidest animal or the smartest rock, love it or loathe it\"\n",
    "\n",
    "# varianta initiala pentru ex10:\n",
    "sentence = 'Coral is either the stupidest animal or the smartest rock'\n",
    "count = sentence.count('the')\n",
    "print('Varianta initiala pe propozitia initiala ',count)\n",
    "\n",
    "count = propozitie2.count('the')\n",
    "print('Varianta initiala pe prop2 ', count)\n",
    "\n",
    "# v1\n",
    "p = ' ' + propozitie2\n",
    "count = p.lower().count(' the ')\n",
    "print('V1 pt ex10_2: ', count)\n",
    "\n",
    "# v2\n",
    "count2 = propozitie2.lower().split(' ').count('the')\n",
    "print(\"v2 pt ex10_2: \", count2)\n"
   ]
  },
  {
   "cell_type": "code",
   "execution_count": 41,
   "id": "e2fb8a35",
   "metadata": {},
   "outputs": [
    {
     "name": "stdout",
     "output_type": "stream",
     "text": [
      "e\n",
      "r\n"
     ]
    }
   ],
   "source": [
    "# ex 16 -  caracterul din mijlocului unui string de dimensiune impara\n",
    "\n",
    "\n",
    "# s_odd = input('Introduceti un string de dimensiune impara: ')\n",
    "s_odd = 'qwert'\n",
    "s_even = 'qwerty'  # nu prea conteaza in cazul nostru fiindca nu se cere\n",
    "\n",
    "print(s_odd[len(s_odd)//2]) # len / 2 => 2.5 ... vreau // (partea intreaga) adica 2\n",
    "print(s_odd[len(s_even)//2])"
   ]
  },
  {
   "cell_type": "code",
   "execution_count": 42,
   "id": "0e6ea8b8",
   "metadata": {},
   "outputs": [
    {
     "name": "stdout",
     "output_type": "stream",
     "text": [
      "alAbAlA portocAla\n"
     ]
    }
   ],
   "source": [
    "# ex 18 - string cu caracterul de pe prima pozitie transformat in majuscule pe toate \n",
    "# pozitiile mai putin prima si ultima\n",
    "s = 'alabala portocala'\n",
    "first_char = s[0]\n",
    "\n",
    "s = s[0] + s[1:-1].replace(first_char, first_char.upper()) + s[-1]\n",
    "print(s)"
   ]
  },
  {
   "cell_type": "code",
   "execution_count": 43,
   "id": "3ef3a296",
   "metadata": {},
   "outputs": [
    {
     "name": "stdout",
     "output_type": "stream",
     "text": [
      "Introduceti userul: Eu\n",
      "Introduceti parola: parola123\n",
      "Parola pt user Eu este ********* si are 9 caractere\n"
     ]
    }
   ],
   "source": [
    "# ex 19 - citim user si password, si afisam in loc de parola un numar de * echivalent cu lungime parolei\n",
    "user = input('Introduceti userul: ')\n",
    "password = input('Introduceti parola: ')\n",
    "\n",
    "# sa zicem ca parola = 'parola123' => 9 stelute\n",
    "pass_length = len(password)\n",
    "no_of_stars_to_display = '*' * pass_length \n",
    "print(f'Parola pt user {user} este {no_of_stars_to_display} si are {pass_length} caractere')"
   ]
  },
  {
   "cell_type": "code",
   "execution_count": 45,
   "id": "c4c4b95d",
   "metadata": {},
   "outputs": [
    {
     "name": "stdout",
     "output_type": "stream",
     "text": [
      "10\n",
      "[None, None, None, None, None, None, None, None, None, None]\n"
     ]
    }
   ],
   "source": [
    "lst = [None] * 10\n",
    "print(len(lst))\n",
    "print(lst)\n",
    "# putem folosi * (inmultire) si pe stringuri si chiar si pe liste"
   ]
  },
  {
   "cell_type": "code",
   "execution_count": 47,
   "id": "e8cd91b5",
   "metadata": {},
   "outputs": [
    {
     "name": "stdout",
     "output_type": "stream",
     "text": [
      "yesyesyes\n"
     ]
    }
   ],
   "source": [
    "s = 'yes'\n",
    "# print(s+3) # nu merge\n",
    "print(s*3)  "
   ]
  },
  {
   "cell_type": "code",
   "execution_count": 48,
   "id": "f942c340",
   "metadata": {},
   "outputs": [
    {
     "name": "stdout",
     "output_type": "stream",
     "text": [
      "Valoarea lui pi este: 3.1467123\n",
      "Pi cu doar 2 zecimale este:3.14\n",
      "3.15\n",
      "3.15\n"
     ]
    }
   ],
   "source": [
    "#TODO din timpul cursului\n",
    "#problema cu pi\n",
    "pi = 3.1467123\n",
    "print(f\"Valoarea lui pi este: {pi}\")\n",
    "\n",
    "print(f\"Pi cu doar 2 zecimale este:{str(pi)[:4]}\")\n",
    "\n",
    "# daca vrem cu rotunjire\n",
    "print(f'{round(pi, 2)}')\n",
    "print(f'{pi:.2f}')\n"
   ]
  },
  {
   "cell_type": "code",
   "execution_count": null,
   "id": "5023ad41",
   "metadata": {},
   "outputs": [],
   "source": []
  },
  {
   "cell_type": "code",
   "execution_count": 49,
   "id": "74d54cb5",
   "metadata": {},
   "outputs": [
    {
     "name": "stdout",
     "output_type": "stream",
     "text": [
      "50\n"
     ]
    }
   ],
   "source": [
    "x = 10 \n",
    "# vreau ca x sa devina 50 prin inmultire\n",
    "x *= 5\n",
    "print(x)"
   ]
  },
  {
   "cell_type": "code",
   "execution_count": 54,
   "id": "dd17e519",
   "metadata": {},
   "outputs": [
    {
     "name": "stdout",
     "output_type": "stream",
     "text": [
      "3.6666666666666665\n",
      "3\n"
     ]
    }
   ],
   "source": [
    "x = 11\n",
    "print(x/3)  # 3.xxxxx, un float\n",
    "print(x//3)  # partea intreaga a impartirii, adica 3, un int"
   ]
  },
  {
   "cell_type": "code",
   "execution_count": 55,
   "id": "eca008aa",
   "metadata": {},
   "outputs": [
    {
     "name": "stdout",
     "output_type": "stream",
     "text": [
      "2\n"
     ]
    }
   ],
   "source": [
    "# % (modulo) - returneaza restul impartirii\n",
    "# D / I = C + R (% ne va da R)\n",
    "x = 11\n",
    "print(x%3) "
   ]
  },
  {
   "cell_type": "code",
   "execution_count": 58,
   "id": "e622b8ff",
   "metadata": {},
   "outputs": [
    {
     "name": "stdout",
     "output_type": "stream",
     "text": [
      "1\n",
      "False\n"
     ]
    }
   ],
   "source": [
    "# % ne ajuta sa determinam daca un numar este par sau impar!!\n",
    "x = 11\n",
    "# e par? return True/False\n",
    "print(x%2)  # ok e 1, dar vreau True/False\n",
    "print(x%2==0)  # verificare daca e par"
   ]
  },
  {
   "cell_type": "code",
   "execution_count": 59,
   "id": "f68771fc",
   "metadata": {},
   "outputs": [
    {
     "name": "stdout",
     "output_type": "stream",
     "text": [
      "True\n"
     ]
    }
   ],
   "source": [
    "x = 12\n",
    "print(x%2==0)  # verificare daca e par"
   ]
  },
  {
   "cell_type": "code",
   "execution_count": 61,
   "id": "1a3b57e5",
   "metadata": {},
   "outputs": [
    {
     "name": "stdout",
     "output_type": "stream",
     "text": [
      "27\n",
      "27\n"
     ]
    }
   ],
   "source": [
    "x = 3 # vrem 3 ^ 3 = 27\n",
    "print(x**3)  \n",
    "print(pow(x,3))  # functie echivalenta cu operatorul **"
   ]
  },
  {
   "cell_type": "code",
   "execution_count": 63,
   "id": "611903db",
   "metadata": {},
   "outputs": [
    {
     "data": {
      "text/plain": [
       "100.0"
      ]
     },
     "execution_count": 63,
     "metadata": {},
     "output_type": "execute_result"
    }
   ],
   "source": [
    "20/100 * 500"
   ]
  },
  {
   "cell_type": "code",
   "execution_count": 66,
   "id": "f7b4b519",
   "metadata": {},
   "outputs": [
    {
     "name": "stdout",
     "output_type": "stream",
     "text": [
      "False\n",
      "True\n",
      "True\n"
     ]
    }
   ],
   "source": [
    "x = 6\n",
    "y = 5\n",
    "print(x == y)  # egalitate\n",
    "print(x != y)  # diferit\n",
    "print(x > y)"
   ]
  },
  {
   "cell_type": "code",
   "execution_count": 70,
   "id": "02407857",
   "metadata": {},
   "outputs": [
    {
     "name": "stdout",
     "output_type": "stream",
     "text": [
      "False\n"
     ]
    }
   ],
   "source": [
    "s1 = 'abcd'\n",
    "s2 = 'bcd'\n",
    "print(s1 > s2)  # compararea se face alfanumeric, nu conteaza lungimea initial\n",
    "# merge pe fiecare pozitie si compara caracterele\n"
   ]
  },
  {
   "cell_type": "code",
   "execution_count": 71,
   "id": "cf9c21c8",
   "metadata": {
    "scrolled": true
   },
   "outputs": [
    {
     "data": {
      "text/plain": [
       "97"
      ]
     },
     "execution_count": 71,
     "metadata": {},
     "output_type": "execute_result"
    }
   ],
   "source": [
    "ord('a')"
   ]
  },
  {
   "cell_type": "code",
   "execution_count": 72,
   "id": "b4a5c2eb",
   "metadata": {},
   "outputs": [
    {
     "data": {
      "text/plain": [
       "98"
      ]
     },
     "execution_count": 72,
     "metadata": {},
     "output_type": "execute_result"
    }
   ],
   "source": [
    "ord('b')"
   ]
  },
  {
   "cell_type": "code",
   "execution_count": 73,
   "id": "727bad42",
   "metadata": {},
   "outputs": [],
   "source": [
    "# asta se compara de fapt\n",
    "# ord(s1[0]) cu ord(s2[0])"
   ]
  },
  {
   "cell_type": "code",
   "execution_count": 74,
   "id": "d0327b50",
   "metadata": {},
   "outputs": [
    {
     "name": "stdout",
     "output_type": "stream",
     "text": [
      "True\n"
     ]
    }
   ],
   "source": [
    "s1 = 'abcd'\n",
    "s2 = 'abc'\n",
    "\n",
    "print(s1 > s2)  # s2 e mai mic fiindca are mai putine caractere"
   ]
  },
  {
   "cell_type": "code",
   "execution_count": 80,
   "id": "4804836f",
   "metadata": {},
   "outputs": [
    {
     "name": "stdout",
     "output_type": "stream",
     "text": [
      "9\n",
      "True\n"
     ]
    }
   ],
   "source": [
    "x = 10\n",
    "y = 8\n",
    "z = 9\n",
    "# vreau sa verific daca x e mai mare si decat y si decat z \n",
    "print(x > y and  z)   # gresit!\n",
    "print(x > y and x > z)"
   ]
  },
  {
   "cell_type": "code",
   "execution_count": 83,
   "id": "4b6d9085",
   "metadata": {},
   "outputs": [
    {
     "name": "stdout",
     "output_type": "stream",
     "text": [
      "True\n"
     ]
    }
   ],
   "source": [
    "x = 10\n",
    "y = 16\n",
    "z = 1\n",
    "# x sa fie mai mare fie decat y fie decat z\n",
    "print(x > y or x > z)"
   ]
  },
  {
   "cell_type": "code",
   "execution_count": 84,
   "id": "0029c73e",
   "metadata": {},
   "outputs": [
    {
     "name": "stdout",
     "output_type": "stream",
     "text": [
      "False\n"
     ]
    }
   ],
   "source": [
    "adev = True\n",
    "print(not adev)"
   ]
  },
  {
   "cell_type": "code",
   "execution_count": 85,
   "id": "6b455997",
   "metadata": {},
   "outputs": [],
   "source": [
    "# in Python True = 1;  False = 0 !!!\n",
    "\n",
    "#  A | B |and| or|not A|\n",
    "# ---------------------------\n",
    "#  0 | 0 | 0 | 0 | 1  |\n",
    "#  1 | 0 | 0 | 1 | 0  |\n",
    "#  0 | 1 | 0 | 1 | 1  |\n",
    "#  1 | 1 | 1 | 1 | 0  |\n"
   ]
  },
  {
   "cell_type": "code",
   "execution_count": 86,
   "id": "a1da42cd",
   "metadata": {},
   "outputs": [
    {
     "name": "stdout",
     "output_type": "stream",
     "text": [
      "True\n"
     ]
    }
   ],
   "source": [
    "print(True or False)"
   ]
  },
  {
   "cell_type": "code",
   "execution_count": 87,
   "id": "01e5d021",
   "metadata": {},
   "outputs": [
    {
     "name": "stdout",
     "output_type": "stream",
     "text": [
      "True\n"
     ]
    }
   ],
   "source": [
    "print(True or True) "
   ]
  },
  {
   "cell_type": "code",
   "execution_count": 88,
   "id": "5a05fc50",
   "metadata": {},
   "outputs": [
    {
     "name": "stdout",
     "output_type": "stream",
     "text": [
      "True\n"
     ]
    }
   ],
   "source": [
    "print(True or False and False)  # and are prioritate in fata lui or\n",
    "# => True or (False and False) => True or False\n"
   ]
  },
  {
   "cell_type": "code",
   "execution_count": 89,
   "id": "c46c9e72",
   "metadata": {},
   "outputs": [
    {
     "name": "stdout",
     "output_type": "stream",
     "text": [
      "False\n"
     ]
    }
   ],
   "source": [
    "print((True or False) and False)\n",
    "#           True     and False => False"
   ]
  },
  {
   "cell_type": "code",
   "execution_count": 94,
   "id": "a48d6899",
   "metadata": {},
   "outputs": [],
   "source": [
    "a = 10\n",
    "b = 10\n",
    "c = a"
   ]
  },
  {
   "cell_type": "code",
   "execution_count": 95,
   "id": "16d533b6",
   "metadata": {},
   "outputs": [
    {
     "data": {
      "text/plain": [
       "True"
      ]
     },
     "execution_count": 95,
     "metadata": {},
     "output_type": "execute_result"
    }
   ],
   "source": [
    "a is b"
   ]
  },
  {
   "cell_type": "code",
   "execution_count": 96,
   "id": "9c788b22",
   "metadata": {},
   "outputs": [
    {
     "data": {
      "text/plain": [
       "True"
      ]
     },
     "execution_count": 96,
     "metadata": {},
     "output_type": "execute_result"
    }
   ],
   "source": [
    "a is c"
   ]
  },
  {
   "cell_type": "code",
   "execution_count": 97,
   "id": "9bf6395d",
   "metadata": {},
   "outputs": [
    {
     "data": {
      "text/plain": [
       "140722069317712"
      ]
     },
     "execution_count": 97,
     "metadata": {},
     "output_type": "execute_result"
    }
   ],
   "source": [
    "id(a)"
   ]
  },
  {
   "cell_type": "code",
   "execution_count": 98,
   "id": "dcf0e82b",
   "metadata": {},
   "outputs": [
    {
     "data": {
      "text/plain": [
       "140722069317712"
      ]
     },
     "execution_count": 98,
     "metadata": {},
     "output_type": "execute_result"
    }
   ],
   "source": [
    "id(b)"
   ]
  },
  {
   "cell_type": "code",
   "execution_count": 99,
   "id": "09f7a916",
   "metadata": {},
   "outputs": [
    {
     "data": {
      "text/plain": [
       "140722069317712"
      ]
     },
     "execution_count": 99,
     "metadata": {},
     "output_type": "execute_result"
    }
   ],
   "source": [
    "id(c)"
   ]
  },
  {
   "cell_type": "code",
   "execution_count": 100,
   "id": "8cc36f1c",
   "metadata": {},
   "outputs": [
    {
     "data": {
      "text/plain": [
       "True"
      ]
     },
     "execution_count": 100,
     "metadata": {},
     "output_type": "execute_result"
    }
   ],
   "source": [
    "a,b,c=10,10,11\n",
    "a is b"
   ]
  },
  {
   "cell_type": "code",
   "execution_count": 101,
   "id": "7988be89",
   "metadata": {},
   "outputs": [
    {
     "data": {
      "text/plain": [
       "False"
      ]
     },
     "execution_count": 101,
     "metadata": {},
     "output_type": "execute_result"
    }
   ],
   "source": [
    "a is c"
   ]
  },
  {
   "cell_type": "code",
   "execution_count": 102,
   "id": "9f4be73f",
   "metadata": {},
   "outputs": [],
   "source": [
    "a = [1, 2]\n",
    "b = [1, 2]\n",
    "c = a"
   ]
  },
  {
   "cell_type": "code",
   "execution_count": 103,
   "id": "152376f5",
   "metadata": {},
   "outputs": [
    {
     "data": {
      "text/plain": [
       "False"
      ]
     },
     "execution_count": 103,
     "metadata": {},
     "output_type": "execute_result"
    }
   ],
   "source": [
    "a is b"
   ]
  },
  {
   "cell_type": "code",
   "execution_count": 104,
   "id": "a025847b",
   "metadata": {},
   "outputs": [
    {
     "data": {
      "text/plain": [
       "True"
      ]
     },
     "execution_count": 104,
     "metadata": {},
     "output_type": "execute_result"
    }
   ],
   "source": [
    "a is c"
   ]
  },
  {
   "cell_type": "code",
   "execution_count": 105,
   "id": "27d4b826",
   "metadata": {},
   "outputs": [
    {
     "data": {
      "text/plain": [
       "2669738216704"
      ]
     },
     "execution_count": 105,
     "metadata": {},
     "output_type": "execute_result"
    }
   ],
   "source": [
    "id(a)"
   ]
  },
  {
   "cell_type": "code",
   "execution_count": 106,
   "id": "d88cc849",
   "metadata": {},
   "outputs": [
    {
     "data": {
      "text/plain": [
       "2669738236928"
      ]
     },
     "execution_count": 106,
     "metadata": {},
     "output_type": "execute_result"
    }
   ],
   "source": [
    "id(b)"
   ]
  },
  {
   "cell_type": "code",
   "execution_count": 107,
   "id": "e28b74c9",
   "metadata": {},
   "outputs": [
    {
     "data": {
      "text/plain": [
       "2669738216704"
      ]
     },
     "execution_count": 107,
     "metadata": {},
     "output_type": "execute_result"
    }
   ],
   "source": [
    "id(c)"
   ]
  },
  {
   "cell_type": "code",
   "execution_count": 108,
   "id": "ec6352e4",
   "metadata": {},
   "outputs": [
    {
     "data": {
      "text/plain": [
       "True"
      ]
     },
     "execution_count": 108,
     "metadata": {},
     "output_type": "execute_result"
    }
   ],
   "source": [
    "x = 5\n",
    "a_list = [1,23,4,5]\n",
    "x in a_list"
   ]
  },
  {
   "cell_type": "code",
   "execution_count": 109,
   "id": "634084aa",
   "metadata": {},
   "outputs": [
    {
     "data": {
      "text/plain": [
       "False"
      ]
     },
     "execution_count": 109,
     "metadata": {},
     "output_type": "execute_result"
    }
   ],
   "source": [
    "x = 3\n",
    "a_list = [1,23,4,5]\n",
    "x in a_list"
   ]
  },
  {
   "cell_type": "code",
   "execution_count": 110,
   "id": "3dd69941",
   "metadata": {},
   "outputs": [
    {
     "data": {
      "text/plain": [
       "True"
      ]
     },
     "execution_count": 110,
     "metadata": {},
     "output_type": "execute_result"
    }
   ],
   "source": [
    "animals = 'dog, foxy, cat, horse'\n",
    "a = 'fox'\n",
    "\n",
    "a in animals"
   ]
  },
  {
   "cell_type": "code",
   "execution_count": 112,
   "id": "a03333c6",
   "metadata": {},
   "outputs": [
    {
     "name": "stdout",
     "output_type": "stream",
     "text": [
      "['dog', 'foxy', 'cat', 'horse']\n"
     ]
    },
    {
     "data": {
      "text/plain": [
       "False"
      ]
     },
     "execution_count": 112,
     "metadata": {},
     "output_type": "execute_result"
    }
   ],
   "source": [
    "animals = 'dog, foxy, cat, horse'\n",
    "a = 'fox'\n",
    "list_of_animals = animals.split(', ')\n",
    "print(list_of_animals)\n",
    "\n",
    "a in list_of_animals"
   ]
  },
  {
   "cell_type": "code",
   "execution_count": 113,
   "id": "c57e4992",
   "metadata": {},
   "outputs": [
    {
     "data": {
      "text/plain": [
       "False"
      ]
     },
     "execution_count": 113,
     "metadata": {},
     "output_type": "execute_result"
    }
   ],
   "source": [
    "d = {'a': 1, 'b': 'c'}  #revenim aici...\n",
    "\n",
    "'c' in d   # cauta intre chei => False"
   ]
  },
  {
   "cell_type": "code",
   "execution_count": 114,
   "id": "6e086d31",
   "metadata": {},
   "outputs": [
    {
     "data": {
      "text/plain": [
       "True"
      ]
     },
     "execution_count": 114,
     "metadata": {},
     "output_type": "execute_result"
    }
   ],
   "source": [
    "d = {'a': 1, 'b': 'c'} \n",
    "'a' in d  # => True"
   ]
  },
  {
   "cell_type": "code",
   "execution_count": 115,
   "id": "9aee6b31",
   "metadata": {},
   "outputs": [
    {
     "data": {
      "text/plain": [
       "True"
      ]
     },
     "execution_count": 115,
     "metadata": {},
     "output_type": "execute_result"
    }
   ],
   "source": [
    "text = '1,23,4'\n",
    "'1,23' in text"
   ]
  },
  {
   "cell_type": "code",
   "execution_count": 117,
   "id": "62512cd0",
   "metadata": {},
   "outputs": [],
   "source": [
    "# # sintaxa pentru conditia if (if statement)\n",
    "# if cond:\n",
    "#     # do something when cond is True\n",
    "# elif alta_cond:\n",
    "#     # do something when alta_cond is True after cond was False\n",
    "# else:\n",
    "#     # do something when niether cond nor alta_cond is True, (default case)\n",
    "    \n",
    "# # elif si else pot sa nu apara deloc"
   ]
  },
  {
   "cell_type": "code",
   "execution_count": 119,
   "id": "0c9a2ff4",
   "metadata": {},
   "outputs": [
    {
     "name": "stdout",
     "output_type": "stream",
     "text": [
      "Alege nota: 4\n"
     ]
    }
   ],
   "source": [
    "nota_de_trecere = 4.5\n",
    "nota = float(input('Alege nota: '))\n",
    "if nota > nota_de_trecere:\n",
    "    print(f'Ai trecut cu nota {nota}')"
   ]
  },
  {
   "cell_type": "code",
   "execution_count": 121,
   "id": "61a9a0b4",
   "metadata": {},
   "outputs": [
    {
     "name": "stdout",
     "output_type": "stream",
     "text": [
      "Alege nota: 1\n",
      "Am trecut de if\n"
     ]
    }
   ],
   "source": [
    "nota_de_trecere = 4.5\n",
    "nota = float(input('Alege nota: '))\n",
    "if nota > nota_de_trecere:\n",
    "    print(f'Ai trecut cu nota {nota}')\n",
    "print('Am trecut de if')"
   ]
  },
  {
   "cell_type": "code",
   "execution_count": 129,
   "id": "2904f487",
   "metadata": {},
   "outputs": [
    {
     "name": "stdout",
     "output_type": "stream",
     "text": [
      "buna seara\n",
      "tot in if ca e indentat\n",
      "nu mai sunt in if ca nu am mai indentat codul\n",
      "\n",
      "1\n",
      "2\n",
      "3\n",
      "Gata forul\n",
      "\n",
      "3\n",
      "2\n",
      "1\n",
      "Gata while\n",
      "\n",
      "printez din afara functiei\n",
      "sunt in functie\n",
      "\n"
     ]
    }
   ],
   "source": [
    "# indentarea pentru:\n",
    "\n",
    "# 1) pt if\n",
    "cond = 2 > 1\n",
    "if cond:\n",
    "    print('buna seara')\n",
    "    print('tot in if ca e indentat')\n",
    "print('nu mai sunt in if ca nu am mai indentat codul\\n')\n",
    "    \n",
    "    \n",
    "# 2) bucla for\n",
    "lst = [1,2,3]\n",
    "for elem in lst:\n",
    "    print(elem)\n",
    "print('Gata forul\\n')\n",
    "    \n",
    "\n",
    "# 3) bucla while\n",
    "n = 3\n",
    "while n > 0:\n",
    "    print(n)\n",
    "    n -= 1  # n = n - 1\n",
    "#     print('Gata while\\n')   # daca aveam print aici, ne afisa dupa fiecare print(n)\n",
    "    \n",
    "print('Gata while\\n')\n",
    "    \n",
    "    \n",
    "# 4) pt functii\n",
    "def func():   # aici avem doar definitia functiei\n",
    "    # code\n",
    "    print('sunt in functie\\n')\n",
    "\n",
    "print('printez din afara functiei')\n",
    "func()   # aici e apelul functie, unde se chiar afiseaza 'sunt in functie'\n",
    "\n",
    "\n"
   ]
  },
  {
   "cell_type": "code",
   "execution_count": null,
   "id": "bce822f6",
   "metadata": {},
   "outputs": [],
   "source": [
    "n = 3\n",
    "while n > 0:\n",
    "    print(n)\n",
    "    \n",
    "# ciclu infinit !!! "
   ]
  },
  {
   "cell_type": "code",
   "execution_count": 130,
   "id": "b920e296",
   "metadata": {},
   "outputs": [
    {
     "name": "stdout",
     "output_type": "stream",
     "text": [
      "19000000\n"
     ]
    }
   ],
   "source": [
    "# C02_EX01: Se da stringul populatie. Afisati populatia ca numar, ajustand in functie \n",
    "#de mil / bil.  Daca dupa numar avem 'mil' afisam 6 zerouri,\n",
    "#daca cumva avem 'bil' in stringul populatie afisam cu 9 zerouri,\n",
    "# altfel afisam numarul ca int, nu ca string. Incercati cu: \n",
    "#populatie1 = '19mil', populatie2 = '1.3bil' si populatie3 = '250_000'\n",
    "\n",
    "populatie = '19mil'\n",
    "# print(19_000_000)  # functioneaza!! sa se vada mai bine cate 0 avem\n",
    "# vreau sa afisez 19000000\n",
    "\n",
    "# rezolvarea e pe slack in ore_live_si_teme :)"
   ]
  },
  {
   "cell_type": "code",
   "execution_count": 136,
   "id": "20bedc47",
   "metadata": {},
   "outputs": [
    {
     "name": "stdout",
     "output_type": "stream",
     "text": [
      "whale\n",
      "Give me your animal: horse\n",
      "You found your horse\n"
     ]
    }
   ],
   "source": [
    "# C02_EX02: Given the string \"fox, cat, cow, horse\". \n",
    "#Display the following message \"You found your dog\" if 'dog' is in the string,\n",
    "# otherwise print the last animal from the string\n",
    "my_string = \"fox, cat, cow, horse, chimpanzee, whale\"\n",
    "# my_string.find('monkey')\n",
    "\n",
    "if 'dog' in my_string:\n",
    "    print(\"You found your dog\")\n",
    "else:\n",
    "    # print('horse')  # nu e chiar optim, vreau ultimul animal, poate e altceva nu horse\n",
    "    list_of_animals = my_string.split(', ')\n",
    "    print(list_of_animals[-1])\n",
    "    \n",
    "# v2 in care folosim o variabila de animal cautat\n",
    "searched_animal = input('Give me your animal: ')\n",
    "if searched_animal in my_string:\n",
    "    print(f\"You found your {searched_animal}\")\n",
    "else:\n",
    "    list_of_animals = my_string.split(', ')\n",
    "    print(list_of_animals[-1])"
   ]
  },
  {
   "cell_type": "code",
   "execution_count": 143,
   "id": "fb85aef1",
   "metadata": {},
   "outputs": [
    {
     "name": "stdout",
     "output_type": "stream",
     "text": [
      "Please enter your number: eqweq\n"
     ]
    },
    {
     "ename": "ValueError",
     "evalue": "invalid literal for int() with base 10: 'eqweq'",
     "output_type": "error",
     "traceback": [
      "\u001b[1;31m---------------------------------------------------------------------------\u001b[0m",
      "\u001b[1;31mValueError\u001b[0m                                Traceback (most recent call last)",
      "\u001b[1;32m<ipython-input-143-cef0f17298ff>\u001b[0m in \u001b[0;36m<module>\u001b[1;34m\u001b[0m\n\u001b[0;32m      3\u001b[0m \u001b[1;31m# depending whether the number is greater than 0, smaller or 0.\u001b[0m\u001b[1;33m\u001b[0m\u001b[1;33m\u001b[0m\u001b[1;33m\u001b[0m\u001b[0m\n\u001b[0;32m      4\u001b[0m \u001b[1;33m\u001b[0m\u001b[0m\n\u001b[1;32m----> 5\u001b[1;33m \u001b[0mnumber\u001b[0m \u001b[1;33m=\u001b[0m \u001b[0mint\u001b[0m\u001b[1;33m(\u001b[0m\u001b[0minput\u001b[0m\u001b[1;33m(\u001b[0m\u001b[1;34m\"Please enter your number: \"\u001b[0m\u001b[1;33m)\u001b[0m\u001b[1;33m)\u001b[0m\u001b[1;33m\u001b[0m\u001b[1;33m\u001b[0m\u001b[0m\n\u001b[0m\u001b[0;32m      6\u001b[0m \u001b[1;32mif\u001b[0m \u001b[0mnumber\u001b[0m \u001b[1;33m==\u001b[0m \u001b[1;36m0\u001b[0m\u001b[1;33m:\u001b[0m\u001b[1;33m\u001b[0m\u001b[1;33m\u001b[0m\u001b[0m\n\u001b[0;32m      7\u001b[0m     \u001b[0mprint\u001b[0m\u001b[1;33m(\u001b[0m\u001b[1;34m\"Your number is 0\"\u001b[0m\u001b[1;33m)\u001b[0m\u001b[1;33m\u001b[0m\u001b[1;33m\u001b[0m\u001b[0m\n",
      "\u001b[1;31mValueError\u001b[0m: invalid literal for int() with base 10: 'eqweq'"
     ]
    }
   ],
   "source": [
    "# C02_EX03: Given a keyboard inputed number: print \"Your number is positive\" or\n",
    "# \"Your number is negative\" or \"Your number is 0\" \n",
    "# depending whether the number is greater than 0, smaller or 0.\n",
    "\n",
    "number = int(input(\"Please enter your number: \"))\n",
    "if number == 0:\n",
    "    print(\"Your number is 0\")\n",
    "elif number > 0:\n",
    "    print(\"Your number is positive\")\n",
    "else:\n",
    "    print(\"Your number is negative\")\n",
    "    \n",
    "# What happens if we input something that`s not a number .."
   ]
  },
  {
   "cell_type": "code",
   "execution_count": 145,
   "id": "0d64ac96",
   "metadata": {},
   "outputs": [],
   "source": [
    "# To solution the previous issue, we introduce exception handling\n",
    "\n",
    "# sintaxa pentru handlingul exceptiilor\n",
    "try:\n",
    "    # aici avem cod care functioneaza corect, fara erori\n",
    "except:\n",
    "    # aici intram cand apar erori, pe care le solutionam intr`un fel sau altul\n",
    "    # daca sunt exceptii/erori, try nu se va executa\n",
    "else:\n",
    "    # se executa in cazul fara erori, in continuarea lui try\n",
    "finally:\n",
    "    # se executa mereu!!\n",
    "    \n",
    "# else si finally nu e musai sa apara"
   ]
  },
  {
   "cell_type": "code",
   "execution_count": 148,
   "id": "16475f1b",
   "metadata": {},
   "outputs": [
    {
     "name": "stdout",
     "output_type": "stream",
     "text": [
      "Please enter your number: qweq\n",
      "Your input is not a number\n"
     ]
    }
   ],
   "source": [
    "# C02_EX04: Modify the previous exercise (C02_EX03) using try-except-else-finally \n",
    "# so that it prints \"Your input is not a number\"\n",
    "# if you input something that`s not a number...\n",
    "\n",
    "try:\n",
    "    number = int(input(\"Please enter your number: \"))\n",
    "    if number == 0:\n",
    "        print(\"Your number is 0\")\n",
    "    elif number > 0:\n",
    "        print(\"Your number is positive\")\n",
    "    else:\n",
    "        print(\"Your number is negative\")\n",
    "except:\n",
    "    print(\"Your input is not a number\")"
   ]
  },
  {
   "cell_type": "code",
   "execution_count": 150,
   "id": "53ac48f8",
   "metadata": {},
   "outputs": [
    {
     "name": "stdout",
     "output_type": "stream",
     "text": [
      "Please enter your number: 123\n",
      "Your number is positive\n"
     ]
    }
   ],
   "source": [
    "# o mica optimizare... nu e necesara, dar e bine venita :)\n",
    "try:\n",
    "    number = int(input(\"Please enter your number: \"))\n",
    "except:\n",
    "    print(\"Your input is not a number\")\n",
    "else:\n",
    "    if number == 0:\n",
    "        print(\"Your number is 0\")\n",
    "    elif number > 0:\n",
    "        print(\"Your number is positive\")\n",
    "    else:\n",
    "        print(\"Your number is negative\")"
   ]
  },
  {
   "cell_type": "code",
   "execution_count": null,
   "id": "2a38e632",
   "metadata": {},
   "outputs": [],
   "source": []
  }
 ],
 "metadata": {
  "kernelspec": {
   "display_name": "Python 3 (ipykernel)",
   "language": "python",
   "name": "python3"
  },
  "language_info": {
   "codemirror_mode": {
    "name": "ipython",
    "version": 3
   },
   "file_extension": ".py",
   "mimetype": "text/x-python",
   "name": "python",
   "nbconvert_exporter": "python",
   "pygments_lexer": "ipython3",
   "version": "3.10.2"
  }
 },
 "nbformat": 4,
 "nbformat_minor": 5
}
