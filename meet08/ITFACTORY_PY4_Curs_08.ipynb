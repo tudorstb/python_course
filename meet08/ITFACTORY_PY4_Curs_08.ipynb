{
 "cells": [
  {
   "cell_type": "markdown",
   "id": "9b8e3d4f",
   "metadata": {},
   "source": [
    "# Importurile in python"
   ]
  },
  {
   "cell_type": "code",
   "execution_count": null,
   "id": "a9fd732a",
   "metadata": {},
   "outputs": [],
   "source": [
    "# Import libraries:\n",
    "# v1: from library import function: putem folosi strict functia, nu si alte functii din libraria respectiva\n",
    "# v2: from library import *: importam toate functiile din librarie \n",
    "# v3: import library: importam intreaga librarie, daca vrem sa folosim o functie din acea lib, apelam library.function()\n",
    "# v4: import library as lib / from library import function as func: importam cu nume schimbat si apelam lib.function()/ func()"
   ]
  },
  {
   "cell_type": "code",
   "execution_count": 7,
   "id": "30f37212",
   "metadata": {},
   "outputs": [
    {
     "name": "stdout",
     "output_type": "stream",
     "text": [
      "2022-04-06 18:39:26.988088\n"
     ]
    }
   ],
   "source": [
    "from datetime import datetime\n",
    "\n",
    "\n",
    "data = datetime.now()\n",
    "print(data)"
   ]
  },
  {
   "cell_type": "code",
   "execution_count": 8,
   "id": "946f9799",
   "metadata": {},
   "outputs": [
    {
     "ename": "NameError",
     "evalue": "name 'sqrt' is not defined",
     "output_type": "error",
     "traceback": [
      "\u001b[1;31m---------------------------------------------------------------------------\u001b[0m",
      "\u001b[1;31mNameError\u001b[0m                                 Traceback (most recent call last)",
      "\u001b[1;32m~\\AppData\\Local\\Temp/ipykernel_6896/244926836.py\u001b[0m in \u001b[0;36m<module>\u001b[1;34m\u001b[0m\n\u001b[1;32m----> 1\u001b[1;33m \u001b[0msqrt\u001b[0m\u001b[1;33m(\u001b[0m\u001b[1;36m16\u001b[0m\u001b[1;33m)\u001b[0m\u001b[1;33m\u001b[0m\u001b[1;33m\u001b[0m\u001b[0m\n\u001b[0m",
      "\u001b[1;31mNameError\u001b[0m: name 'sqrt' is not defined"
     ]
    }
   ],
   "source": [
    "sqrt(16)"
   ]
  },
  {
   "cell_type": "code",
   "execution_count": 9,
   "id": "8b6e0b15",
   "metadata": {},
   "outputs": [],
   "source": [
    "from math import sqrt\n"
   ]
  },
  {
   "cell_type": "code",
   "execution_count": 10,
   "id": "dfd746d6",
   "metadata": {},
   "outputs": [
    {
     "data": {
      "text/plain": [
       "4.0"
      ]
     },
     "execution_count": 10,
     "metadata": {},
     "output_type": "execute_result"
    }
   ],
   "source": [
    "sqrt(16)  # radicalul"
   ]
  },
  {
   "cell_type": "code",
   "execution_count": 11,
   "id": "b2a3ce21",
   "metadata": {},
   "outputs": [],
   "source": []
  },
  {
   "cell_type": "code",
   "execution_count": 12,
   "id": "58b30c92",
   "metadata": {},
   "outputs": [
    {
     "ename": "NameError",
     "evalue": "name 'factorial' is not defined",
     "output_type": "error",
     "traceback": [
      "\u001b[1;31m---------------------------------------------------------------------------\u001b[0m",
      "\u001b[1;31mNameError\u001b[0m                                 Traceback (most recent call last)",
      "\u001b[1;32m~\\AppData\\Local\\Temp/ipykernel_6896/1839277961.py\u001b[0m in \u001b[0;36m<module>\u001b[1;34m\u001b[0m\n\u001b[1;32m----> 1\u001b[1;33m \u001b[0mfactorial\u001b[0m\u001b[1;33m(\u001b[0m\u001b[1;36m4\u001b[0m\u001b[1;33m)\u001b[0m\u001b[1;33m\u001b[0m\u001b[1;33m\u001b[0m\u001b[0m\n\u001b[0m",
      "\u001b[1;31mNameError\u001b[0m: name 'factorial' is not defined"
     ]
    }
   ],
   "source": [
    "factorial(4)"
   ]
  },
  {
   "cell_type": "code",
   "execution_count": 13,
   "id": "14ccf0ba",
   "metadata": {},
   "outputs": [
    {
     "data": {
      "text/plain": [
       "24"
      ]
     },
     "execution_count": 13,
     "metadata": {},
     "output_type": "execute_result"
    }
   ],
   "source": [
    "from math import *\n",
    "factorial(4)"
   ]
  },
  {
   "cell_type": "code",
   "execution_count": 14,
   "id": "39ac353b",
   "metadata": {},
   "outputs": [
    {
     "data": {
      "text/plain": [
       "120"
      ]
     },
     "execution_count": 14,
     "metadata": {},
     "output_type": "execute_result"
    }
   ],
   "source": [
    "prod([2,3,4,5])"
   ]
  },
  {
   "cell_type": "code",
   "execution_count": 2,
   "id": "35126d94",
   "metadata": {},
   "outputs": [],
   "source": [
    "import math"
   ]
  },
  {
   "cell_type": "code",
   "execution_count": 4,
   "id": "475e4b23",
   "metadata": {},
   "outputs": [
    {
     "data": {
      "text/plain": [
       "24"
      ]
     },
     "execution_count": 4,
     "metadata": {},
     "output_type": "execute_result"
    }
   ],
   "source": [
    "math.factorial(4)"
   ]
  },
  {
   "cell_type": "code",
   "execution_count": 1,
   "id": "cbb09596",
   "metadata": {},
   "outputs": [],
   "source": [
    "import math as mathematics"
   ]
  },
  {
   "cell_type": "code",
   "execution_count": 4,
   "id": "5c9113db",
   "metadata": {},
   "outputs": [
    {
     "data": {
      "text/plain": [
       "24"
      ]
     },
     "execution_count": 4,
     "metadata": {},
     "output_type": "execute_result"
    }
   ],
   "source": [
    "mathematics.factorial(4)"
   ]
  },
  {
   "cell_type": "code",
   "execution_count": 8,
   "id": "e042041f",
   "metadata": {},
   "outputs": [],
   "source": [
    "from math import factorial as facto"
   ]
  },
  {
   "cell_type": "code",
   "execution_count": 9,
   "id": "be9a9ba2",
   "metadata": {},
   "outputs": [
    {
     "data": {
      "text/plain": [
       "24"
      ]
     },
     "execution_count": 9,
     "metadata": {},
     "output_type": "execute_result"
    }
   ],
   "source": [
    "facto(4)"
   ]
  },
  {
   "cell_type": "code",
   "execution_count": 10,
   "id": "e9e0226a",
   "metadata": {},
   "outputs": [],
   "source": [
    "# Module\n",
    "# in Python numim modul (module) un fisier cu extensia \".py\" (un fisier python se numeste modul)\n",
    "\n",
    "# cum se pot importa?\n",
    "# import module (daca avem un fisier numit program.py, importul arata asa: import program)\n",
    "# import module as module_name\n",
    "# from module import x ( where x can be a function or a class)\n",
    "# from module import *"
   ]
  },
  {
   "cell_type": "code",
   "execution_count": 12,
   "id": "f875a6ad",
   "metadata": {},
   "outputs": [
    {
     "data": {
      "text/plain": [
       "['.ipynb_checkpoints',\n",
       " 'files_lesson',\n",
       " 'ITFACTORY_PY4_Curs_01.ipynb',\n",
       " 'ITFACTORY_PY4_Curs_02.ipynb',\n",
       " 'ITFACTORY_PY4_Curs_03.ipynb',\n",
       " 'ITFACTORY_PY4_Curs_04.ipynb',\n",
       " 'ITFACTORY_PY4_Curs_05.ipynb',\n",
       " 'ITFACTORY_PY4_Curs_06.ipynb',\n",
       " 'ITFACTORY_PY4_Curs_07.ipynb',\n",
       " 'ITFACTORY_PY4_Curs_08.ipynb',\n",
       " 'ITFACTORY_PY4_Curs_08_observatii.ipynb',\n",
       " 'ITFACTORY_PY4_Tema_01_observatii.ipynb',\n",
       " 'ITFACTORY_PY4_Tema_02_observatii.ipynb',\n",
       " 'ITFACTORY_PY4_Tema_03_observatii.ipynb',\n",
       " 'ITFACTORY_PY4_Tema_04_observatii.ipynb',\n",
       " 'ITFACTORY_PY4_Tema_05_observatii.ipynb',\n",
       " 'ITFACTORY_PY4_Tema_06_observatii.ipynb',\n",
       " 'people.json',\n",
       " 'student_grades.csv',\n",
       " 'student_grades_sorted.csv',\n",
       " 'Teme']"
      ]
     },
     "execution_count": 12,
     "metadata": {},
     "output_type": "execute_result"
    }
   ],
   "source": [
    "import os\n",
    "os.listdir()  # listeaza continutul directorului (folder) curent "
   ]
  },
  {
   "cell_type": "code",
   "execution_count": 54,
   "id": "9de22003",
   "metadata": {},
   "outputs": [],
   "source": [
    "import sys\n",
    "print(sys.path)  # variabila care salveaza toate locatiile in care se poate uita python dupa module si librarii de importat"
   ]
  },
  {
   "cell_type": "code",
   "execution_count": 21,
   "id": "02b20d15",
   "metadata": {},
   "outputs": [],
   "source": [
    "def is_prime_v1(nr):\n",
    "    prime=True\n",
    "    for i in range(2,nr):\n",
    "        if nr%i==0:\n",
    "            prime=False\n",
    "    return prime\n",
    "\n",
    "def list_of_primes_in_interval_v1(start,stop):\n",
    "    list_of_prime=[]\n",
    "    for i in range(start,stop+1):\n",
    "        if is_prime_v1(i)==True:\n",
    "            list_of_prime.append(i)\n",
    "    return list_of_prime\n"
   ]
  },
  {
   "cell_type": "code",
   "execution_count": 17,
   "id": "b89de0ed",
   "metadata": {},
   "outputs": [],
   "source": [
    "def is_prime_v2(nr):\n",
    "    import math\n",
    "    end_search_range = int(math.sqrt(nr))\n",
    "    \n",
    "    if nr == 1:\n",
    "        return False\n",
    "    if nr == 2:\n",
    "        return True\n",
    "    elif nr > 2 and nr % 2 == 0:  # if the number is even, we return really fast\n",
    "        return False\n",
    "\n",
    "    for divisor in range(3, end_search_range + 1, 2):  # we now only search through odd numbers smaller than\n",
    "        if nr % divisor == 0:                          # squared root of the number! \n",
    "            return False                               # if nr = sqrt(nr) * sqrt(nr), lets say sqrt(nr) * sqrt(nr) = a * b\n",
    "    return True                                        # => 3 cases: a>sqrt(nr) , b<sqrt(nr), a,b = sqrt(nr), a<sqrt(nr) b>sqrt(nr)\n",
    "\n",
    "\n",
    "def list_of_primes_in_interval_v2(a,b):\n",
    "    primes_list = []\n",
    "    for nr in range(a,b+1):\n",
    "        if is_prime_v2(nr):\n",
    "            primes_list.append(nr)\n",
    "    return primes_list"
   ]
  },
  {
   "cell_type": "code",
   "execution_count": null,
   "id": "9e314cd7",
   "metadata": {},
   "outputs": [],
   "source": [
    "def list_of_primes_in_interval_v3(a,b):\n",
    "    primes_list = []\n",
    "    for nr in range(a, b+1):\n",
    "        prime=True\n",
    "        for i in range(2,nr):\n",
    "            if nr%i==0:\n",
    "                prime=False\n",
    "        \n",
    "        if prime:\n",
    "            primes_list.append(nr)\n",
    "    return primes_list"
   ]
  },
  {
   "cell_type": "code",
   "execution_count": 22,
   "id": "e97ca808",
   "metadata": {},
   "outputs": [],
   "source": [
    "# Create a new directory called modules_exercise inside your pycharm project.\n",
    "# Inside modules_exercise, create a new file named is_prime.py and put in there all the previously defined is_prime implementations.\n",
    "# Then create a file named primes_in_interval.py and put the list_of_primes_in_interval functions in there.\n",
    "# 1. Let`s create a 3rd test.py file and using the import statement, import everything from is_prime.py and try to call is_prime_v2(13) and print the result.\n",
    "# 1.1. (Bonus) Being in test.py, let try to actually test the function, not just print the result, so...\n",
    "#      How can we make sure that our is_prime returns the expected result?, if it doesnt return the expected result, it should throw an expection... (tip: it is a specific statement)\n",
    "# 2. Now, try to import the list_of_primes_in_interval_v3 function from primes_in_interval.py module, call it with 5, 35 and print its result.\n",
    "# 2.2. Do the testing as well :).\n",
    "# 3. Now let`s try to do the same with list_of_primes_in_interval_v2 function, what do we observe? What should we do?"
   ]
  },
  {
   "cell_type": "code",
   "execution_count": 32,
   "id": "eaf1f2f3",
   "metadata": {},
   "outputs": [
    {
     "name": "stdout",
     "output_type": "stream",
     "text": [
      "ÿþP\u0000r\u0000i\u0000m\u0000u\u0000l\u0000 \u0000n\u0000o\u0000s\u0000t\u0000r\u0000u\u0000 \u0000t\u0000e\u0000x\u0000t\u0000\n",
      "\u0000\n",
      "\u0000A\u0000c\u0000e\u0000a\u0000s\u0000t\u0000a\u0000 \u0000e\u0000s\u0000t\u0000e\u0000 \u0000o\u0000 \u0000l\u0000i\u0000n\u0000i\u0000e\u0000 \u0000n\u0000o\u0000u\u0000a\u0000\n",
      "\u0000\n",
      "\u0000\n"
     ]
    }
   ],
   "source": [
    "# citire din fisier\n",
    "with open('my_first_file.txt', 'r') as f:\n",
    "    file_content = f.read()  # se poate folosi si f.readlines()....\n",
    "    # some code here\n",
    "    \n",
    "print(file_content)\n",
    "\n",
    "    \n",
    "# here the file is not open anymore\n",
    "# print('ceva')"
   ]
  },
  {
   "cell_type": "code",
   "execution_count": 46,
   "id": "1efd1643",
   "metadata": {},
   "outputs": [],
   "source": [
    "with open('my_first_file.txt', 'w', encoding='UTF-8') as f:\n",
    "    f.write(\"Acesta este textul scris din python\\nMa astept sa apara pe rand nou, oare apare??\")\n"
   ]
  },
  {
   "cell_type": "code",
   "execution_count": 47,
   "id": "00e452f8",
   "metadata": {},
   "outputs": [
    {
     "name": "stdout",
     "output_type": "stream",
     "text": [
      "Acesta este textul scris din python\n",
      "Ma astept sa apara pe rand nou, oare apare??\n"
     ]
    }
   ],
   "source": [
    "# citire din fisier\n",
    "with open('my_first_file.txt', 'r') as f:\n",
    "    file_content = f.read()  # se poate folosi si f.readlines()....\n",
    "    # some code here\n",
    "    \n",
    "print(file_content)"
   ]
  },
  {
   "cell_type": "code",
   "execution_count": 43,
   "id": "3cce6ad6",
   "metadata": {},
   "outputs": [
    {
     "name": "stdout",
     "output_type": "stream",
     "text": [
      "['r1_col1', 'r1_col2', 'r1_col3']\n",
      "['r2_col1', 'r2_col2', 'r2_col3']\n",
      "[['r1_col1', 'r1_col2'], ['r2_col1', 'r2_col2']]\n"
     ]
    }
   ],
   "source": [
    "import csv\n",
    "rows = []\n",
    "with open('new_csv.csv', 'r') as csv_file:\n",
    "    csv_reader = csv.reader(csv_file)\n",
    "    for row in csv_reader:\n",
    "        print(row)\n",
    "        rows.append(row[:-1])\n",
    "#         print(', '.join(row))\n",
    "\n",
    "print(rows)"
   ]
  },
  {
   "cell_type": "code",
   "execution_count": 44,
   "id": "801afbcb",
   "metadata": {},
   "outputs": [],
   "source": [
    "with open('new_csv.csv', 'w', newline='') as csv_file:\n",
    "    csv_writer = csv.writer(csv_file)\n",
    "    for row in rows:\n",
    "        csv_writer.writerow(row)\n",
    "#         print(', '.join(row))"
   ]
  },
  {
   "cell_type": "code",
   "execution_count": 53,
   "id": "5d4e887b",
   "metadata": {},
   "outputs": [],
   "source": [
    "# Given the csv file student_grades.csv:\n",
    "# 1. List the contents of the file as a list of dicts, a row being a dict of form:\n",
    "# {\"student_name\": <name_of_student>, \"subject\": <name_of_subject>, \"grade\": <grade>}\n",
    "# 2. Sort the contents of the file based on student`s name and saved it back like that\n",
    "# 3. List the student that has the most grades and how many it has\n",
    "# 4. Write a function that returns the overall grade average for every student in a dict of form {student_name1: grade_avg1,..} \n",
    "\n",
    "\n",
    "##student_grades.csv:\n",
    "#Eveline,math,9\n",
    "#Andrew,physics,6\n",
    "#Celine,music,10\n",
    "#Matthew,math,7\n",
    "#Celine,english,10\n",
    "#Matthew,english,10\n",
    "#Celine,chemistry,6"
   ]
  },
  {
   "cell_type": "code",
   "execution_count": null,
   "id": "7081a4d8",
   "metadata": {},
   "outputs": [],
   "source": []
  },
  {
   "cell_type": "code",
   "execution_count": null,
   "id": "1cfc620b",
   "metadata": {},
   "outputs": [],
   "source": [
    "# (TEMA_08): Given the json file people.json:\n",
    "# 1. Write a function that will print all the details of a person. The function will receive first_name and last_name.\n",
    "# 2. List the details of the oldest person\n",
    "# 3. List the details for of all the girls Mike has\n",
    "# 4. List the details of the children 'Mike' and 'Mary' have together.\n",
    "# 5. Marry Anna to John and do the required changes!\n",
    "# 6. Add a new person to the file that is going to be Adrian`s partner called 'Adriana' thats 25 years old and has no children.\n",
    "# TIP: for generating an id, import uuid and use the function uuid.uuid4()\n",
    "# 7. List the final version of data and save it to the file\n",
    "# 8. Write a function that let`s you add a new person to the file using keyboard inputs for every trait. (you can choose how to handle children and partner: at creating or later?)\n"
   ]
  },
  {
   "cell_type": "code",
   "execution_count": null,
   "id": "d7243606",
   "metadata": {},
   "outputs": [],
   "source": []
  },
  {
   "cell_type": "code",
   "execution_count": null,
   "id": "0b0fb4b0",
   "metadata": {},
   "outputs": [],
   "source": []
  },
  {
   "cell_type": "code",
   "execution_count": null,
   "id": "3fe2dcb8",
   "metadata": {},
   "outputs": [],
   "source": []
  }
 ],
 "metadata": {
  "kernelspec": {
   "display_name": "Python 3 (ipykernel)",
   "language": "python",
   "name": "python3"
  },
  "language_info": {
   "codemirror_mode": {
    "name": "ipython",
    "version": 3
   },
   "file_extension": ".py",
   "mimetype": "text/x-python",
   "name": "python",
   "nbconvert_exporter": "python",
   "pygments_lexer": "ipython3",
   "version": "3.8.12"
  }
 },
 "nbformat": 4,
 "nbformat_minor": 5
}
