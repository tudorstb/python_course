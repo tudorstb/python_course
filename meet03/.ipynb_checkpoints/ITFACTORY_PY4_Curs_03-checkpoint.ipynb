{
 "cells": [
  {
   "cell_type": "code",
   "execution_count": 1,
   "id": "ea2c0283",
   "metadata": {},
   "outputs": [
    {
     "data": {
      "text/plain": [
       "3"
      ]
     },
     "execution_count": 1,
     "metadata": {},
     "output_type": "execute_result"
    }
   ],
   "source": [
    "x = 3.5\n",
    "x = int(x)\n",
    "x"
   ]
  },
  {
   "cell_type": "code",
   "execution_count": 2,
   "id": "7a2d2a81",
   "metadata": {},
   "outputs": [
    {
     "ename": "ValueError",
     "evalue": "invalid literal for int() with base 10: '3.5'",
     "output_type": "error",
     "traceback": [
      "\u001b[1;31m---------------------------------------------------------------------------\u001b[0m",
      "\u001b[1;31mValueError\u001b[0m                                Traceback (most recent call last)",
      "\u001b[1;32m~\\AppData\\Local\\Temp/ipykernel_12528/1521385621.py\u001b[0m in \u001b[0;36m<module>\u001b[1;34m\u001b[0m\n\u001b[0;32m      1\u001b[0m \u001b[0mx\u001b[0m \u001b[1;33m=\u001b[0m \u001b[1;34m'3.5'\u001b[0m\u001b[1;33m\u001b[0m\u001b[1;33m\u001b[0m\u001b[0m\n\u001b[1;32m----> 2\u001b[1;33m \u001b[0mx\u001b[0m \u001b[1;33m=\u001b[0m \u001b[0mint\u001b[0m\u001b[1;33m(\u001b[0m\u001b[0mx\u001b[0m\u001b[1;33m)\u001b[0m\u001b[1;33m\u001b[0m\u001b[1;33m\u001b[0m\u001b[0m\n\u001b[0m\u001b[0;32m      3\u001b[0m \u001b[0mx\u001b[0m\u001b[1;33m\u001b[0m\u001b[1;33m\u001b[0m\u001b[0m\n",
      "\u001b[1;31mValueError\u001b[0m: invalid literal for int() with base 10: '3.5'"
     ]
    }
   ],
   "source": [
    "x = '3.5'\n",
    "x = int(x)\n",
    "x"
   ]
  },
  {
   "cell_type": "code",
   "execution_count": 3,
   "id": "205d0b66",
   "metadata": {},
   "outputs": [
    {
     "data": {
      "text/plain": [
       "14"
      ]
     },
     "execution_count": 3,
     "metadata": {},
     "output_type": "execute_result"
    }
   ],
   "source": [
    "x = '14'\n",
    "x = int(x)\n",
    "x"
   ]
  },
  {
   "cell_type": "code",
   "execution_count": 4,
   "id": "9bf0ab66",
   "metadata": {},
   "outputs": [
    {
     "data": {
      "text/plain": [
       "3.5"
      ]
     },
     "execution_count": 4,
     "metadata": {},
     "output_type": "execute_result"
    }
   ],
   "source": [
    "x = '3.5'\n",
    "x = float(x)\n",
    "x"
   ]
  },
  {
   "cell_type": "code",
   "execution_count": 6,
   "id": "22e3721c",
   "metadata": {},
   "outputs": [
    {
     "name": "stdout",
     "output_type": "stream",
     "text": [
      "Give me your number: 3.5\n",
      "<class 'str'>\n"
     ]
    },
    {
     "ename": "ValueError",
     "evalue": "invalid literal for int() with base 10: '3.5'",
     "output_type": "error",
     "traceback": [
      "\u001b[1;31m---------------------------------------------------------------------------\u001b[0m",
      "\u001b[1;31mValueError\u001b[0m                                Traceback (most recent call last)",
      "\u001b[1;32m~\\AppData\\Local\\Temp/ipykernel_12528/3738732944.py\u001b[0m in \u001b[0;36m<module>\u001b[1;34m\u001b[0m\n\u001b[0;32m      1\u001b[0m \u001b[0minputed_nr\u001b[0m \u001b[1;33m=\u001b[0m \u001b[0minput\u001b[0m\u001b[1;33m(\u001b[0m\u001b[1;34m'Give me your number: '\u001b[0m\u001b[1;33m)\u001b[0m\u001b[1;33m\u001b[0m\u001b[1;33m\u001b[0m\u001b[0m\n\u001b[0;32m      2\u001b[0m \u001b[0mprint\u001b[0m\u001b[1;33m(\u001b[0m\u001b[0mtype\u001b[0m\u001b[1;33m(\u001b[0m\u001b[0minputed_nr\u001b[0m\u001b[1;33m)\u001b[0m\u001b[1;33m)\u001b[0m\u001b[1;33m\u001b[0m\u001b[1;33m\u001b[0m\u001b[0m\n\u001b[1;32m----> 3\u001b[1;33m \u001b[0minputed_nr\u001b[0m \u001b[1;33m=\u001b[0m \u001b[0mint\u001b[0m\u001b[1;33m(\u001b[0m\u001b[0minputed_nr\u001b[0m\u001b[1;33m)\u001b[0m\u001b[1;33m\u001b[0m\u001b[1;33m\u001b[0m\u001b[0m\n\u001b[0m",
      "\u001b[1;31mValueError\u001b[0m: invalid literal for int() with base 10: '3.5'"
     ]
    }
   ],
   "source": [
    "inputed_nr = input('Give me your number: ')\n",
    "print(type(inputed_nr))\n",
    "inputed_nr = int(inputed_nr)   # daca introduc un float nu merge"
   ]
  },
  {
   "cell_type": "code",
   "execution_count": 9,
   "id": "e0a94b5d",
   "metadata": {},
   "outputs": [
    {
     "name": "stdout",
     "output_type": "stream",
     "text": [
      "Give me your number: 3.5\n",
      "3 <class 'int'>\n"
     ]
    }
   ],
   "source": [
    "inputed_nr = input('Give me your number: ')\n",
    "# il vreau int chiar daca introduc un float: de ex in: 3.5 => inputed_nr sa fie = 3\n",
    "inputed_nr = int(float(inputed_nr))\n",
    "print(inputed_nr, type(inputed_nr))"
   ]
  },
  {
   "cell_type": "code",
   "execution_count": 14,
   "id": "6ebc646a",
   "metadata": {},
   "outputs": [
    {
     "name": "stdout",
     "output_type": "stream",
     "text": [
      "da\n",
      "da\n"
     ]
    }
   ],
   "source": [
    "#Ex4: Verifica si afiseaza daca x este intre -2 si 13\n",
    "x = 11\n",
    "# v1\n",
    "if x >= -2 and x <= 13:\n",
    "    print('da')\n",
    "else:\n",
    "    print('nu')\n",
    "    \n",
    "# v2\n",
    "if x in range(-2, 14):\n",
    "    print('da')\n",
    "else:\n",
    "    print('nu')"
   ]
  },
  {
   "cell_type": "code",
   "execution_count": 11,
   "id": "b348aa8b",
   "metadata": {},
   "outputs": [
    {
     "name": "stdout",
     "output_type": "stream",
     "text": [
      "[-2, -1, 0, 1, 2, 3, 4, 5, 6, 7, 8, 9, 10, 11, 12, 13]\n"
     ]
    }
   ],
   "source": [
    "print(list(range(-2, 14)))"
   ]
  },
  {
   "cell_type": "code",
   "execution_count": 18,
   "id": "45604066",
   "metadata": {},
   "outputs": [
    {
     "name": "stdout",
     "output_type": "stream",
     "text": [
      "17 10\n",
      "nu, dif NU e mai mica decat 5\n"
     ]
    }
   ],
   "source": [
    "# Ex5: Verifica si afiseaza daca diferenta dintre x si y este mai mica de 5\n",
    "x = 10\n",
    "y = 17\n",
    "\n",
    "# v1\n",
    "# swap intre x si y, varianta old-school\n",
    "if y > x:  \n",
    "    aux = y\n",
    "    y = x\n",
    "    x = aux\n",
    "# swap varianta python\n",
    "if y > x: \n",
    "    x, y = y, x\n",
    "print(x, y)\n",
    "\n",
    "if x - y < 5:\n",
    "    print('da, dif e mai mica decat 5')\n",
    "else:\n",
    "    print('nu, dif NU e mai mica decat 5')\n",
    "\n",
    "\n"
   ]
  },
  {
   "cell_type": "code",
   "execution_count": 20,
   "id": "49617266",
   "metadata": {},
   "outputs": [
    {
     "name": "stdout",
     "output_type": "stream",
     "text": [
      "nu, dif NU e < 5\n"
     ]
    }
   ],
   "source": [
    "x = 10\n",
    "y = 17\n",
    "# v2\n",
    "if (x > y and x - y < 5) or (x < y and y - x < 5) :\n",
    "    print('da, dif e mai mica decat 5')\n",
    "else:\n",
    "    print('nu, dif NU e < 5')"
   ]
  },
  {
   "cell_type": "code",
   "execution_count": 24,
   "id": "5a7143ae",
   "metadata": {},
   "outputs": [
    {
     "name": "stdout",
     "output_type": "stream",
     "text": [
      "nu, dif > 5\n"
     ]
    }
   ],
   "source": [
    "x = 10\n",
    "y = 17\n",
    "# v3\n",
    "if abs(x - y) < 5:\n",
    "    print('da, dif < 5')\n",
    "else:\n",
    "    print('nu, dif > 5')\n",
    "    \n",
    "# unde abs e valoarea absoluta, modulul din matematica: | x - y | < 5, ex: | 10 - 17 | = | -7 | = 7\n"
   ]
  },
  {
   "cell_type": "code",
   "execution_count": 28,
   "id": "cb2834af",
   "metadata": {},
   "outputs": [
    {
     "name": "stdout",
     "output_type": "stream",
     "text": [
      "Introduceti o litera: A\n",
      "litera e vocala\n"
     ]
    }
   ],
   "source": [
    "# Ex9: Citeste o litera de la tastatura. Verifica daca e vocala\n",
    "litera = input('Introduceti o litera: ')\n",
    "vocale = 'aeiou'  # sau vocale = ('a', 'e', 'i', 'o', 'u') \n",
    "if litera.lower() in vocale:\n",
    "    print('litera e vocala')\n",
    "else:\n",
    "    print('litera NU e vocala') "
   ]
  },
  {
   "cell_type": "code",
   "execution_count": 48,
   "id": "18764bad",
   "metadata": {},
   "outputs": [
    {
     "name": "stdout",
     "output_type": "stream",
     "text": [
      "x = 123\n",
      "try again :)\n"
     ]
    }
   ],
   "source": [
    "# EX12: Verifica daca x are exact 6 cifre\n",
    "x = input('x = ')\n",
    "try:\n",
    "    y = float(x)\n",
    "except:\n",
    "    print('Nu ati introdus un numar, try again!')\n",
    "else:\n",
    "    if x[0] == '0':\n",
    "        x = x[1:]\n",
    "    if (len(x) == 6 and '.' not in x) or (len(x) == 7 and '.' in x):\n",
    "        print('da, nr are exact 6 cifre')\n",
    "    else:\n",
    "        print('try again :)')    "
   ]
  },
  {
   "cell_type": "code",
   "execution_count": 50,
   "id": "f68a761a",
   "metadata": {},
   "outputs": [
    {
     "name": "stdout",
     "output_type": "stream",
     "text": [
      "y e cel mai mare cu valoarea 20\n",
      "20\n"
     ]
    }
   ],
   "source": [
    "# Ex14: x, y, z (int). Afiseaza care este cel mai mare dintre ele?\n",
    "x = 14\n",
    "# x = int(input(' x = '))\n",
    "y = 20\n",
    "z = 10\n",
    "\n",
    "# v1\n",
    "if x > y and x > z:\n",
    "    print(f'x e cel mai mare cu valoarea {x}')\n",
    "elif y > x and y > z:\n",
    "    print(f'y e cel mai mare cu valoarea {y}')\n",
    "else:\n",
    "    print(f'z e cel mai mare cu valoarea {z}')\n",
    "    \n",
    "\n",
    "# v2\n",
    "print(max(x,y,z))"
   ]
  },
  {
   "cell_type": "code",
   "execution_count": 51,
   "id": "3d9d0809",
   "metadata": {},
   "outputs": [
    {
     "data": {
      "text/plain": [
       "2"
      ]
     },
     "execution_count": 51,
     "metadata": {},
     "output_type": "execute_result"
    }
   ],
   "source": [
    "max(1,2,1)"
   ]
  },
  {
   "cell_type": "code",
   "execution_count": 52,
   "id": "1dba9ff6",
   "metadata": {},
   "outputs": [
    {
     "data": {
      "text/plain": [
       "100"
      ]
     },
     "execution_count": 52,
     "metadata": {},
     "output_type": "execute_result"
    }
   ],
   "source": [
    "max([1,23,6,100,5])  # array-ul din alte limbaje in python se numeste list "
   ]
  },
  {
   "cell_type": "code",
   "execution_count": 53,
   "id": "332ddf9c",
   "metadata": {},
   "outputs": [
    {
     "data": {
      "text/plain": [
       "'z'"
      ]
     },
     "execution_count": 53,
     "metadata": {},
     "output_type": "execute_result"
    }
   ],
   "source": [
    "max('qweza')"
   ]
  },
  {
   "cell_type": "code",
   "execution_count": 54,
   "id": "72a7634e",
   "metadata": {},
   "outputs": [
    {
     "data": {
      "text/plain": [
       "'zyw'"
      ]
     },
     "execution_count": 54,
     "metadata": {},
     "output_type": "execute_result"
    }
   ],
   "source": [
    "max('abc', 'zyw')"
   ]
  },
  {
   "cell_type": "code",
   "execution_count": null,
   "id": "efb5e453",
   "metadata": {},
   "outputs": [],
   "source": []
  },
  {
   "cell_type": "code",
   "execution_count": 63,
   "id": "1db3e8f0",
   "metadata": {},
   "outputs": [
    {
     "data": {
      "text/plain": [
       "[1, True, 'stringul_meu', 3.5, ('a', 'c', 1), {'key': 'val'}]"
      ]
     },
     "execution_count": 63,
     "metadata": {},
     "output_type": "execute_result"
    }
   ],
   "source": [
    "# LIST:\n",
    "my_list = [1,23,6,100,5]\n",
    "my_list = [1, True, 'stringul_meu', 3.5, ('a', 'c', 1), {'key': 'val'}]\n",
    "my_list"
   ]
  },
  {
   "cell_type": "code",
   "execution_count": 64,
   "id": "9dbcfedb",
   "metadata": {},
   "outputs": [
    {
     "data": {
      "text/plain": [
       "[1, True, 'stringul_meu', 3.5, ('a', 'c', 1), {'key': 'val'}, 100]"
      ]
     },
     "execution_count": 64,
     "metadata": {},
     "output_type": "execute_result"
    }
   ],
   "source": [
    "# odata ce o avem si vrem sa adaugam valori\n",
    "my_list.append(100)\n",
    "my_list"
   ]
  },
  {
   "cell_type": "code",
   "execution_count": 68,
   "id": "8db057a7",
   "metadata": {},
   "outputs": [],
   "source": [
    "my_new_value_to_add_in_my_list = 'adaugat_la_inceput' "
   ]
  },
  {
   "cell_type": "code",
   "execution_count": 66,
   "id": "b465b8c1",
   "metadata": {},
   "outputs": [
    {
     "name": "stdout",
     "output_type": "stream",
     "text": [
      "yesofcourse\n"
     ]
    }
   ],
   "source": [
    "my_string = 'ofcourse'\n",
    "# vreau sa adaug 'yes' inainte lui 'ofcourse' => 'yesofcourse'\n",
    "my_string = 'yes' + my_string\n",
    "print(my_string)"
   ]
  },
  {
   "cell_type": "code",
   "execution_count": 70,
   "id": "3a85baea",
   "metadata": {},
   "outputs": [
    {
     "name": "stdout",
     "output_type": "stream",
     "text": [
      "['adaugat_la_inceput', 1, True, 'stringul_meu', 3.5, ('a', 'c', 1), {'key': 'val'}, 100]\n"
     ]
    }
   ],
   "source": [
    "my_list = [my_new_value_to_add_in_my_list] + my_list\n",
    "print(my_list)"
   ]
  },
  {
   "cell_type": "code",
   "execution_count": 76,
   "id": "c0eb1563",
   "metadata": {},
   "outputs": [
    {
     "data": {
      "text/plain": [
       "['adaugat_la_inceput',\n",
       " 'a_doua_val',\n",
       " 1,\n",
       " True,\n",
       " 'stringul_meu',\n",
       " 3.5,\n",
       " ('a', 'c', 1),\n",
       " {'key': 'val'},\n",
       " 100]"
      ]
     },
     "execution_count": 76,
     "metadata": {},
     "output_type": "execute_result"
    }
   ],
   "source": [
    "my_list = ['adaugat_la_inceput', 1, True, 'stringul_meu', 3.5, ('a', 'c', 1), {'key': 'val'}, 100]\n",
    "my_list.insert(1, 'a_doua_val')\n",
    "my_list"
   ]
  },
  {
   "cell_type": "code",
   "execution_count": 93,
   "id": "ac795c4a",
   "metadata": {},
   "outputs": [
    {
     "name": "stdout",
     "output_type": "stream",
     "text": [
      "abcd\n",
      "abc\n",
      "abcd\n",
      "1\n",
      "False\n"
     ]
    }
   ],
   "source": [
    "s = 'abc'\n",
    "\n",
    "# vreau sa adaug 'd' la finalul lui s\n",
    "print(s + 'd')\n",
    "print(s)\n",
    "\n",
    "s = s + 'd'  # stringul e imutabil!\n",
    "print(s)\n",
    "\n",
    "\n",
    "print(s.index('b'))  # si stringul e indexat!\n",
    "\n",
    "# stringul e si ordonat\n",
    "s1 = 'abc'\n",
    "s2 = 'bac'\n",
    "print(s1 == s2)"
   ]
  },
  {
   "cell_type": "code",
   "execution_count": 94,
   "id": "99646660",
   "metadata": {},
   "outputs": [
    {
     "name": "stdout",
     "output_type": "stream",
     "text": [
      "16\n",
      "6\n",
      "False\n",
      "['a', 'b', 'c', 'd']\n",
      "[1, 3, 6, 16, 27]\n",
      "3\n",
      "5\n"
     ]
    }
   ],
   "source": [
    "# LIST:\n",
    "\n",
    "my_lst = [1,2,3]\n",
    "#INDECSI# 0 1 2  , merg si de la capat, exact ca la string \n",
    "\n",
    "# lista e indexata!!!\n",
    "print(lst[0])\n",
    "print(lst[-1])\n",
    "\n",
    "# lista e ordonata!!\n",
    "l1 = [1,2,3]\n",
    "l2 = [2,1,3]\n",
    "print(l1 == l2) # e False!!\n",
    "\n",
    "# lista e mutabila!!\n",
    "lst = ['a', 'b', 'c']\n",
    "# vreau sa adaug d la finalul listei\n",
    "lst.append('d')\n",
    "print(lst)\n",
    "\n",
    "\n",
    "lst = [16, 3, 27, 1, 6]\n",
    "lst.sort()\n",
    "print(lst)\n",
    "\n",
    "lst = [16, 33, 27, 1, 6]\n",
    "print(lst.index(1))\n",
    "print(len(lst))"
   ]
  },
  {
   "cell_type": "code",
   "execution_count": 151,
   "id": "1e350451",
   "metadata": {},
   "outputs": [
    {
     "name": "stdout",
     "output_type": "stream",
     "text": [
      "[1, 2, 100, 4, 5, 6]\n"
     ]
    }
   ],
   "source": [
    "lst = [1,2,3,4,5,6]\n",
    "lst[2] = 100\n",
    "print(lst)"
   ]
  },
  {
   "cell_type": "code",
   "execution_count": null,
   "id": "e87de633",
   "metadata": {},
   "outputs": [],
   "source": []
  },
  {
   "cell_type": "code",
   "execution_count": 112,
   "id": "99ff467b",
   "metadata": {},
   "outputs": [
    {
     "name": "stdout",
     "output_type": "stream",
     "text": [
      "12\n",
      "True\n",
      "False\n",
      "[12, True, 'qweq', [1, 2, 3], 100]\n",
      "(12, True, 'qweq', [1, 2, 3], 100)\n",
      "2\n",
      "2\n"
     ]
    }
   ],
   "source": [
    "# TUPLE\n",
    "t = (12, True, \"qweq\", [1,2,3])\n",
    "\n",
    "# tupla e indexata!!!\n",
    "print(t[0])\n",
    "\n",
    "# tupla e ordonata!!!\n",
    "t1 = (1,2,3)\n",
    "t2 = (1,2,3)\n",
    "t3 = (1,3,2)\n",
    "print(t1 == t2)  # True\n",
    "print(t1 == t3)  # False\n",
    "\n",
    "# tupla e imutabila!!!!\n",
    "# t.append(100)  # nu are append, fiindca e imutabila\n",
    "\n",
    "# solutia ar fi.. sa ne transformam tupla intr`o lista:)\n",
    "l = list(t)\n",
    "l.append(100)\n",
    "print(l)\n",
    "t = tuple(l)\n",
    "print(t)  # daca vrem sa modificam valorile din interior, lucram cu liste, nu tuple\n",
    "\n",
    "t = (100,200,300,400,200)\n",
    "print(t.index(300))\n",
    "\n",
    "print(t.count(200))\n",
    "\n"
   ]
  },
  {
   "cell_type": "code",
   "execution_count": 119,
   "id": "56b26090",
   "metadata": {},
   "outputs": [
    {
     "name": "stdout",
     "output_type": "stream",
     "text": [
      "10\n",
      "5\n",
      "(1, 2)\n",
      "<class 'tuple'>\n",
      "1\n",
      "2\n",
      "<class 'int'>\n"
     ]
    }
   ],
   "source": [
    "x = 5\n",
    "y = 10\n",
    "x, y = y, x # sau (x, y) = (y, x) => tuple unpacking, se foloseste mult la functii, cand se returneaza mai mult de o valoare\n",
    "print(x)\n",
    "print(y)\n",
    "\n",
    "def my_func():\n",
    "    return 1,2\n",
    "\n",
    "func_returned_value = my_func()\n",
    "print(func_returned_value)\n",
    "print(type(func_returned_value))\n",
    "\n",
    "a,b = my_func()   # (a,b) = (1,2)\n",
    "print(a)\n",
    "print(b)\n",
    "print(type(a))"
   ]
  },
  {
   "cell_type": "code",
   "execution_count": 120,
   "id": "047794d8",
   "metadata": {},
   "outputs": [
    {
     "name": "stdout",
     "output_type": "stream",
     "text": [
      "4\n"
     ]
    }
   ],
   "source": [
    "t = (1,2,3,4)\n",
    "print(len(t))"
   ]
  },
  {
   "cell_type": "code",
   "execution_count": 152,
   "id": "aa400a36",
   "metadata": {},
   "outputs": [
    {
     "name": "stdout",
     "output_type": "stream",
     "text": [
      "value\n",
      "lungimea dictului = 3\n",
      "True\n",
      "key value\n",
      "another_key another_value\n",
      "one_more_key one_more_value\n",
      "......\n",
      "another_key another_value\n",
      "key value\n",
      "one_more_key one_more_value\n",
      "{'a': 1, 'b': 2}\n",
      "{'a': 1, 'b': 2, 'c': 3}\n",
      "{'a': 1, 'b': 2, 'c': 4}\n"
     ]
    }
   ],
   "source": [
    "# DICT\n",
    "my_dict = {'key': 'value', 'another': 'another_value', 'one_more_key': 'one_more_value'}   # constructie ca un dictionar adevara {'termen': 'definitia_termenului'}\n",
    "\n",
    "# dictionarul e neindexat!!!\n",
    "# print(my_dict[0])  # nu merge\n",
    "print(my_dict['key'])  # merge\n",
    "\n",
    "# dictionarul e ordonat!! (in python2 nu era ordonat!! noi invatam python3)\n",
    "my_dict1 = {'key': 'value', 'another_key': 'another_value', 'one_more_key': 'one_more_value'} \n",
    "print(f\"lungimea dictului = {len(my_dict1)}\")\n",
    "my_dict2 = {'another_key': 'another_value', 'key': 'value', 'one_more_key': 'one_more_value'}  \n",
    "print(my_dict1 == my_dict2)  # atentie, pare ca nu sunt egale\n",
    "# operatorul == la dictionare verifica continutul dictionarului, nu si ordinea elementelor\n",
    "for cheie in my_dict1:\n",
    "    print(cheie, my_dict1[cheie])  # dar dict-ul e ordonat...\n",
    "    \n",
    "print('......')\n",
    "for cheie in my_dict2:\n",
    "    print(cheie, my_dict2[cheie])\n",
    "    \n",
    "# dictionarul e mutabil!!!!\n",
    "my_dict = {'a': 1, 'b': 2}\n",
    "# vrem sa adaugam cheia 'c' cu valoarea 3\n",
    "print(my_dict)\n",
    "my_dict['c'] = 3\n",
    "print(my_dict)\n",
    "\n",
    "my_dict['c'] = 4\n",
    "print(my_dict)\n"
   ]
  },
  {
   "cell_type": "code",
   "execution_count": 140,
   "id": "8d6f48a1",
   "metadata": {},
   "outputs": [
    {
     "name": "stdout",
     "output_type": "stream",
     "text": [
      "{'string1': 'value_str1', 'string2': 102, 10: 'value_str2', 3.5: 15, 'lista ca valoare?': [1, 2, 3]}\n",
      "[1, 2, 3]\n"
     ]
    }
   ],
   "source": [
    "# ce putem pune in dictionar ca key si value\n",
    "d = {'string1': 'value_str1', 'string2': 102, 10: 'value_str2', 3.5: 15, 'lista ca valoare?': [1,2,3]}\n",
    "print(d)\n",
    "print(d['lista ca valoare?'])"
   ]
  },
  {
   "cell_type": "code",
   "execution_count": 142,
   "id": "084c26d9",
   "metadata": {},
   "outputs": [
    {
     "name": "stdout",
     "output_type": "stream",
     "text": [
      "{'lista ca valoare?': [1, 2, 3], 'tupla_merge?': (2, 3, 5), 'alt_dict?': {'a': 'aa', 'b': 'bb'}}\n"
     ]
    }
   ],
   "source": [
    "d = {'lista ca valoare?': [1,2,3], 'tupla_merge?': (2,3,5), 'alt_dict?': {'a': 'aa', 'b': 'bb'}}\n",
    "print(d)"
   ]
  },
  {
   "cell_type": "code",
   "execution_count": 145,
   "id": "ed9f5602",
   "metadata": {},
   "outputs": [
    {
     "ename": "TypeError",
     "evalue": "unhashable type: 'list'",
     "output_type": "error",
     "traceback": [
      "\u001b[1;31m---------------------------------------------------------------------------\u001b[0m",
      "\u001b[1;31mTypeError\u001b[0m                                 Traceback (most recent call last)",
      "\u001b[1;32m~\\AppData\\Local\\Temp/ipykernel_12528/4188558879.py\u001b[0m in \u001b[0;36m<module>\u001b[1;34m\u001b[0m\n\u001b[1;32m----> 1\u001b[1;33m \u001b[0md\u001b[0m \u001b[1;33m=\u001b[0m \u001b[1;33m{\u001b[0m\u001b[1;33m[\u001b[0m\u001b[1;36m1\u001b[0m\u001b[1;33m,\u001b[0m\u001b[1;36m2\u001b[0m\u001b[1;33m,\u001b[0m\u001b[1;36m3\u001b[0m\u001b[1;33m]\u001b[0m\u001b[1;33m:\u001b[0m \u001b[1;34m'o valoare random, nu conteaza ca verificam cheia'\u001b[0m\u001b[1;33m}\u001b[0m  \u001b[1;31m# dict are constructia key:value!!!\u001b[0m\u001b[1;33m\u001b[0m\u001b[1;33m\u001b[0m\u001b[0m\n\u001b[0m\u001b[0;32m      2\u001b[0m \u001b[0mprint\u001b[0m\u001b[1;33m(\u001b[0m\u001b[0md\u001b[0m\u001b[1;33m)\u001b[0m   \u001b[1;31m# nu poti avea o lista drept key intr`un dict, pt ca lista e mutabila\u001b[0m\u001b[1;33m\u001b[0m\u001b[1;33m\u001b[0m\u001b[0m\n",
      "\u001b[1;31mTypeError\u001b[0m: unhashable type: 'list'"
     ]
    }
   ],
   "source": [
    "d = {[1,2,3]: 'o valoare random, nu conteaza ca verificam cheia'}  # dict are constructia key:value!!!\n",
    "print(d)   # nu poti avea o lista drept key intr`un dict, pt ca lista e mutabila"
   ]
  },
  {
   "cell_type": "code",
   "execution_count": 146,
   "id": "37029799",
   "metadata": {},
   "outputs": [],
   "source": [
    "# python nu poate risca sa i se modifice cheia, deasta nu accepta chei mutabile\n",
    "# l = [1,2,3]\n",
    "# d = {l: 'o valoare random, nu conteaza ca verificam cheia'}\n",
    "# l.append(4)\n",
    "# d[l]\n",
    "\n",
    "# atentie !! codul e gresit complet!!"
   ]
  },
  {
   "cell_type": "code",
   "execution_count": 150,
   "id": "532f6bbe",
   "metadata": {},
   "outputs": [
    {
     "name": "stdout",
     "output_type": "stream",
     "text": [
      "{(1, 2, 3): 'val'}\n",
      "{(1, 2, 3): 'val', ('q', True, 10): True}\n"
     ]
    }
   ],
   "source": [
    "d = {(1,2,3): 'val'}  # tupla poate fi folosita drept key in dict fiindca e imutabila!!!\n",
    "print(d)\n",
    "\n",
    "t = ('q', True, 10)\n",
    "d[t] = True\n",
    "\n",
    "print(d)"
   ]
  },
  {
   "cell_type": "code",
   "execution_count": null,
   "id": "af876853",
   "metadata": {},
   "outputs": [],
   "source": []
  },
  {
   "cell_type": "code",
   "execution_count": 165,
   "id": "353188d4",
   "metadata": {},
   "outputs": [
    {
     "name": "stdout",
     "output_type": "stream",
     "text": [
      "alb\n",
      "rosu\n",
      "negru\n",
      "albastru\n",
      "True\n",
      "\n",
      "{'negru', 'albastru', 'verde', 'alb', 'rosu'}\n"
     ]
    }
   ],
   "source": [
    "# SET:\n",
    "s = {'alb', 'rosu', 'negru', 'albastru'}\n",
    "# putem scrie si:\n",
    "s = set(['alb', 'rosu', 'negru', 'albastru'])\n",
    "\n",
    "# setul e neindexat!!!\n",
    "# print(s[0])   # nu merge\n",
    "\n",
    "# setul e neordat!!!!\n",
    "s1 = {'alb', 'rosu', 'negru', 'albastru'}\n",
    "for el in s1:\n",
    "    print(el)\n",
    "s2 = {'rosu', 'negru', 'albastru', 'alb'}\n",
    "print(s1 == s2)   # verifica continutul, setul e neordonat chiar daca e greu de demonstrat momentan!!\n",
    "\n",
    "print()\n",
    "# setul e mutabil!!!\n",
    "s1.add('verde')  # merge..\n",
    "# e mutabil dar nu contine decat elemente imutabile\n",
    "print(s1)\n",
    "# s1[0] = 'altceva'  # dar nu putem modifica elemente cu ajutorul indexului\n"
   ]
  },
  {
   "cell_type": "code",
   "execution_count": 175,
   "id": "139aee30",
   "metadata": {},
   "outputs": [
    {
     "name": "stdout",
     "output_type": "stream",
     "text": [
      "{1, 2, 3, 4}\n",
      "{1, 2, (1, 2, 3), 'da'}\n"
     ]
    }
   ],
   "source": [
    "s = {1,2,3,1,2,4}\n",
    "print(s)   # setul nu contine elemente duplicate!! doar elem unice\n",
    "\n",
    "s = {1, \"da\", True, 2, (1,2,3)}\n",
    "print(s)\n",
    "\n",
    "# s = {1, \"da\", True, 2, (1,2,3), [1,2,3]}  # nu merge => nu poate contine elem mutabile\n"
   ]
  },
  {
   "cell_type": "code",
   "execution_count": 183,
   "id": "1ab28d37",
   "metadata": {},
   "outputs": [
    {
     "name": "stdout",
     "output_type": "stream",
     "text": [
      "\n",
      "UNION: \n",
      "{'mango', 'banana', 'cherry', 'apple', 'pear', 'kiwi'}\n",
      "\n",
      "Intersection: \n",
      "{'apple', 'pear'}\n",
      "\n",
      "Difference: \n",
      "{'kiwi', 'banana'}\n",
      "{'cherry', 'mango'}\n",
      "\n",
      "Symmetric Difference: \n",
      "{'mango', 'banana', 'cherry', 'kiwi'}\n"
     ]
    }
   ],
   "source": [
    "# Seturile sunt exact ca multimile matematice\n",
    "s1 = {'apple', 'pear', 'kiwi', 'banana'}\n",
    "s2 = set(['cherry', 'apple', 'mango', 'pear'])\n",
    "\n",
    "# Operatii cu seturi:\n",
    "# UNION - elemente distincte\n",
    "print('\\nUNION: ')\n",
    "print(s1 | s2)\n",
    "\n",
    "# INTERSECTION - elemente comune\n",
    "print('\\nIntersection: ')\n",
    "print(s1 & s2)\n",
    "\n",
    "# DIFFERENCE - elementele unice din primul set\n",
    "print('\\nDifference: ')\n",
    "print(s1 - s2)\n",
    "print(s2 - s1)\n",
    "\n",
    "# SYMMETRIC DIFFERENCE - toate elemente mai putin cele comune \n",
    "print('\\nSymmetric Difference: ')\n",
    "print(s1 ^ s2)"
   ]
  },
  {
   "cell_type": "code",
   "execution_count": null,
   "id": "405b7bb2",
   "metadata": {},
   "outputs": [],
   "source": [
    "# Rezumat structuri de date (aka colectii de date, collections)\n",
    "\n",
    "#  LIST    | TUPLE    | DICT      | SET       |\n",
    "# indexata | indexata | neindexat | neindexat |\n",
    "# mutabila | imutabil | mutabil   | imutabil  |\n",
    "# ordonata | ordonata | ordonat   | neordonat |"
   ]
  },
  {
   "cell_type": "code",
   "execution_count": null,
   "id": "cfb7457b",
   "metadata": {},
   "outputs": [],
   "source": []
  },
  {
   "cell_type": "code",
   "execution_count": 195,
   "id": "4dce3b1d",
   "metadata": {},
   "outputs": [
    {
     "name": "stdout",
     "output_type": "stream",
     "text": [
      "{'crocodile', 'wolf', 'chimpanzee', 'elephant', 'horse', 'cheetah'}\n",
      "{'elephant', 'cheetah', 'jaguar', 'chimpanzee'}\n"
     ]
    }
   ],
   "source": [
    "# Given the set: animals1 = {\"wolf\", \"cheetah\", \"elephant\", \"crocodile\"}, \n",
    "# add the following list of animals to it: lst1 = [\"horse\", \"chimpanzee\"] \n",
    "# and then print only elements unique between set animals1 and set \n",
    "# animals2 = {\"jaguar\", \"horse\", \"wolf\", \"crocodile\"} \n",
    "# => {\"cheetah\", \"elephant\", \"chimpanzee\", \"jaguar\"}\n",
    "animals1 = {\"wolf\", \"cheetah\", \"elephant\", \"crocodile\"}\n",
    "lst1 = [\"horse\", \"chimpanzee\"] \n",
    "animals2 = {\"jaguar\", \"horse\", \"wolf\", \"crocodile\"}\n",
    "\n",
    "# animals1.add(lst1)  # nu merge, lista am zis ca e mutabila, iar elementele din set trebuie sa fie imutabile\n",
    "\n",
    "\n",
    "# animals1.add(tuple(lst1))\n",
    "# print(animals1)\n",
    "\n",
    "for elem in lst1:\n",
    "    animals1.add(elem)\n",
    "print(animals1)\n",
    "\n",
    "animals2 = {\"jaguar\", \"horse\", \"wolf\", \"crocodile\"}\n",
    "# vreau sa printez doar elem unice dintre animals1 si animals2, \n",
    "# adica {\"cheetah\", \"elephant\", \"chimpanzee\", \"jaguar\"}\n",
    "print(animals1 ^ animals2)"
   ]
  }
 ],
 "metadata": {
  "kernelspec": {
   "display_name": "Python 3 (ipykernel)",
   "language": "python",
   "name": "python3"
  },
  "language_info": {
   "codemirror_mode": {
    "name": "ipython",
    "version": 3
   },
   "file_extension": ".py",
   "mimetype": "text/x-python",
   "name": "python",
   "nbconvert_exporter": "python",
   "pygments_lexer": "ipython3",
   "version": "3.10.2"
  }
 },
 "nbformat": 4,
 "nbformat_minor": 5
}
