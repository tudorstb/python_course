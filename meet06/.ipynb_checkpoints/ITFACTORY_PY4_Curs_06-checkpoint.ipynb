{
 "cells": [
  {
   "cell_type": "markdown",
   "id": "476192eb",
   "metadata": {},
   "source": [
    "# Observatii Tema_05"
   ]
  },
  {
   "cell_type": "code",
   "execution_count": 5,
   "id": "f9a52228",
   "metadata": {},
   "outputs": [
    {
     "name": "stdout",
     "output_type": "stream",
     "text": [
      "da, e true\n",
      "da, e true\n"
     ]
    }
   ],
   "source": [
    "# !! Atentie cand vi se cere returnati True/False, tipul de date bool, nu returnati stringul \"True\"/\"False\" \n",
    "def get_true():\n",
    "    return True\n",
    "\n",
    "adevar = get_true()\n",
    "# vreau sa verific ca intr`adevar variabila mea e True\n",
    "if adevar:\n",
    "    print('da, e true')\n",
    "else:\n",
    "    print('nu, e false')\n",
    "\n",
    "    \n",
    "def get_string_true():\n",
    "    return 'True'\n",
    "\n",
    "adevar = get_string_true()\n",
    "if adevar:   # if adevar != ''\n",
    "    print('da, e true')\n",
    "else:\n",
    "    print('nu, e false')\n"
   ]
  },
  {
   "cell_type": "code",
   "execution_count": 8,
   "id": "0d75f840",
   "metadata": {},
   "outputs": [
    {
     "name": "stdout",
     "output_type": "stream",
     "text": [
      "[3, 1.618, 13.1]\n"
     ]
    }
   ],
   "source": [
    "# ! Atentie la args! Daca vi se cere o functie care primeste ca argument o lista, trimiteti ca argument o variabila\n",
    "# pe care sa o interpretati ca lista in interiorul functiei! Nu are rost sa folositi *args...\n",
    "\n",
    "# Functie care primeste o lista si returneaza doar elementele pozitive din acea lista\n",
    "def list_of_positives(a_list):\n",
    "    res_list = []\n",
    "    for elem in a_list:\n",
    "        if elem >= 0:\n",
    "            res_list.append(elem)\n",
    "    return res_list\n",
    "\n",
    "in_list = [-5, 3, 1.618, 13.1, -99]\n",
    "out_list = list_of_positives(in_list)\n",
    "print(out_list)"
   ]
  },
  {
   "cell_type": "code",
   "execution_count": 14,
   "id": "5308a6d8",
   "metadata": {},
   "outputs": [
    {
     "name": "stdout",
     "output_type": "stream",
     "text": [
      "False\n",
      "True\n"
     ]
    }
   ],
   "source": [
    "# La stringuri, exista functia .isupper() si .islower()\n",
    "s = 'A'\n",
    "print(s.islower())\n",
    "print(s.isupper())\n",
    "\n",
    "if s == s.upper():\n",
    "    # trateaza ca upper.. e ok si asa!! "
   ]
  },
  {
   "cell_type": "code",
   "execution_count": 31,
   "id": "ccf5a08b",
   "metadata": {},
   "outputs": [
    {
     "name": "stdout",
     "output_type": "stream",
     "text": [
      "<class 'str'>\n",
      "<class 'datetime.datetime'>\n"
     ]
    }
   ],
   "source": [
    "# Functie care returneaza numarul de zile pana la ziua mea\n",
    "\n",
    "import datetime\n",
    "def days_to_bday(ziua, luna):\n",
    "    \n",
    "#     ziua = input('Introduceti ziua de nastere')\n",
    "#     luna = input('Introduceti luna de nastere')\n",
    "    pass\n",
    "    today = datetime.datetime.now()\n",
    "    ziua_noastra = datetime.datetime(2022, luna, ziua)\n",
    "    if today > ziua_noastra:\n",
    "        ziua_noastra = datetime.datetime(2023, luna, ziua)\n",
    "    \n",
    "    datetime_bday = ziua_noastra - today\n",
    "    return datetime_bday.days + 1\n",
    "\n",
    "days_to_bday(30,12)\n",
    "\n",
    "s = '2022-03-23 18:30'\n",
    "print(type(s))\n",
    "today = datetime.datetime.strptime(s, '%Y-%m-%d %H:%M')\n",
    "print(type(today))"
   ]
  },
  {
   "cell_type": "code",
   "execution_count": 38,
   "id": "b0d38701",
   "metadata": {},
   "outputs": [
    {
     "name": "stdout",
     "output_type": "stream",
     "text": [
      "True\n"
     ]
    }
   ],
   "source": [
    "#Scrieti o functie care verifica daca un numar natural dat ca argument este sau nu prim.\n",
    "#!Un numar e prim daca se imparte exact NUMAI la 1 si la el insusi (nu are niciun alt divizor)!\n",
    "#Ex: is_prime(17) => True\n",
    "#    is_prime(8) => False\n",
    "\n",
    "# luam cazul 9\n",
    "def is_prime(nr):\n",
    "    # 1 si 2 sunt cazuri special... habar nu am sincer daca sunt considerate prime sau nu :)\n",
    "    for i in range(2, nr//2+1): # noi vrem sa iteram peste toate numerele de la 2 la nr, \n",
    "        # range`u poate fi redus si mai mult parcurgand pana la radacina patrata a numarului.... \n",
    "        if nr % i == 0: # in cazul in care gasim un numar care e divizor,  \n",
    "            return False  # putem iesi direct din functie\n",
    "    else:\n",
    "        return True\n",
    "\n",
    "print(is_prime(9))"
   ]
  },
  {
   "cell_type": "code",
   "execution_count": 97,
   "id": "d584f212",
   "metadata": {},
   "outputs": [],
   "source": [
    "# Creati o functie care are ca parametrii 2 numere naturale  a,b cu a<b si returneaza lista formata din numerele \n",
    "# prime din intervalul [a,b]\n",
    "#Ex: list_of_primes_in_interval(3, 31) =>  [3, 5, 7, 11, 13, 17, 19, 23, 29, 31]\n",
    "\n",
    "def list_of_primes_in_interval(a, b):\n",
    "    res_list = []\n",
    "    for nr in range(a, b+1):\n",
    "        # vrem sa aflam daca numarul este prim\n",
    "        is_my_number_prime = is_prime(nr)\n",
    "        \n",
    "        if is_my_number_prime:\n",
    "            res_list.append(nr)\n",
    "    \n",
    "    return res_list\n",
    "\n",
    "result = list_of_primes_in_interval(3, 31)\n",
    "print(result)"
   ]
  },
  {
   "cell_type": "code",
   "execution_count": null,
   "id": "39a8dca8",
   "metadata": {},
   "outputs": [],
   "source": []
  },
  {
   "cell_type": "markdown",
   "id": "55f24ae8",
   "metadata": {},
   "source": [
    "# Recapitulare"
   ]
  },
  {
   "cell_type": "code",
   "execution_count": 42,
   "id": "a8633648",
   "metadata": {},
   "outputs": [],
   "source": [
    "# Recap01: What do we mean by data type? Give us an example of a numeric data type in Python!\n",
    "\n",
    "# tipuri de date: string (aka str, textul), integer (int), boolean (bool), float, ... \n",
    "# cand scriem cod, ne ajutam sa intelegem ce fel de date folosim\n",
    "\n",
    "# numeric data type: int, float, ..."
   ]
  },
  {
   "cell_type": "code",
   "execution_count": 45,
   "id": "99a2b195",
   "metadata": {},
   "outputs": [
    {
     "name": "stdout",
     "output_type": "stream",
     "text": [
      "<class 'NoneType'>\n"
     ]
    }
   ],
   "source": [
    "# Recap02: What is the data type and possible values for representing a truth condition? How about for missing value? \n",
    "\n",
    "# Boolean (aka bool), returns True/False\n",
    "# missing value: data type: NoneType, with value: None\n",
    "print(type(None))"
   ]
  },
  {
   "cell_type": "code",
   "execution_count": 46,
   "id": "1ecd4b73",
   "metadata": {},
   "outputs": [],
   "source": [
    "# Recap03: What is a variable? Give us an example!\n",
    "\n",
    "# Variabila = valori tinute in zona de memorie, folosite in cod, pot fi modificate, se poate lucra cu ele\n",
    "# Caracteristici variabile: are o valoare, un nume, si are un loc in memorie unde e salvata\n",
    "\n",
    "x = 2\n",
    "my_var = 2\n",
    "nume = \"Dan\""
   ]
  },
  {
   "cell_type": "code",
   "execution_count": 51,
   "id": "974d3aac",
   "metadata": {},
   "outputs": [],
   "source": [
    "# Recap04: What naming convention would we use if we wanted to take a variable called: my first variable; having value 10?\n",
    "\n",
    "my_first_variable = 10\n",
    "\n",
    "# Conventii: \n",
    "# - o variabila nu poate incepe cu cifra, nu poate contine - sau alte caractere speciale (in afara de _)\n",
    "\n",
    "# Conventii din programare:\n",
    "# snake_case: se foloseste in general la numele de variable, la nume de functii in Python\n",
    "# PascalCase: se foloseste in general la numele de clase in Python\n",
    "# camelCase: se mai foloseste cateodata la numele de functii\n",
    "# kebab-case: nu merge in python"
   ]
  },
  {
   "cell_type": "code",
   "execution_count": 53,
   "id": "c5c5329f",
   "metadata": {},
   "outputs": [
    {
     "name": "stdout",
     "output_type": "stream",
     "text": [
      "<class 'int'>\n",
      "<class 'str'>\n"
     ]
    }
   ],
   "source": [
    "# Recap05: What`s the name of the built-in Python function which returns the data type of a given value/variable?\n",
    "# What will it return for calling it with the value: \"120.0\" ?\n",
    "\n",
    "variabila = 10\n",
    "print(type(variabila))\n",
    "\n",
    "variabila = \"120.0\"\n",
    "print(type(variabila))\n"
   ]
  },
  {
   "cell_type": "code",
   "execution_count": 54,
   "id": "aaa60b0b",
   "metadata": {},
   "outputs": [
    {
     "name": "stdout",
     "output_type": "stream",
     "text": [
      "3.6666666666666665\n",
      "3\n"
     ]
    }
   ],
   "source": [
    "# Recap06: What would the following piece of code print?\n",
    "n = 11\n",
    "print(11/3)  # impartirea exacta, cu virgula\n",
    "print(11//3) # partea intreaga a impartirii"
   ]
  },
  {
   "cell_type": "code",
   "execution_count": 55,
   "id": "d7891675",
   "metadata": {},
   "outputs": [
    {
     "name": "stdout",
     "output_type": "stream",
     "text": [
      "yesofcourse\n"
     ]
    }
   ],
   "source": [
    "# Recap07: What would the following piece of code print?\n",
    "my_text = 'yes'\n",
    "print(my_text + 'ofcourse')"
   ]
  },
  {
   "cell_type": "code",
   "execution_count": 57,
   "id": "cb22dda2",
   "metadata": {},
   "outputs": [
    {
     "ename": "TypeError",
     "evalue": "can only concatenate str (not \"int\") to str",
     "output_type": "error",
     "traceback": [
      "\u001b[1;31m---------------------------------------------------------------------------\u001b[0m",
      "\u001b[1;31mTypeError\u001b[0m                                 Traceback (most recent call last)",
      "\u001b[1;32m~\\AppData\\Local\\Temp/ipykernel_16480/2672496545.py\u001b[0m in \u001b[0;36m<module>\u001b[1;34m\u001b[0m\n\u001b[0;32m      1\u001b[0m \u001b[1;31m# Recap08: What would the following piece of code print?\u001b[0m\u001b[1;33m\u001b[0m\u001b[1;33m\u001b[0m\u001b[1;33m\u001b[0m\u001b[0m\n\u001b[0;32m      2\u001b[0m \u001b[0mmy_text\u001b[0m \u001b[1;33m=\u001b[0m \u001b[1;34m'yes'\u001b[0m\u001b[1;33m\u001b[0m\u001b[1;33m\u001b[0m\u001b[0m\n\u001b[1;32m----> 3\u001b[1;33m \u001b[0mprint\u001b[0m\u001b[1;33m(\u001b[0m\u001b[0mmy_text\u001b[0m \u001b[1;33m+\u001b[0m \u001b[1;36m3\u001b[0m\u001b[1;33m)\u001b[0m\u001b[1;33m\u001b[0m\u001b[1;33m\u001b[0m\u001b[0m\n\u001b[0m",
      "\u001b[1;31mTypeError\u001b[0m: can only concatenate str (not \"int\") to str"
     ]
    }
   ],
   "source": [
    "# Recap08: What would the following piece of code print?\n",
    "my_text = 'yes'\n",
    "print(my_text + 3)"
   ]
  },
  {
   "cell_type": "code",
   "execution_count": 59,
   "id": "2d48616e",
   "metadata": {},
   "outputs": [
    {
     "name": "stdout",
     "output_type": "stream",
     "text": [
      "yesyesyes\n"
     ]
    }
   ],
   "source": [
    "# Recap09: What would the following piece of code print?\n",
    "my_text = 'yes'\n",
    "print(my_text * 3)"
   ]
  },
  {
   "cell_type": "code",
   "execution_count": 63,
   "id": "6a39866e",
   "metadata": {},
   "outputs": [
    {
     "name": "stdout",
     "output_type": "stream",
     "text": [
      "True\n"
     ]
    }
   ],
   "source": [
    "# Recap10: How should we write the print statement to retrieve the truth value from the comparision of an integer number a=8 \n",
    "# being bigger than both b=6 and c=3? \n",
    "\n",
    "a = 8\n",
    "b = 6\n",
    "c = 7\n",
    "print(a > b and a > c)"
   ]
  },
  {
   "cell_type": "code",
   "execution_count": 66,
   "id": "5419b1a0",
   "metadata": {},
   "outputs": [
    {
     "name": "stdout",
     "output_type": "stream",
     "text": [
      "True\n",
      "True\n"
     ]
    }
   ],
   "source": [
    "# Recap11: How should we write the print statement to retrieve the truth value of whether a string s1='str' \n",
    "# is contained in a string s2='substring'?\n",
    "\n",
    "s1 = 'str'\n",
    "s2 = 'substring'\n",
    "\n",
    "# v1\n",
    "if s1 in s2:\n",
    "    print(True)\n",
    "else:\n",
    "    print(False)\n",
    "\n",
    "# v2\n",
    "print(s1 in s2)"
   ]
  },
  {
   "cell_type": "code",
   "execution_count": 73,
   "id": "093a9232",
   "metadata": {},
   "outputs": [
    {
     "name": "stdout",
     "output_type": "stream",
     "text": [
      "3.14\n",
      "3.14\n",
      "3.14\n"
     ]
    }
   ],
   "source": [
    "# Recap12: How should we write the print statement to retrieve the variable pi=3.14159265359 with only 2 decimals\n",
    "\n",
    "pi=3.14159265359\n",
    "\n",
    "print(str(pi)[0:4]) # slice [start:stop:step] (stop e inclus?? nu!)\n",
    "print(round(pi,2))\n",
    "print(f'{pi:.2f}')"
   ]
  },
  {
   "cell_type": "code",
   "execution_count": 74,
   "id": "492bc113",
   "metadata": {},
   "outputs": [
    {
     "name": "stdout",
     "output_type": "stream",
     "text": [
      "False\n"
     ]
    }
   ],
   "source": [
    "# Recap13: What is the truth value return of the following code?\n",
    "a = True\n",
    "b = True\n",
    "c = False\n",
    "print(not a or b and c)  # False or b and c => False or True and False => False or False => False"
   ]
  },
  {
   "cell_type": "code",
   "execution_count": 76,
   "id": "74c08e3d",
   "metadata": {},
   "outputs": [
    {
     "name": "stdout",
     "output_type": "stream",
     "text": [
      "Hello\n"
     ]
    }
   ],
   "source": [
    "# Recap14: Given the string hello = \"Hello, World!\", what should we write to get the string formed of the first 5 characters \n",
    "# aka \"Hello\"?\n",
    "\n",
    "hello = \"Hello, World!\"\n",
    "\n",
    "print(hello[0:5])"
   ]
  },
  {
   "cell_type": "code",
   "execution_count": 96,
   "id": "d8aa35a6",
   "metadata": {},
   "outputs": [
    {
     "name": "stdout",
     "output_type": "stream",
     "text": [
      "['Hello', 'World']\n",
      "['Hello', 'nice', 'World']\n",
      "['Hello', 'nice', 'World']\n"
     ]
    }
   ],
   "source": [
    "# Recap15: Given the string hello = \"Hello, World!\", what should we write to get the 2 words \n",
    "# separated in a list like this [\"Hello\", \"World\"]?\n",
    "\n",
    "# v1\n",
    "hello = \"Hello, World!\"\n",
    "a_list = []\n",
    "for i, elem in enumerate(hello):\n",
    "    if elem == ',':\n",
    "        a_list.append(hello[0:i])\n",
    "        a_list.append(hello[i+2:-1])\n",
    "        break\n",
    "print(a_list)\n",
    "\n",
    "# v2\n",
    "hello = \"Hello, nice World!\"\n",
    "the_list = hello.split(' ')\n",
    "for i,elem in enumerate(the_list):\n",
    "    if ',' in elem or '!' in elem:\n",
    "        the_list[i] = elem[:-1]\n",
    "print(the_list)\n",
    "\n",
    "# v3\n",
    "hello = \"!Hello, nice World!\"\n",
    "the_list = hello.split(' ')\n",
    "\n",
    "# list_comprehension\n",
    "the_list = [elem.strip(',!') for elem in the_list]\n",
    "# e echivalent cu\n",
    "res_list = []\n",
    "for elem in the_list:\n",
    "    res_list.append(elem.strip(',!'))\n",
    "    \n",
    "print(res_list)\n"
   ]
  },
  {
   "cell_type": "code",
   "execution_count": null,
   "id": "462ba641",
   "metadata": {},
   "outputs": [],
   "source": []
  },
  {
   "cell_type": "markdown",
   "id": "4dee7314",
   "metadata": {},
   "source": [
    "# OOP"
   ]
  },
  {
   "cell_type": "code",
   "execution_count": 103,
   "id": "f7dcfd97",
   "metadata": {},
   "outputs": [
    {
     "name": "stdout",
     "output_type": "stream",
     "text": [
      "VRUUUM\n",
      "1961\n",
      "1961\n"
     ]
    }
   ],
   "source": [
    "# clasa\n",
    "class Car:\n",
    "    brand = 'Dacia'\n",
    "    model = '1310'\n",
    "    year = 1960\n",
    "    \n",
    "    def accelerate(self):\n",
    "        print('VRUUUM')\n",
    "        \n",
    "    def show_year(self):\n",
    "        print(self.year)\n",
    "        \n",
    "# instantiem clasa intr`un obiect\n",
    "my_car = Car()\n",
    "my_car.accelerate()\n",
    "my_car.show_year()\n",
    "\n",
    "my_second_car = Car()\n",
    "# my_second_car.show_brand() # nu avem definita aceasta metoda/functie\n",
    "my_car.show_year()"
   ]
  },
  {
   "cell_type": "code",
   "execution_count": 120,
   "id": "75fe25f4",
   "metadata": {},
   "outputs": [
    {
     "ename": "TypeError",
     "evalue": "__init__() missing 3 required positional arguments: 'input_brand', 'input_model', and 'input_year'",
     "output_type": "error",
     "traceback": [
      "\u001b[1;31m---------------------------------------------------------------------------\u001b[0m",
      "\u001b[1;31mTypeError\u001b[0m                                 Traceback (most recent call last)",
      "\u001b[1;32m~\\AppData\\Local\\Temp/ipykernel_16480/3329024569.py\u001b[0m in \u001b[0;36m<module>\u001b[1;34m\u001b[0m\n\u001b[0;32m     11\u001b[0m         \u001b[0mprint\u001b[0m\u001b[1;33m(\u001b[0m\u001b[0mself\u001b[0m\u001b[1;33m.\u001b[0m\u001b[0myear\u001b[0m\u001b[1;33m)\u001b[0m\u001b[1;33m\u001b[0m\u001b[1;33m\u001b[0m\u001b[0m\n\u001b[0;32m     12\u001b[0m \u001b[1;33m\u001b[0m\u001b[0m\n\u001b[1;32m---> 13\u001b[1;33m \u001b[0mmy_car1\u001b[0m \u001b[1;33m=\u001b[0m \u001b[0mCar\u001b[0m\u001b[1;33m(\u001b[0m\u001b[1;33m)\u001b[0m\u001b[1;33m\u001b[0m\u001b[1;33m\u001b[0m\u001b[0m\n\u001b[0m\u001b[0;32m     14\u001b[0m \u001b[0mmy_car1\u001b[0m\u001b[1;33m.\u001b[0m\u001b[0mshow_year\u001b[0m\u001b[1;33m(\u001b[0m\u001b[1;33m)\u001b[0m\u001b[1;33m\u001b[0m\u001b[1;33m\u001b[0m\u001b[0m\n\u001b[0;32m     15\u001b[0m \u001b[0mmy_car1\u001b[0m\u001b[1;33m.\u001b[0m\u001b[0mbrand\u001b[0m \u001b[1;33m=\u001b[0m \u001b[1;34m'Duster'\u001b[0m\u001b[1;33m\u001b[0m\u001b[1;33m\u001b[0m\u001b[0m\n",
      "\u001b[1;31mTypeError\u001b[0m: __init__() missing 3 required positional arguments: 'input_brand', 'input_model', and 'input_year'"
     ]
    }
   ],
   "source": [
    "class Car:  \n",
    "    def __init__(self, input_brand, input_model, input_year):\n",
    "        self.__brand = input_brand  # in init trecem atributele clasei\n",
    "        self.model = input_model\n",
    "        self.year = input_year\n",
    "        \n",
    "    def accelerate(self):\n",
    "        print('VRUUUM')\n",
    "        \n",
    "    def show_year(self):\n",
    "        print(self.year)\n",
    "        \n",
    "my_car1 = Car('Dacia', '1310', 1960)\n",
    "my_car1.show_year()\n",
    "my_car1.brand = 'Duster'\n",
    "my_car1.year = 2021\n",
    "my_car1.show_year()\n",
    "print(my_car1.brand)\n",
    "\n",
    "my_car2 = Car('Tesla', 'Y', 2020)\n",
    "my_car2.show_year()\n",
    "my_car2.accelerate()\n"
   ]
  },
  {
   "cell_type": "code",
   "execution_count": 121,
   "id": "a45f06e5",
   "metadata": {},
   "outputs": [],
   "source": [
    "# from folder1.fisier import nume_clasa\n",
    "\n",
    "# fisierele cu extensia .py in python le numim module\n",
    "# iar folderele/directoarele care contin un fisier gold numit __init__.py se numesc package`uri"
   ]
  },
  {
   "cell_type": "code",
   "execution_count": null,
   "id": "0148d6d5",
   "metadata": {},
   "outputs": [],
   "source": []
  },
  {
   "cell_type": "code",
   "execution_count": 129,
   "id": "78d90cc1",
   "metadata": {},
   "outputs": [
    {
     "name": "stdout",
     "output_type": "stream",
     "text": [
      "24\n",
      "########\n",
      "########\n",
      "########\n"
     ]
    }
   ],
   "source": [
    "# Creati o clasa Rectangle, care are 2 atribute width si length, instantiate in cadrul constructorului cu 2 valori integer.\n",
    "# a) Pentru clasa respectiva creati o functie get_area care returneaza aria dreptunghiului.\n",
    "# b) Creati si o functie display care afiseaza dreptunghiul folosind un parametru optional pentru a desena, in cazul in care\n",
    "# parametrul nu este dat, se foloseste ca default caracterul *.\n",
    "# Exemplu de rulare:\n",
    "# new_rectangle = Rectange(2, 4)\n",
    "# print(new_rectangle.get_area()) => 8\n",
    "# new_rectangle.display() => ****     sau: new_rectangle('#') => ####\n",
    "#                            ****                                ####\n",
    "\n",
    "class Rectangle:  # definim clasa\n",
    "    def __init__(self, width, length):  # implementam constructorul clasei\n",
    "        self.width = width\n",
    "        self.length = length\n",
    "        \n",
    "    def get_area(self):  # implementam metoda get_area a clasei\n",
    "        return self.width * self.length\n",
    "    \n",
    "    def display(self, character='*'):  # implem metoda display a clasei\n",
    "        for i in range(self.width):\n",
    "            print(self.length * character)\n",
    "    \n",
    "new_rectangle = Rectangle(3, 8)  # instantiem obiectul\n",
    "print(new_rectangle.get_area())  # apelam metoda de get_area\n",
    "new_rectangle.display('#')   # apelam metoda de display"
   ]
  },
  {
   "cell_type": "code",
   "execution_count": 130,
   "id": "9143e56c",
   "metadata": {},
   "outputs": [],
   "source": [
    "import datetime # asta e un import de librarie built-in Python\n",
    "import numpy # asta e un import de librarie externa\n",
    "from folder1.fisier import nume_clasa # asta e un import local de clasa dintr`un module\n"
   ]
  },
  {
   "cell_type": "code",
   "execution_count": null,
   "id": "6f7a7640",
   "metadata": {},
   "outputs": [],
   "source": []
  }
 ],
 "metadata": {
  "kernelspec": {
   "display_name": "Python 3 (ipykernel)",
   "language": "python",
   "name": "python3"
  },
  "language_info": {
   "codemirror_mode": {
    "name": "ipython",
    "version": 3
   },
   "file_extension": ".py",
   "mimetype": "text/x-python",
   "name": "python",
   "nbconvert_exporter": "python",
   "pygments_lexer": "ipython3",
   "version": "3.10.3"
  }
 },
 "nbformat": 4,
 "nbformat_minor": 5
}
