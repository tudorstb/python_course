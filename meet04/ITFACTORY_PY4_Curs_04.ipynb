{
 "cells": [
  {
   "cell_type": "code",
   "execution_count": 3,
   "id": "c338dbd8",
   "metadata": {},
   "outputs": [
    {
     "name": "stdout",
     "output_type": "stream",
     "text": [
      "[1, 2, 3]\n",
      "[1, 2, 3]\n"
     ]
    }
   ],
   "source": [
    "# Ce va afisa printul?\n",
    "l1 = [1,2,3,4]\n",
    "l2 = l1  # amandoua listele pointeaza in mem catre acelasi obiect\n",
    "l2.pop()\n",
    "print(l1)"
   ]
  },
  {
   "cell_type": "code",
   "execution_count": 6,
   "id": "998d46f4",
   "metadata": {},
   "outputs": [
    {
     "name": "stdout",
     "output_type": "stream",
     "text": [
      "[1, 2, 3, 4]\n",
      "[1, 2, 3]\n",
      "[1, 2, 3, 4]\n",
      "[1, 2, 3]\n"
     ]
    }
   ],
   "source": [
    "l1 = [1,2,3,4]\n",
    "# eu vreau ca l2 sa aiba exact aceleasi valori\n",
    "#v1\n",
    "l2 = list(l1)   # aici se construieste un nou obiect din valorile lui l1\n",
    "l2.pop()\n",
    "print(l1)\n",
    "print(l2)\n",
    "\n",
    "#v2\n",
    "l3 = l1.copy()\n",
    "l3.pop()\n",
    "print(l1)\n",
    "print(l3)"
   ]
  },
  {
   "cell_type": "code",
   "execution_count": 8,
   "id": "2ecd27d6",
   "metadata": {},
   "outputs": [
    {
     "name": "stdout",
     "output_type": "stream",
     "text": [
      "{'a': 1}\n",
      "{'a': 2}\n"
     ]
    }
   ],
   "source": [
    "d = {'a': 1}\n",
    "d2 = d.copy()s\n",
    "d2['a'] = 2\n",
    "print(d)\n",
    "print(d2)"
   ]
  },
  {
   "cell_type": "code",
   "execution_count": 12,
   "id": "573e5b13",
   "metadata": {},
   "outputs": [
    {
     "name": "stdout",
     "output_type": "stream",
     "text": [
      "nu e subset\n"
     ]
    },
    {
     "data": {
      "text/plain": [
       "False"
      ]
     },
     "execution_count": 12,
     "metadata": {},
     "output_type": "execute_result"
    }
   ],
   "source": [
    "zile_sapt = {'luni', 'marti', 'miercuri', 'joi', 'vineri', 'sambata', 'duminica'}\n",
    "weekend = {'sambata', 'duminica'}\n",
    "\n",
    "# v1\n",
    "e_subset = True\n",
    "for el in weekend:\n",
    "    if el not in zile_sapt:\n",
    "        e_subset = False\n",
    "if e_subset:\n",
    "    print('e subset')\n",
    "else:\n",
    "    print('nu e subset')\n",
    "    \n",
    "# v2\n",
    "weekend.issubset(zile_sapt)"
   ]
  },
  {
   "cell_type": "code",
   "execution_count": null,
   "id": "c1e4f6f7",
   "metadata": {},
   "outputs": [],
   "source": []
  },
  {
   "cell_type": "code",
   "execution_count": null,
   "id": "d72e25b6",
   "metadata": {},
   "outputs": [],
   "source": [
    "# sintaxa while\n",
    "while conditie_e_adevara:\n",
    "    # se executa instructiuni"
   ]
  },
  {
   "cell_type": "code",
   "execution_count": 15,
   "id": "ace16e96",
   "metadata": {},
   "outputs": [
    {
     "name": "stdout",
     "output_type": "stream",
     "text": [
      "Ai alergat o tura\n",
      "Ai alergat o tura\n",
      "Ai alergat o tura\n",
      "Ai alergat o tura\n",
      "Ai alergat o tura\n"
     ]
    }
   ],
   "source": [
    "ture_alergate = 0\n",
    "# vrem sa alergam atata timp cat avem \"suflu\" (presupunem ca nu mai putem dupa 5 ture)\n",
    "while ture_alergate < 5:  # atentie, trebuie ca la un moment dat conditia sa nu mai fie adevarata, ca sa nu intram intr`un ciclu infinit\n",
    "    ture_alergate += 1 \n",
    "    print('Ai alergat o tura')\n"
   ]
  },
  {
   "cell_type": "code",
   "execution_count": 16,
   "id": "2584c554",
   "metadata": {},
   "outputs": [
    {
     "name": "stdout",
     "output_type": "stream",
     "text": [
      "Ai alergat o tura\n",
      "Ai alergat o tura\n",
      "Ai alergat o tura\n",
      "Ai alergat o tura\n",
      "Ai alergat o tura\n",
      "Ai terminat de alergat\n"
     ]
    }
   ],
   "source": [
    "ture_alergate = 0\n",
    "while ture_alergate < 5: \n",
    "    ture_alergate += 1 \n",
    "    print('Ai alergat o tura')\n",
    "else:\n",
    "    print(\"Ai terminat de alergat\")"
   ]
  },
  {
   "cell_type": "code",
   "execution_count": 18,
   "id": "aafb0e51",
   "metadata": {},
   "outputs": [
    {
     "name": "stdout",
     "output_type": "stream",
     "text": [
      "Ai alergat o tura\n",
      "Ai alergat o tura\n",
      "Ai alergat o tura\n",
      "Ai alergat o tura\n",
      "Ai alergat o tura\n"
     ]
    }
   ],
   "source": [
    "ture_alergate = 0\n",
    "while ture_alergate < 15: \n",
    "    ture_alergate += 1 \n",
    "    print('Ai alergat o tura')\n",
    "    if ture_alergate == 5:\n",
    "        break\n",
    "else:\n",
    "    print(\"Ai terminat de alergat\")"
   ]
  },
  {
   "cell_type": "code",
   "execution_count": 19,
   "id": "4413289a",
   "metadata": {},
   "outputs": [
    {
     "name": "stdout",
     "output_type": "stream",
     "text": [
      "Ai alergat o tura\n",
      "Ai alergat o tura\n",
      "Ai alergat o tura\n",
      "Ai alergat o tura\n",
      "Ai alergat o tura\n"
     ]
    }
   ],
   "source": [
    "# sintaxa for\n",
    "for elem in secventa:   # unde secventa poate fi: range(), lista, tupla, set, dict, string\n",
    "    # bloc de instructiuni"
   ]
  },
  {
   "cell_type": "code",
   "execution_count": 20,
   "id": "1a6b5243",
   "metadata": {},
   "outputs": [
    {
     "name": "stdout",
     "output_type": "stream",
     "text": [
      "Ai alergat o tura\n",
      "Ai alergat o tura\n",
      "Ai alergat o tura\n",
      "Ai alergat o tura\n",
      "Ai alergat o tura\n"
     ]
    }
   ],
   "source": [
    "for elem in range(5):\n",
    "    print(\"Ai alergat o tura\")"
   ]
  },
  {
   "cell_type": "code",
   "execution_count": 22,
   "id": "7a9e7c74",
   "metadata": {},
   "outputs": [
    {
     "name": "stdout",
     "output_type": "stream",
     "text": [
      "a\n",
      "b\n",
      "c\n",
      "d\n"
     ]
    }
   ],
   "source": [
    "t = ('a', 'b', 'c', 'd')\n",
    "for elem in t:\n",
    "    print(elem)"
   ]
  },
  {
   "cell_type": "code",
   "execution_count": 29,
   "id": "d6af1a65",
   "metadata": {},
   "outputs": [
    {
     "name": "stdout",
     "output_type": "stream",
     "text": [
      "name Romania\n",
      "population 19.5mil\n",
      "continent Europe\n"
     ]
    }
   ],
   "source": [
    "country = {'name': 'Romania' , 'population': '19.5mil', 'continent': 'Europe'}\n",
    "for key in country:\n",
    "    print(key, country[key])"
   ]
  },
  {
   "cell_type": "code",
   "execution_count": 33,
   "id": "03ec7d44",
   "metadata": {},
   "outputs": [
    {
     "name": "stdout",
     "output_type": "stream",
     "text": [
      "('name', 'Romania')\n",
      "('population', '19.5mil')\n",
      "('continent', 'Europe')\n"
     ]
    }
   ],
   "source": [
    "country = {'name': 'Romania' , 'population': '19.5mil', 'continent': 'Europe'}\n",
    "for elem in country.items():\n",
    "    print(elem)"
   ]
  },
  {
   "cell_type": "code",
   "execution_count": 36,
   "id": "384e3b4f",
   "metadata": {},
   "outputs": [
    {
     "name": "stdout",
     "output_type": "stream",
     "text": [
      "0 apple\n",
      "1 pear\n",
      "2 cherry\n",
      "3 mango\n"
     ]
    }
   ],
   "source": [
    "fruits = ['apple', 'pear', 'cherry', 'mango']\n",
    "for idx, elem in enumerate(fruits):\n",
    "    print(idx, elem)"
   ]
  },
  {
   "cell_type": "code",
   "execution_count": 38,
   "id": "ac311a6b",
   "metadata": {},
   "outputs": [
    {
     "name": "stdout",
     "output_type": "stream",
     "text": [
      "0 apple\n",
      "1 pear\n",
      "2 cherry\n",
      "3 mango\n",
      "Ai terminat de iterat peste fructe\n"
     ]
    }
   ],
   "source": [
    "fruits = ['apple', 'pear', 'cherry', 'mango']\n",
    "for idx, elem in enumerate(fruits):\n",
    "    print(idx, elem)\n",
    "else:\n",
    "    print(\"Ai terminat de iterat peste fructe\")"
   ]
  },
  {
   "cell_type": "code",
   "execution_count": 40,
   "id": "b18f2b8f",
   "metadata": {},
   "outputs": [
    {
     "name": "stdout",
     "output_type": "stream",
     "text": [
      "T\n",
      "h\n",
      "i\n",
      "s\n",
      " \n",
      "i\n",
      "s\n",
      " \n",
      "m\n",
      "y\n",
      " \n",
      "i\n",
      "n\n",
      "t\n",
      "r\n",
      "i\n",
      "c\n",
      "a\n",
      "t\n",
      "e\n",
      " \n",
      "s\n",
      "e\n",
      "n\n",
      "t\n",
      "e\n",
      "n\n",
      "c\n",
      "e\n",
      ".\n"
     ]
    }
   ],
   "source": [
    "sentence = \"This is my intricate sentence.\"\n",
    "for character in sentence:\n",
    "    print(character)"
   ]
  },
  {
   "cell_type": "code",
   "execution_count": 42,
   "id": "d456f881",
   "metadata": {},
   "outputs": [
    {
     "ename": "TypeError",
     "evalue": "'int' object is not iterable",
     "output_type": "error",
     "traceback": [
      "\u001b[1;31m---------------------------------------------------------------------------\u001b[0m",
      "\u001b[1;31mTypeError\u001b[0m                                 Traceback (most recent call last)",
      "\u001b[1;32m~\\AppData\\Local\\Temp/ipykernel_17680/783771248.py\u001b[0m in \u001b[0;36m<module>\u001b[1;34m\u001b[0m\n\u001b[1;32m----> 1\u001b[1;33m \u001b[1;32mfor\u001b[0m \u001b[0melem\u001b[0m \u001b[1;32min\u001b[0m \u001b[1;36m100\u001b[0m\u001b[1;33m:\u001b[0m  \u001b[1;31m# peste numere nu putem face for\u001b[0m\u001b[1;33m\u001b[0m\u001b[1;33m\u001b[0m\u001b[0m\n\u001b[0m\u001b[0;32m      2\u001b[0m     \u001b[0mprint\u001b[0m\u001b[1;33m(\u001b[0m\u001b[0melem\u001b[0m\u001b[1;33m)\u001b[0m\u001b[1;33m\u001b[0m\u001b[1;33m\u001b[0m\u001b[0m\n",
      "\u001b[1;31mTypeError\u001b[0m: 'int' object is not iterable"
     ]
    }
   ],
   "source": [
    "for elem in 10:  # peste numere nu putem face for\n",
    "    print(elem)"
   ]
  },
  {
   "cell_type": "code",
   "execution_count": 43,
   "id": "6f060d77",
   "metadata": {},
   "outputs": [
    {
     "name": "stdout",
     "output_type": "stream",
     "text": [
      "0\n",
      "1\n",
      "2\n",
      "3\n",
      "4\n",
      "5\n",
      "6\n",
      "7\n",
      "8\n",
      "9\n"
     ]
    }
   ],
   "source": [
    "for elem in range(10):\n",
    "    print(elem)"
   ]
  },
  {
   "cell_type": "code",
   "execution_count": 45,
   "id": "95936655",
   "metadata": {},
   "outputs": [
    {
     "name": "stdout",
     "output_type": "stream",
     "text": [
      "0\n",
      "1\n",
      "2\n",
      "3\n",
      "4\n",
      "Am iesit din for\n"
     ]
    }
   ],
   "source": [
    "for nr in range(10):\n",
    "    if nr == 5:\n",
    "        break\n",
    "    print(nr)\n",
    "print('Am iesit din for')"
   ]
  },
  {
   "cell_type": "code",
   "execution_count": 52,
   "id": "d239224d",
   "metadata": {},
   "outputs": [
    {
     "name": "stdout",
     "output_type": "stream",
     "text": [
      "10\n",
      "9\n",
      "8\n",
      "7\n",
      "6\n",
      "5\n",
      "4\n",
      "3\n",
      "2\n",
      "1\n"
     ]
    }
   ],
   "source": [
    "n = 10\n",
    "# vreau sa ma opresc la 0 !\n",
    "while n > 0:\n",
    "    print(n)\n",
    "    n -= 1"
   ]
  },
  {
   "cell_type": "code",
   "execution_count": 53,
   "id": "381d6a05",
   "metadata": {},
   "outputs": [
    {
     "name": "stdout",
     "output_type": "stream",
     "text": [
      "9\n",
      "8\n",
      "7\n",
      "6\n",
      "5\n",
      "4\n",
      "3\n",
      "2\n",
      "1\n"
     ]
    }
   ],
   "source": [
    "n = 10\n",
    "# vreau sa ma opresc la 0 ! fara sa afisez 0 !\n",
    "while n > 0:\n",
    "    n -= 1\n",
    "    if n == 0:\n",
    "        break\n",
    "    print(n)\n",
    "    "
   ]
  },
  {
   "cell_type": "code",
   "execution_count": 55,
   "id": "77e96b5f",
   "metadata": {},
   "outputs": [
    {
     "name": "stdout",
     "output_type": "stream",
     "text": [
      "9\n",
      "8\n",
      "7\n",
      "6\n",
      "5\n",
      "4\n",
      "3\n",
      "2\n",
      "1\n"
     ]
    }
   ],
   "source": [
    "n = 10\n",
    "# vreau sa ma opresc la 0 ! fara sa afisez 0 !\n",
    "while n > 1:\n",
    "    n -= 1\n",
    "    print(n)"
   ]
  },
  {
   "cell_type": "code",
   "execution_count": 56,
   "id": "a5fbba1d",
   "metadata": {},
   "outputs": [
    {
     "name": "stdout",
     "output_type": "stream",
     "text": [
      "0\n",
      "1\n",
      "2\n",
      "3\n",
      "4\n"
     ]
    }
   ],
   "source": [
    "for nr in range(10):\n",
    "    if nr == 5:\n",
    "        break\n",
    "    print(nr)\n",
    "else:\n",
    "    print('Am iesit din for')  # print`ul nu se mai afiseaza daca am iesit cu break mai repede de finalul for-ului"
   ]
  },
  {
   "cell_type": "code",
   "execution_count": 58,
   "id": "d2e15e8c",
   "metadata": {},
   "outputs": [
    {
     "name": "stdout",
     "output_type": "stream",
     "text": [
      "0\n",
      "1\n",
      "2\n",
      "3\n",
      "4\n",
      "6\n",
      "7\n",
      "8\n",
      "9\n"
     ]
    }
   ],
   "source": [
    "for nr in range(10):\n",
    "    if nr == 5:\n",
    "        continue\n",
    "    print(nr)  # can nr e 5, nu mai ajunge sa faca print`ul ci continua cu urmatoarea iteratie (nr = 6)"
   ]
  },
  {
   "cell_type": "code",
   "execution_count": 61,
   "id": "6ae96281",
   "metadata": {},
   "outputs": [
    {
     "name": "stdout",
     "output_type": "stream",
     "text": [
      "Inainte de for\n",
      "Dupa for\n"
     ]
    }
   ],
   "source": [
    "print('Inainte de for')\n",
    "for nr in range(10):\n",
    "    pass    # pass e folosit doar ca sa nu dea eroare codul in anumite situatii\n",
    "print('Dupa for')"
   ]
  },
  {
   "cell_type": "code",
   "execution_count": 64,
   "id": "4224f87b",
   "metadata": {},
   "outputs": [],
   "source": [
    "       "
   ]
  },
  {
   "cell_type": "code",
   "execution_count": 77,
   "id": "bef411c4",
   "metadata": {},
   "outputs": [
    {
     "name": "stdout",
     "output_type": "stream",
     "text": [
      "['Black', 'Red']\n",
      "{'White'}\n",
      "White\n"
     ]
    }
   ],
   "source": [
    "# Given the lists: lst1 = [\"Black\", \"White\", \"Red\"] and lst2 = [\"Red\", \"Green\"]. \n",
    "# What do I write to get: \"Black\", \"White\" ? Using some relation between the 2 lists.\n",
    "# Vrem elem din lst1 care nu sunt in lst2!\n",
    "lst1 = [\"Black\", \"Red\", \"Grey\", \"White\"]\n",
    "lst2 = [\"Red\", \"Green\", \"Blue\", \"Grey\", \"Black\"]\n",
    "\n",
    "print(lst1[0:2])  # tre tinut cont de toate cazurile si lst1 are alta ordine a elementelor\n",
    "\n",
    "# v1\n",
    "print(set(lst1) - set(lst2))\n",
    "\n",
    "# v2\n",
    "for elem in lst1:\n",
    "    if elem not in lst2:\n",
    "        print(elem)\n"
   ]
  },
  {
   "cell_type": "code",
   "execution_count": 78,
   "id": "a49bc56e",
   "metadata": {},
   "outputs": [
    {
     "name": "stdout",
     "output_type": "stream",
     "text": [
      "[1, 2, 3, 4, 5]\n"
     ]
    }
   ],
   "source": [
    "# Remove the duplicates from this list please! lst = [1,2,3,3,1,1,4,5,5] => [1,2,3,4,5]\n",
    "\n",
    "# v1\n",
    "lst = [1,2,3,3,1,1,4,5,5]\n",
    "lst_n = []\n",
    "for n in lst:\n",
    "    if n not in lst_n:\n",
    "        lst_n.append(n)\n",
    "print(lst_n)\n",
    "\n",
    "# v2\n",
    "lst = [1,2,3,3,1,1,4,5,5]\n",
    "print(list(set(lst)))"
   ]
  },
  {
   "cell_type": "code",
   "execution_count": 79,
   "id": "32346e06",
   "metadata": {},
   "outputs": [],
   "source": [
    "# Sa da o lista cu nume names_list = [\"Valentina\", \"Raluca\", Cristian\", \"Arthur\", \"Vlad\", \"Florina\", \"Dan\", \"Tudor\", \"Gabi\"].\n",
    "# Iterati lista, verificati daca numele incepe cu litera 'V', in caz afirmativ, sariti peste numele respectiv.\n",
    "# In caz contrar afisati o structura de date formata din nume si indexul din lista unde a fost intalnit.\n",
    "names_list = [\"Valentina\", \"Raluca\", \"Cristian\", \"Arthur\", \"Vlad\", \"Florina\", \"Dan\", \"Tudor\", \"Gabi\"]\n",
    "\n",
    "# V1\n",
    "for nume in names_list:\n",
    "    if nume[0] == \"V\":\n",
    "        continue\n",
    "    print(nume, names_list.index(nume))\n",
    "\n",
    "#V2\n",
    "for idx_nume, nume in enumerate(names_list):\n",
    "    if nume[0] == \"V\":\n",
    "        continue\n",
    "    print(nume, idx_nume)"
   ]
  },
  {
   "cell_type": "code",
   "execution_count": 80,
   "id": "20ca72b9",
   "metadata": {},
   "outputs": [],
   "source": [
    "# Se dau 2 numere naturale a si b introduse de la tastatura, cu proprietatea ca a<b.\n",
    "# Sa se construiasca lista formata din numerele din intervalul [a,b] care sunt divizibile fie cu 3 fie cu 17.\n",
    "# Daca se gaseste un numar care este divizibil cu ambele, se intrerupe executia programului.\n",
    "# Daca se ajunge la capatul intervalului se afiseaza mesajul \"Ati ajuns la finalul intervalului\" (folositi`va de conditia invatata adineaori)\n",
    "\n",
    "a = int(input('Introduceti inceputul intervalului'))\n",
    "b = int(input('Introduceti sfarsitul intervalului'))\n",
    "lst_nr = []\n",
    "for nr in range(a,b):\n",
    "    if (nr % 3 == 0) and (nr % 17 == 0):\n",
    "        break\n",
    "    elif (nr % 3 == 0) or (nr % 17 == 0):\n",
    "        lst_nr.append(nr)\n",
    "else:\n",
    "    print('Ati ajuns la finalul intervalului')\n",
    "print(lst_nr)"
   ]
  },
  {
   "cell_type": "code",
   "execution_count": 81,
   "id": "084dadd3",
   "metadata": {},
   "outputs": [
    {
     "name": "stdout",
     "output_type": "stream",
     "text": [
      "15\n",
      "13\n",
      "12\n",
      "9\n",
      "8\n",
      "5\n",
      "3\n",
      "2\n"
     ]
    }
   ],
   "source": [
    "# Se da un numar n=15, scrieti o bucla care printeaza numarul si il decrementeaza\n",
    "# pana cand acesta atinge 0. Decrementarea se face astfel:\n",
    "# - cu 2 daca numarul e divizibil cu 5;\n",
    "# - cu 3 daca e numar par;\n",
    "# - cu 1 daca e numar impar.\n",
    "n=15\n",
    "\n",
    "while n>0:\n",
    "    print(n)\n",
    "    if n%5==0:\n",
    "        n-=2\n",
    "    elif n%2==0:\n",
    "        n-=3\n",
    "    else:\n",
    "        n-=1"
   ]
  },
  {
   "cell_type": "code",
   "execution_count": 95,
   "id": "3440741e",
   "metadata": {},
   "outputs": [
    {
     "name": "stdout",
     "output_type": "stream",
     "text": [
      "Give me your number: stop\n",
      "Nu ati introdus un numar!\n"
     ]
    }
   ],
   "source": [
    "# Print all the natural numbers lower than a keyboard inputed one. If the input is not a number,\n",
    "# raise an exception! Test with 15 then test with 'qwe'\n",
    "\n",
    "nr = input('Give me your number: ')\n",
    "try:\n",
    "    nr = int(nr)\n",
    "except:\n",
    "    print(\"Nu ati introdus un numar!\")\n",
    "else:\n",
    "    for i in range(nr):\n",
    "        print(i)\n"
   ]
  },
  {
   "cell_type": "code",
   "execution_count": 97,
   "id": "c44ee6c5",
   "metadata": {},
   "outputs": [
    {
     "name": "stdout",
     "output_type": "stream",
     "text": [
      "Give me your number: 15\n",
      "0\n",
      "1\n",
      "2\n",
      "3\n",
      "4\n",
      "5\n",
      "6\n",
      "7\n",
      "8\n",
      "9\n",
      "10\n",
      "11\n",
      "12\n",
      "13\n",
      "14\n",
      "Give me your number: stop\n"
     ]
    }
   ],
   "source": [
    "# Modify the previous exercise so that it runs in a loop (bucla ciclica: for/while)\n",
    "# until we input \"stop\"\n",
    "\n",
    "while True:   # poate fi o optiune de implementare pentru un sistem de login (verificare parola)\n",
    "    nr = input('Give me your number: ')\n",
    "    if nr == 'stop':\n",
    "        break\n",
    "    try:\n",
    "        nr = int(nr)\n",
    "    except:\n",
    "        print(\"Nu ati introdus un numar!\")\n",
    "    else:\n",
    "        for i in range(nr):\n",
    "            print(i)"
   ]
  },
  {
   "cell_type": "code",
   "execution_count": 99,
   "id": "05244c38",
   "metadata": {},
   "outputs": [
    {
     "name": "stdout",
     "output_type": "stream",
     "text": [
      "Give me your number: stop\n",
      "Nu ati introdus un numar!\n"
     ]
    }
   ],
   "source": [
    "looping = True\n",
    "while looping:\n",
    "    nr = input('Please insert your natural number: ')\n",
    "    try:\n",
    "        nr = int(nr)\n",
    "    except ValueError as e:\n",
    "        print(f'Please input a valid number! You got an exception: {e}')\n",
    "    else:\n",
    "        looping = False\n",
    "        for i in range(0, nr):\n",
    "            print(i)"
   ]
  },
  {
   "cell_type": "code",
   "execution_count": 100,
   "id": "ae8c3b6c",
   "metadata": {},
   "outputs": [
    {
     "name": "stdout",
     "output_type": "stream",
     "text": [
      "Give me your number: 15\n",
      "Give me your number: 3\n",
      "0\n",
      "1\n",
      "2\n",
      "Give me your number: stop\n",
      "Nu ati introdus un numar!\n"
     ]
    }
   ],
   "source": [
    "nr = input('Give me your number: ')\n",
    "# nu e cea mai optima... fiindca introducem de 2 ori numarul la prima iteratie(primul ciclu)\n",
    "while nr != 'stop' :   \n",
    "    nr = input('Give me your number: ')\n",
    "    try:\n",
    "        nr = int(nr)\n",
    "    except:\n",
    "        print(\"Nu ati introdus un numar!\")\n",
    "    else:\n",
    "        for i in range(nr):\n",
    "            print(i)"
   ]
  }
 ],
 "metadata": {
  "kernelspec": {
   "display_name": "Python 3 (ipykernel)",
   "language": "python",
   "name": "python3"
  },
  "language_info": {
   "codemirror_mode": {
    "name": "ipython",
    "version": 3
   },
   "file_extension": ".py",
   "mimetype": "text/x-python",
   "name": "python",
   "nbconvert_exporter": "python",
   "pygments_lexer": "ipython3",
   "version": "3.10.2"
  }
 },
 "nbformat": 4,
 "nbformat_minor": 5
}
