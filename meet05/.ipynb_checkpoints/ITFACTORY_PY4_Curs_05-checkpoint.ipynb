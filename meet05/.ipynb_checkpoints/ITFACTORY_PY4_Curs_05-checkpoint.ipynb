{
 "cells": [
  {
   "cell_type": "code",
   "execution_count": 6,
   "id": "75690e23",
   "metadata": {},
   "outputs": [
    {
     "name": "stdout",
     "output_type": "stream",
     "text": [
      "Audi\n",
      "Volvo\n",
      "BMW\n",
      "Mercedes\n",
      "Aston Martin\n",
      "Lastun\n",
      "Fiat\n",
      "Trabant\n",
      "Opel\n",
      "0 Audi\n",
      "1 Volvo\n",
      "2 BMW\n",
      "3 Mercedes\n",
      "4 Aston Martin\n",
      "5 Lastun\n",
      "6 Fiat\n",
      "7 Trabant\n",
      "8 Opel\n"
     ]
    }
   ],
   "source": [
    "# Cum iteram printr`o lista folosindu`ne de range?\n",
    "masini = ['Audi', 'Volvo', 'BMW', 'Mercedes', 'Aston Martin', 'Lastun', 'Fiat', 'Trabant', 'Opel']\n",
    "\n",
    "for idx in range(len(masini)):\n",
    "    print(masini[idx])\n",
    "    \n",
    "for idx, masina in enumerate(masini):\n",
    "    print(idx, masina)"
   ]
  },
  {
   "cell_type": "code",
   "execution_count": 9,
   "id": "2decb9b1",
   "metadata": {},
   "outputs": [
    {
     "name": "stdout",
     "output_type": "stream",
     "text": [
      "1\n",
      "2\n",
      "3\n",
      "4\n",
      "5\n",
      "6\n",
      "7\n",
      "8\n",
      "9\n",
      "0\n"
     ]
    }
   ],
   "source": [
    "# Cum iteram peste o lista nested (imbricata? cred ca asa e in romana) \n",
    "tastatura_telefon = [\n",
    "  [1, 2, 3],\n",
    "  [4, 5, 6],\n",
    "  [7, 8, 9],\n",
    "  [0]\n",
    "]\n",
    "\n",
    "for rand in tastatura_telefon:\n",
    "    for buton in rand:\n",
    "        print(buton)"
   ]
  },
  {
   "cell_type": "markdown",
   "id": "435ff8ea",
   "metadata": {},
   "source": [
    "# FUNCTII"
   ]
  },
  {
   "cell_type": "code",
   "execution_count": 15,
   "id": "654485d1",
   "metadata": {},
   "outputs": [
    {
     "name": "stdout",
     "output_type": "stream",
     "text": [
      "Salut\n",
      "Hello!!\n"
     ]
    }
   ],
   "source": [
    "def greeting():\n",
    "    print('Hello!!')\n",
    "\n",
    "print('Salut')\n",
    "\n",
    "greeting()  # Python e un limbaj interpratat, deci codul se executa linie cu linie de sus in jos"
   ]
  },
  {
   "cell_type": "code",
   "execution_count": 19,
   "id": "20911740",
   "metadata": {},
   "outputs": [
    {
     "name": "stdout",
     "output_type": "stream",
     "text": [
      "Hello, World\n",
      "Hello, Universe\n"
     ]
    }
   ],
   "source": [
    "def greeting(name):\n",
    "    print(f'Hello, {name}')\n",
    "    \n",
    "greeting('World')\n",
    "greeting('Universe')"
   ]
  },
  {
   "cell_type": "code",
   "execution_count": 24,
   "id": "9e5d2729",
   "metadata": {},
   "outputs": [
    {
     "name": "stdout",
     "output_type": "stream",
     "text": [
      "11\n",
      "-5\n"
     ]
    }
   ],
   "source": [
    "# vrem sa scriem o functie care printeaza suma a 2 numere date ca argument\n",
    "def sum2(nr1, nr2):\n",
    "    print(nr1 + nr2)\n",
    "\n",
    "sum2(5,6)\n",
    "sum2(2,-7)\n",
    "\n"
   ]
  },
  {
   "cell_type": "code",
   "execution_count": 26,
   "id": "f743bf7d",
   "metadata": {},
   "outputs": [
    {
     "name": "stdout",
     "output_type": "stream",
     "text": [
      "11\n",
      "9\n"
     ]
    }
   ],
   "source": [
    "# vrem sa scriem o functie care printeaza suma a 2 numere date ca argument\n",
    "# daca cumva unu dintre numere e negativ, il facem pozitiv inainte sa le afisam suma\n",
    "def sum2_v2(nr1, nr2):\n",
    "    if nr1 < 0:\n",
    "        nr1 = -nr1\n",
    "    if nr2 < 0:\n",
    "        nr2 = -nr2\n",
    "    print(nr1 + nr2)\n",
    "\n",
    "sum2(5,6)\n",
    "sum2(2,-7)"
   ]
  },
  {
   "cell_type": "code",
   "execution_count": 34,
   "id": "3f983e1f",
   "metadata": {},
   "outputs": [
    {
     "name": "stdout",
     "output_type": "stream",
     "text": [
      "Nr e natural\n"
     ]
    }
   ],
   "source": [
    "def is_natural(nr):\n",
    "    if nr >= 0:\n",
    "        return 'Nr e natural'\n",
    "    else:\n",
    "        return 'Nr nu e natural'\n",
    "    print('????')   # linia de cod nu se mai executa fiindca am dat de un return\n",
    "\n",
    "# print(is_natural(5))\n",
    "raspuns = is_natural(5)\n",
    "print(raspuns)"
   ]
  },
  {
   "cell_type": "code",
   "execution_count": 36,
   "id": "5a59a8b4",
   "metadata": {},
   "outputs": [
    {
     "name": "stdout",
     "output_type": "stream",
     "text": [
      "Suma 11 este impara\n"
     ]
    }
   ],
   "source": [
    "# vrem sa scriem o functie care returneaza suma a 2 numere date ca argument\n",
    "def sum2_returned(nr1, nr2):\n",
    "    return nr1 + nr2\n",
    "\n",
    "s = sum2_returned(5, 6)\n",
    "\n",
    "# verific daca suma e para sau impara\n",
    "if s % 2 == 0:\n",
    "    print(f'Suma {s} este para')\n",
    "else:\n",
    "    print(f'Suma {s} este impara')\n",
    "    "
   ]
  },
  {
   "cell_type": "code",
   "execution_count": 39,
   "id": "61ac6e9f",
   "metadata": {},
   "outputs": [
    {
     "name": "stdout",
     "output_type": "stream",
     "text": [
      "Hello, John\n",
      "Hello, World\n"
     ]
    }
   ],
   "source": [
    "def greeting(name='World'):\n",
    "    print(f'Hello, {name}')\n",
    "    \n",
    "greeting('John')\n",
    "greeting()"
   ]
  },
  {
   "cell_type": "code",
   "execution_count": 44,
   "id": "a2e990a5",
   "metadata": {},
   "outputs": [
    {
     "name": "stdout",
     "output_type": "stream",
     "text": [
      "Hello, my name is John and i`m 20 years old.\n",
      "Hello, my name is World and i`m 20000000 years old.\n"
     ]
    }
   ],
   "source": [
    "def greeting(age, name='World'):\n",
    "    print(f'Hello, my name is {name} and i`m {age} years old.')\n",
    "    \n",
    "greeting(20, 'John')\n",
    "greeting(20000000)"
   ]
  },
  {
   "cell_type": "code",
   "execution_count": 45,
   "id": "07227cfc",
   "metadata": {},
   "outputs": [
    {
     "data": {
      "text/plain": [
       "10"
      ]
     },
     "execution_count": 45,
     "metadata": {},
     "output_type": "execute_result"
    }
   ],
   "source": [
    "# vrem sa adunam 4 numere si sa returnam suma \n",
    "def sum4(nr1, nr2, nr3, nr4):\n",
    "    return nr1 + nr2 + nr3 + nr4\n",
    "\n",
    "sum4(1,2,3,4)"
   ]
  },
  {
   "cell_type": "code",
   "execution_count": 52,
   "id": "803bbfc5",
   "metadata": {},
   "outputs": [
    {
     "name": "stdout",
     "output_type": "stream",
     "text": [
      "<class 'tuple'>\n",
      "24\n"
     ]
    }
   ],
   "source": [
    "# daca vrem sa adunam 10 sau 100 de nr ??.... \n",
    "# practic vrem sa avem un numar nedefinit de argumente\n",
    "def sumN(*args):\n",
    "    print(type(args))\n",
    "    s = 0\n",
    "    for arg in args:\n",
    "        s += arg\n",
    "    return s\n",
    "\n",
    "s = sumN(1,2,3,4,5,9)\n",
    "print(s)"
   ]
  },
  {
   "cell_type": "code",
   "execution_count": 72,
   "id": "0cb77942",
   "metadata": {},
   "outputs": [
    {
     "name": "stdout",
     "output_type": "stream",
     "text": [
      "<class 'dict'>\n",
      "23000000\n"
     ]
    }
   ],
   "source": [
    "def sum_of_population(**kwargs):\n",
    "    print(type(kwargs))\n",
    "    s = 0\n",
    "#     for key in kwargs:\n",
    "#         s += kwargs[key]\n",
    "\n",
    "\n",
    "## sau\n",
    "#     for _, value in kwargs.items():  # _ semnifica o variabila pe care nu o folosim, dar avem nevoie de ea sintactic\n",
    "#         s += value\n",
    "    \n",
    "## sau\n",
    "    for kv_tuple in kwargs.items():\n",
    "        s += kv_tuple[1]\n",
    "    return s\n",
    "\n",
    "# print(sum_of_population(**{'Romania': 19000000, 'Moldova': 4000000}))\n",
    "print(sum_of_population(Romania=19000000, Moldova=4000000))"
   ]
  },
  {
   "cell_type": "code",
   "execution_count": 65,
   "id": "5869f02d",
   "metadata": {},
   "outputs": [
    {
     "name": "stdout",
     "output_type": "stream",
     "text": [
      "19000000\n"
     ]
    }
   ],
   "source": [
    "# vreau sa printez doar populatia Romaniei\n",
    "def population_of_Romania(**kwargs):\n",
    "    print(kwargs['Romania'])\n",
    "\n",
    "population_of_Romania(Romania=19000000, Moldova=4000000)"
   ]
  },
  {
   "cell_type": "code",
   "execution_count": 68,
   "id": "a389735a",
   "metadata": {},
   "outputs": [
    {
     "name": "stdout",
     "output_type": "stream",
     "text": [
      "Salut, 3\n",
      "9\n"
     ]
    }
   ],
   "source": [
    "# vrem sa salutam pe persoana data de primul argument name si sa returnam suma celorlalte argumente\n",
    "def greeting_and_sum_of_n_numbers(name, *args):\n",
    "    print(f'Salut, {name}')\n",
    "    s = 0\n",
    "    for arg in args:\n",
    "        s += arg\n",
    "    return s\n",
    "\n",
    "sum_returned = greeting_and_sum_of_n_numbers(3,4,5)  # atentie! name isi ia prima valoare, iar restu intra in args!!\n",
    "print(sum_returned)"
   ]
  },
  {
   "cell_type": "code",
   "execution_count": 76,
   "id": "2a105d8e",
   "metadata": {},
   "outputs": [
    {
     "name": "stdout",
     "output_type": "stream",
     "text": [
      "2372000\n"
     ]
    }
   ],
   "source": [
    "def get_sum_population(**kwargs):\n",
    "    s = 0\n",
    "    for key in kwargs:\n",
    "        s += kwargs[key]\n",
    "    print(s)\n",
    "\n",
    "my_dict = {'Bucuresti': 2000000, 'Cluj-Napoca': 350000, 'Aiud': 22000}\n",
    "# get_sum_population(Bucuresti=2000000, Cluj-Napoca=350000, Aiud=22000)  # eroare din cauza cratimei !!!\n",
    "get_sum_population(**my_dict)"
   ]
  },
  {
   "cell_type": "code",
   "execution_count": 79,
   "id": "56ef8a3d",
   "metadata": {
    "scrolled": true
   },
   "outputs": [
    {
     "name": "stdout",
     "output_type": "stream",
     "text": [
      "1\n",
      "2\n",
      "3\n",
      "4\n"
     ]
    }
   ],
   "source": [
    "# Write a function that takes as argument a natural number and prints all natural numbers between 0 and itself, (0, nr)\n",
    "def to_number(nr):\n",
    "    for elem in range(1,nr):\n",
    "        print(elem)\n",
    "    \n",
    "to_number(5)"
   ]
  },
  {
   "cell_type": "code",
   "execution_count": 82,
   "id": "49cfdfa2",
   "metadata": {},
   "outputs": [
    {
     "name": "stdout",
     "output_type": "stream",
     "text": [
      "[1, 2, 3, 4]\n"
     ]
    }
   ],
   "source": [
    "# Modify the previous function to return the numbers inside a list instead \n",
    "# 1,2,3,4\n",
    "def to_number(nr):\n",
    "    my_list = []\n",
    "    for elem in range(1,nr):\n",
    "        my_list.append(elem)\n",
    "    return my_list\n",
    "    \n",
    "l = to_number(5)  # ar trebui sa returneze [1,2,3,4]\n",
    "print(l)"
   ]
  },
  {
   "cell_type": "code",
   "execution_count": 83,
   "id": "94423b4f",
   "metadata": {},
   "outputs": [],
   "source": [
    "# Write a function that takes as argument a natural number x and an optional argument natural number y  \n",
    "#(that if not passed, takes as default value 2). The function which will print the result of x to the power y \n",
    "# as a verbose f-string: \"The result of x={} to the power of y={} is:{} \"\n"
   ]
  },
  {
   "cell_type": "code",
   "execution_count": 84,
   "id": "01541df2",
   "metadata": {},
   "outputs": [],
   "source": [
    "# Write a function that has one string argument and creates a substring made of the first, middle and last character of the string\n",
    "# e.g.:  subtring('Michael') => 'Mhl'\n",
    "#        substring('Adrian')  => 'Arn' / 'Ain' (either one works)"
   ]
  },
  {
   "cell_type": "code",
   "execution_count": 85,
   "id": "e96c3d08",
   "metadata": {},
   "outputs": [],
   "source": [
    "# Given 2 strings as arguments s1 and s2, write a function that appends s2 in the middle of s1\n",
    "# e.g.:  append_midd# le('Legendary', 'wait')  => 'Legewaitndary'\n",
    "#        append_middle('mama', 'MIA')  =>  'maMIAma'"
   ]
  },
  {
   "cell_type": "code",
   "execution_count": 91,
   "id": "128a3cbc",
   "metadata": {},
   "outputs": [
    {
     "name": "stdout",
     "output_type": "stream",
     "text": [
      "one-two-three\n",
      "one-two-three-four-five\n",
      "one-two-three\n"
     ]
    }
   ],
   "source": [
    "# Write a function that takes any number of string arguments and will return the string formed \n",
    "# from the arguments separated by -\n",
    "# e.g.: coma_separated('one', 'two', 'three') => 'one-two-three'\n",
    "# coma_separated('one', 'two', 'three', 'four', 'five') => 'one-two-three-four-five'\n",
    "def coma_separated(*args):\n",
    "    result_string = ''\n",
    "    for elem in args:\n",
    "        result_string += elem + '-'\n",
    "    return result_string[:-1]\n",
    "    \n",
    "    \n",
    "def coma_separated_v2(*args):\n",
    "    result_string = '-'.join(args)\n",
    "    print(result_string)\n",
    "    \n",
    "print(coma_separated('one', 'two', 'three'))\n",
    "print(coma_separated('one', 'two', 'three', 'four', 'five'))\n",
    "\n",
    "coma_separated_v2('one', 'two', 'three')"
   ]
  },
  {
   "cell_type": "code",
   "execution_count": null,
   "id": "f9a46c07",
   "metadata": {},
   "outputs": [],
   "source": [
    "# TODO (Tema_05 Ex 21): Write a function that checks whether a natural number given as parameter (argument) is prime or not\n",
    "# e.g.: is_prime(17) => True\n",
    "# is_prime(8) => False\n",
    "\n",
    "# un numar e prim daca se imparte exact NUMAI la 1 si la el insusi! nu are niciun alt divizor"
   ]
  },
  {
   "cell_type": "code",
   "execution_count": null,
   "id": "967adfe5",
   "metadata": {},
   "outputs": [],
   "source": [
    "# TODO (Tema_05 Ex 22): Create a function that has 2 parameters a,b, with a<b that returns the list of prime numbers in interval [a,b]\n",
    "# e.g.: list_of_pimes_in_interval(3, 31) => [3,5,7,11,......]"
   ]
  },
  {
   "cell_type": "code",
   "execution_count": null,
   "id": "42453f93",
   "metadata": {},
   "outputs": [],
   "source": []
  },
  {
   "cell_type": "code",
   "execution_count": null,
   "id": "8d779d01",
   "metadata": {},
   "outputs": [],
   "source": []
  },
  {
   "cell_type": "code",
   "execution_count": null,
   "id": "09e9340b",
   "metadata": {},
   "outputs": [],
   "source": []
  },
  {
   "cell_type": "code",
   "execution_count": null,
   "id": "478ed097",
   "metadata": {},
   "outputs": [],
   "source": []
  }
 ],
 "metadata": {
  "kernelspec": {
   "display_name": "Python 3 (ipykernel)",
   "language": "python",
   "name": "python3"
  },
  "language_info": {
   "codemirror_mode": {
    "name": "ipython",
    "version": 3
   },
   "file_extension": ".py",
   "mimetype": "text/x-python",
   "name": "python",
   "nbconvert_exporter": "python",
   "pygments_lexer": "ipython3",
   "version": "3.10.2"
  }
 },
 "nbformat": 4,
 "nbformat_minor": 5
}
